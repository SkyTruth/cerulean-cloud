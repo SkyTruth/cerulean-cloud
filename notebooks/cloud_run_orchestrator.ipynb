{
 "cells": [
  {
   "cell_type": "code",
   "execution_count": 1,
   "id": "97af8f35",
   "metadata": {},
   "outputs": [],
   "source": [
    "import httpx"
   ]
  },
  {
   "cell_type": "code",
   "execution_count": 2,
   "id": "12c87154",
   "metadata": {},
   "outputs": [],
   "source": [
    "URL = \"https://cerulean-cloud-test-cloud-run-orchestrator-5qkjkyomta-ew.a.run.app\"\n",
    "# FILL THIS IN\n",
    "API_KEY=\"###\""
   ]
  },
  {
   "cell_type": "code",
   "execution_count": 3,
   "id": "7c995625",
   "metadata": {},
   "outputs": [],
   "source": [
    "orchestrator_result = httpx.post(URL+\"/orchestrate\", json={\"sceneid\": \"S1A_IW_GRDH_1SDV_20200729T034859_20200729T034924_033664_03E6D3_93EF\"}, timeout=None, headers={\"Authorization\": f\"Bearer {API_KEY}\"})\n",
    "\n",
    "\n",
    "print(orchestrator_result)"
   ]
  },
  {
   "cell_type": "code",
   "execution_count": null,
   "id": "5357b3a1",
   "metadata": {},
   "outputs": [],
   "source": [
    "result = orchestrator_result.json()\n",
    "print(result.keys())\n",
    "\n",
    "print(result[\"classification_base\"])\n",
    "print(result[\"classification_offset\"])"
   ]
  }
 ],
 "metadata": {
  "kernelspec": {
   "display_name": "Python 3.8.0 ('cerulean-cloud')",
   "language": "python",
   "name": "python3"
  },
  "language_info": {
   "codemirror_mode": {
    "name": "ipython",
    "version": 3
   },
   "file_extension": ".py",
   "mimetype": "text/x-python",
   "name": "python",
   "nbconvert_exporter": "python",
   "pygments_lexer": "ipython3",
   "version": "3.8.0"
  },
  "vscode": {
   "interpreter": {
    "hash": "241cf6741d16ff2d26ad55f98d53dc7a9f0cff7217ef774b4a2c91dc18b533d4"
   }
  }
 },
 "nbformat": 4,
 "nbformat_minor": 5
}
