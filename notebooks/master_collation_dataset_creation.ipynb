{
 "cells": [
  {
   "cell_type": "code",
   "execution_count": null,
   "metadata": {},
   "outputs": [],
   "source": [
    "import os\n",
    "import sys\n",
    "from dotenv import load_dotenv\n",
    "\n",
    "import pandas as pd\n",
    "import geopandas as gpd\n",
    "from shapely.geometry import Point\n",
    "from IPython.display import clear_output\n",
    "\n",
    "load_dotenv()\n",
    "\n",
    "# Set the download path for demonstration and ensure the folder exists.\n",
    "download_path = os.getenv(\"ASA_DOWNLOAD_PATH\")\n",
    "os.makedirs(download_path, exist_ok=True)\n",
    "\n",
    "git_path = os.getenv(\"GIT_FOLDER\")\n",
    "cv3_path = os.getenv(\"CV3_FOLDER\")\n",
    "sys.path.append(git_path)\n",
    "sys.path.append(cv3_path)"
   ]
  },
  {
   "cell_type": "code",
   "execution_count": null,
   "metadata": {},
   "outputs": [],
   "source": [
    "from cerulean_cloud.cloud_function_asa.utils.analyzer import (\n",
    "    AISAnalyzer,\n",
    "    InfrastructureAnalyzer,\n",
    "    DarkAnalyzer,\n",
    ")"
   ]
  },
  {
   "cell_type": "code",
   "execution_count": null,
   "metadata": {},
   "outputs": [],
   "source": [
    "# Import functions from your script.\n",
    "from asa_analysis.evaluation.source_analyzer_evaluation import (\n",
    "    label_dark_vessel_results_with_distance,\n",
    "    label_results_with_st_name,\n",
    "    apply_labeling,\n",
    "    process_groundtruth_on_analyzer,\n",
    ")"
   ]
  },
  {
   "cell_type": "code",
   "execution_count": null,
   "metadata": {},
   "outputs": [],
   "source": [
    "collation_datasets_folder = cv3_path + \"/asa_analysis/evaluation/\"\n",
    "\n",
    "dark_vess_df = pd.read_csv(\n",
    "    f\"{collation_datasets_folder}/refined_dark_vessel_dataset.csv\"\n",
    ")\n",
    "sar_detections = pd.read_csv(\n",
    "    f\"{collation_datasets_folder}/sar_detections_hitl_dark_ds.csv\"\n",
    ")\n",
    "sar_detections_infra_vess = pd.read_csv(\n",
    "    f\"{collation_datasets_folder}/gfw_sar_detections_for_hitl.csv\"\n",
    ").drop(columns=\"Unnamed: 0\")\n",
    "\n",
    "\n",
    "# Keep only rows where 'mmsi' is NaN (i.e. true dark vessel detections)\n",
    "# true_dark_vess_df = dark_vess_df[dark_vess_df['mmsi'].isna()]\n",
    "# Create a GeoDataFrame for dark vessels.\n",
    "dark_vessel_groundtruth = gpd.GeoDataFrame(\n",
    "    dark_vess_df,\n",
    "    geometry=gpd.points_from_xy(dark_vess_df[\"lon\"], dark_vess_df[\"lat\"]),\n",
    "    crs=\"EPSG:4326\",\n",
    ")\n",
    "\n",
    "# Process SAR detections (for example purposes; not used further in this demo).\n",
    "sar_detections_gdf = gpd.GeoDataFrame(\n",
    "    sar_detections,\n",
    "    geometry=gpd.points_from_xy(\n",
    "        sar_detections[\"detect_lon\"], sar_detections[\"detect_lat\"]\n",
    "    ),\n",
    "    crs=\"EPSG:4326\",\n",
    ")\n",
    "sar_detections_gdf = sar_detections_gdf[sar_detections_gdf[\"structure_id\"].isna()]\n",
    "sar_detections_gdf = sar_detections_gdf.reset_index()\n",
    "\n",
    "sar_detections_infra_vess_gdf = gpd.GeoDataFrame(\n",
    "    sar_detections_infra_vess,\n",
    "    geometry=gpd.points_from_xy(\n",
    "        sar_detections_infra_vess[\"detect_lon\"], sar_detections_infra_vess[\"detect_lat\"]\n",
    "    ),\n",
    "    crs=\"EPSG:4326\",\n",
    ")\n",
    "sar_detections_infra_vess_gdf = sar_detections_infra_vess_gdf[\n",
    "    sar_detections_infra_vess_gdf[\"structure_id\"].isna()\n",
    "]\n",
    "sar_detections_infra_vess_gdf = sar_detections_infra_vess_gdf.reset_index()\n",
    "\n",
    "# Load hitl CSV for vessel and infrastructure groundtruth.\n",
    "csv_path = f\"{collation_datasets_folder}/slick_to_source_2025-3-20.csv\"\n",
    "hitl_df = pd.read_csv(csv_path)\n",
    "\n",
    "# Extract groundtruth lists for infrastructure and vessels.\n",
    "infrastructure_groundtruth = hitl_df[\n",
    "    (hitl_df[\"type\"] == 2) & (hitl_df[\"hitl_verification\"])\n",
    "]\n",
    "vessel_groundtruth = hitl_df[(hitl_df[\"type\"] == 1) & (hitl_df[\"hitl_verification\"])]\n",
    "\n",
    "if \"slick\" in vessel_groundtruth.columns:\n",
    "    vessel_groundtruth = vessel_groundtruth.rename(columns={\"slick\": \"slick_id\"})\n",
    "if \"slick\" in infrastructure_groundtruth.columns:\n",
    "    infrastructure_groundtruth = infrastructure_groundtruth.rename(\n",
    "        columns={\"slick\": \"slick_id\"}\n",
    "    )\n",
    "\n",
    "df = pd.read_csv(f\"{collation_datasets_folder}/nonoise_SAR_Fixed_Infrastructure.csv\")\n",
    "gfw_gdf = gpd.GeoDataFrame(\n",
    "    df,\n",
    "    geometry=[Point(xy) for xy in zip(df[\"lon\"], df[\"lat\"])],\n",
    "    crs=\"EPSG:4326\",  # Set the coordinate reference system to WGS84\n",
    ")"
   ]
  },
  {
   "cell_type": "code",
   "execution_count": null,
   "metadata": {},
   "outputs": [],
   "source": [
    "run = \"/3-25-2025d\"  # when running multiple per day I use extra alphabetic identifier\n",
    "save_location = (\n",
    "    cv3_path + r\"\\asa_analysis\\evaluation\\saved_results\\collation datasets\" + run\n",
    ")"
   ]
  },
  {
   "cell_type": "code",
   "execution_count": null,
   "metadata": {},
   "outputs": [],
   "source": [
    "results_vessel_on_vessel_asa = process_groundtruth_on_analyzer(\n",
    "    AISAnalyzer,\n",
    "    vessel_groundtruth,\n",
    "    analyzer_params={},\n",
    "    filter_ais_infra=True,\n",
    "    reuse_ais_trajectories=True,\n",
    ")\n",
    "results_vessel_on_vessel_asa = apply_labeling(\n",
    "    results_vessel_on_vessel_asa, vessel_groundtruth, label_results_with_st_name\n",
    ")\n",
    "\n",
    "results_infra_on_vessel = process_groundtruth_on_analyzer(\n",
    "    AISAnalyzer,\n",
    "    infrastructure_groundtruth,\n",
    "    analyzer_params={},\n",
    "    reuse_ais_trajectories=True,\n",
    ")\n",
    "\n",
    "results_dark_on_vessel_asa = process_groundtruth_on_analyzer(\n",
    "    AISAnalyzer,\n",
    "    dark_vessel_groundtruth,\n",
    "    analyzer_params={},\n",
    "    reuse_ais_trajectories=True,\n",
    ")\n",
    "clear_output()"
   ]
  },
  {
   "cell_type": "code",
   "execution_count": null,
   "metadata": {},
   "outputs": [],
   "source": [
    "results_vessel_on_infra_asa = process_groundtruth_on_analyzer(\n",
    "    InfrastructureAnalyzer, vessel_groundtruth, points_gdf=gfw_gdf, analyzer_params={}\n",
    ")\n",
    "results_infra_on_infra = process_groundtruth_on_analyzer(\n",
    "    InfrastructureAnalyzer,\n",
    "    infrastructure_groundtruth,\n",
    "    points_gdf=gfw_gdf,\n",
    "    analyzer_params={},\n",
    ")\n",
    "results_dark_on_infra = process_groundtruth_on_analyzer(\n",
    "    InfrastructureAnalyzer,\n",
    "    dark_vessel_groundtruth,\n",
    "    points_gdf=gfw_gdf,\n",
    "    analyzer_params={},\n",
    ")\n",
    "clear_output()"
   ]
  },
  {
   "cell_type": "code",
   "execution_count": null,
   "metadata": {},
   "outputs": [],
   "source": [
    "results_vessel_on_dark_asa = process_groundtruth_on_analyzer(\n",
    "    DarkAnalyzer,\n",
    "    vessel_groundtruth,\n",
    "    points_gdf=sar_detections_infra_vess_gdf,\n",
    "    analyzer_params={},\n",
    ")\n",
    "\n",
    "results_infra_on_dark = process_groundtruth_on_analyzer(\n",
    "    DarkAnalyzer,\n",
    "    infrastructure_groundtruth,\n",
    "    points_gdf=sar_detections_infra_vess_gdf,\n",
    "    analyzer_params={},\n",
    ")\n",
    "\n",
    "results_dark_on_dark_asa = process_groundtruth_on_analyzer(\n",
    "    DarkAnalyzer,\n",
    "    dark_vessel_groundtruth,\n",
    "    points_gdf=sar_detections_gdf,\n",
    "    analyzer_params={},\n",
    ")\n",
    "\n",
    "results_dark_on_dark_asa = apply_labeling(\n",
    "    results_dark_on_dark_asa,\n",
    "    dark_vessel_groundtruth,\n",
    "    label_dark_vessel_results_with_distance,\n",
    ")\n",
    "clear_output()"
   ]
  },
  {
   "cell_type": "code",
   "execution_count": null,
   "metadata": {},
   "outputs": [],
   "source": [
    "print(\"Infra sources on Infra slicks:\", len(results_infra_on_infra))\n",
    "print(\"Dark sources on Infra slicks:\", len(results_infra_on_vessel))\n",
    "print(\"Dark sources on Dark slicks:\", len(results_vessel_on_vessel_asa))\n",
    "print(\"Infra sources on Dark slicks:\", len(results_vessel_on_infra_asa))"
   ]
  },
  {
   "cell_type": "code",
   "execution_count": null,
   "metadata": {},
   "outputs": [],
   "source": [
    "results_vessel_on_vessel_asa[\"st_name\"] = results_vessel_on_vessel_asa[\n",
    "    \"st_name\"\n",
    "].astype(int)"
   ]
  },
  {
   "cell_type": "code",
   "execution_count": null,
   "metadata": {},
   "outputs": [],
   "source": [
    "results_vessel_on_vessel_asa = apply_labeling(\n",
    "    results_vessel_on_vessel_asa, vessel_groundtruth, label_results_with_st_name\n",
    ")"
   ]
  },
  {
   "cell_type": "code",
   "execution_count": null,
   "metadata": {},
   "outputs": [],
   "source": [
    "results_infra_on_infra[\"st_name\"] = results_infra_on_infra[\"structure_id\"]\n",
    "results_vessel_labeled = apply_labeling(\n",
    "    results_vessel_on_vessel_asa, vessel_groundtruth, label_results_with_st_name\n",
    ")\n",
    "results_infra_labeled = apply_labeling(\n",
    "    results_infra_on_infra, infrastructure_groundtruth, label_results_with_st_name\n",
    ")\n",
    "results_dark_labeled = apply_labeling(\n",
    "    results_dark_on_dark_asa,\n",
    "    dark_vessel_groundtruth,\n",
    "    label_dark_vessel_results_with_distance,\n",
    ")"
   ]
  },
  {
   "cell_type": "code",
   "execution_count": null,
   "metadata": {},
   "outputs": [],
   "source": [
    "results_infra_on_vessel[\"truth\"] = False\n",
    "results_infra_on_vessel[\"slick_type\"] = 2\n",
    "results_infra_on_vessel[\"source_type\"] = 1\n",
    "# results_infra_on_dark[['slick_id', 'source_type', 'slick_type', 'truth', 'coincidence_score']]\n",
    "\n",
    "results_vessel_on_infra_asa[\"truth\"] = False\n",
    "results_vessel_on_infra_asa[\"slick_type\"] = 1\n",
    "results_vessel_on_infra_asa[\"source_type\"] = 2\n",
    "# results_dark_on_infra[['slick_id', 'source_type', 'slick_type', 'truth', 'coincidence_score']]\n",
    "\n",
    "results_infra_labeled[\"slick_type\"] = 2\n",
    "results_infra_labeled[\"source_type\"] = 2\n",
    "results_infra_labeled_truth = results_infra_labeled[results_infra_labeled[\"truth\"]]\n",
    "results_infra_labeled_truth[\n",
    "    [\"slick_id\", \"source_type\", \"slick_type\", \"truth\", \"coincidence_score\"]\n",
    "]\n",
    "\n",
    "results_vessel_labeled[\"slick_type\"] = 1\n",
    "results_vessel_labeled[\"source_type\"] = 1\n",
    "results_vessel_labeled_truth = results_vessel_labeled[results_vessel_labeled[\"truth\"]]\n",
    "len(\n",
    "    results_vessel_labeled_truth[\n",
    "        [\"slick_id\", \"source_type\", \"slick_type\", \"truth\", \"coincidence_score\"]\n",
    "    ]\n",
    ")"
   ]
  },
  {
   "cell_type": "code",
   "execution_count": null,
   "metadata": {},
   "outputs": [],
   "source": [
    "results_infra_on_dark[\"truth\"] = False\n",
    "results_infra_on_dark[\"slick_type\"] = 2\n",
    "results_infra_on_dark[\"source_type\"] = 3\n",
    "# results_infra_on_dark[['slick_id', 'source_type', 'slick_type', 'truth', 'coincidence_score']]\n",
    "\n",
    "results_dark_on_infra[\"truth\"] = False\n",
    "results_dark_on_infra[\"slick_type\"] = 3\n",
    "results_dark_on_infra[\"source_type\"] = 2\n",
    "# results_dark_on_infra[['slick_id', 'source_type', 'slick_type', 'truth', 'coincidence_score']]\n",
    "\n",
    "results_infra_labeled[\"slick_type\"] = 2\n",
    "results_infra_labeled[\"source_type\"] = 2\n",
    "results_infra_labeled_truth = results_infra_labeled[results_infra_labeled[\"truth\"]]\n",
    "results_infra_labeled_truth[\n",
    "    [\"slick_id\", \"source_type\", \"slick_type\", \"truth\", \"coincidence_score\"]\n",
    "]\n",
    "\n",
    "results_dark_labeled[\"slick_type\"] = 3\n",
    "results_dark_labeled[\"source_type\"] = 3\n",
    "results_dark_labeled_truth = results_dark_labeled[results_dark_labeled[\"truth\"]]\n",
    "len(\n",
    "    results_dark_labeled_truth[\n",
    "        [\"slick_id\", \"source_type\", \"slick_type\", \"truth\", \"coincidence_score\"]\n",
    "    ]\n",
    ")"
   ]
  },
  {
   "cell_type": "code",
   "execution_count": null,
   "metadata": {},
   "outputs": [],
   "source": [
    "results_full_infra_on_vessel = pd.concat(\n",
    "    [results_infra_on_vessel, results_infra_labeled_truth], ignore_index=True\n",
    ")\n",
    "results_full_vessel_on_infra = pd.concat(\n",
    "    [results_vessel_labeled_truth, results_vessel_on_infra_asa], ignore_index=True\n",
    ")\n",
    "results_full_dark_on_infra = pd.concat(\n",
    "    [results_dark_labeled_truth, results_dark_on_infra], ignore_index=True\n",
    ")\n",
    "results_full_infra_on_dark = pd.concat(\n",
    "    [results_infra_on_dark, results_infra_labeled_truth], ignore_index=True\n",
    ")"
   ]
  },
  {
   "cell_type": "code",
   "execution_count": null,
   "metadata": {},
   "outputs": [],
   "source": [
    "os.makedirs(save_location)"
   ]
  },
  {
   "cell_type": "code",
   "execution_count": null,
   "metadata": {},
   "outputs": [],
   "source": [
    "results_full_infra_on_vessel[\n",
    "    [\"slick_id\", \"source_type\", \"slick_type\", \"truth\", \"coincidence_score\"]\n",
    "].to_csv(save_location + \"/infra_slick_vessel_source.csv\", index=\"False\")"
   ]
  },
  {
   "cell_type": "code",
   "execution_count": null,
   "metadata": {},
   "outputs": [],
   "source": [
    "results_full_vessel_on_infra[\n",
    "    [\"slick_id\", \"source_type\", \"slick_type\", \"truth\", \"coincidence_score\"]\n",
    "].to_csv(save_location + \"/vessel_slick_infra_source.csv\", index=\"False\")"
   ]
  },
  {
   "cell_type": "code",
   "execution_count": null,
   "metadata": {},
   "outputs": [],
   "source": [
    "results_full_dark_on_infra[\n",
    "    [\"slick_id\", \"source_type\", \"slick_type\", \"truth\", \"coincidence_score\"]\n",
    "].to_csv(save_location + \"/dark_slick_infra_source.csv\", index=\"False\")"
   ]
  },
  {
   "cell_type": "code",
   "execution_count": null,
   "metadata": {},
   "outputs": [],
   "source": [
    "results_full_infra_on_dark[\n",
    "    [\"slick_id\", \"source_type\", \"slick_type\", \"truth\", \"coincidence_score\"]\n",
    "].to_csv(save_location + \"/infra_slick_dark_source.csv\", index=\"False\")"
   ]
  },
  {
   "cell_type": "code",
   "execution_count": null,
   "metadata": {},
   "outputs": [],
   "source": [
    "results_dark_on_vessel_asa[\"st_name\"] = results_dark_on_vessel_asa[\"st_name\"].astype(\n",
    "    int\n",
    ")"
   ]
  },
  {
   "cell_type": "code",
   "execution_count": null,
   "metadata": {},
   "outputs": [],
   "source": [
    "filtered_vessel_results_on_dark = (\n",
    "    results_dark_on_vessel_asa.merge(\n",
    "        dark_vessel_groundtruth.dropna(subset=[\"mmsi\"]).assign(  # Drop NaN values first\n",
    "            st_name=lambda df: df[\"mmsi\"].astype(int)\n",
    "        ),  # Convert only valid values\n",
    "        on=[\"slick_id\", \"st_name\"],\n",
    "        how=\"left\",\n",
    "        indicator=True,\n",
    "    )\n",
    "    .query('_merge == \"left_only\"')\n",
    "    .drop(columns=[\"_merge\"])\n",
    ")\n",
    "\n",
    "filtered_vessel_results_on_dark = filtered_vessel_results_on_dark.rename(\n",
    "    columns={\"coincidence_score_x\": \"coincidence_score\"}\n",
    ")\n",
    "filtered_vessel_results_on_dark = filtered_vessel_results_on_dark.rename(\n",
    "    columns={\"scene_id_x\": \"scene_id\"}\n",
    ")\n",
    "results_dark_on_dark_asa[\"source_type\"] = 3\n",
    "results_dark_on_dark_asa[\"slick_type\"] = 3\n",
    "filtered_vessel_results_on_dark[\"source_type\"] = 1\n",
    "filtered_vessel_results_on_dark[\"slick_type\"] = 3\n",
    "filtered_vessel_results_on_dark[\"truth\"] = False\n",
    "\n",
    "dark_truth_with_vessel = pd.concat(\n",
    "    [\n",
    "        filtered_vessel_results_on_dark,\n",
    "        results_dark_on_dark_asa[results_dark_on_dark_asa[\"truth\"]],\n",
    "    ]\n",
    ")"
   ]
  },
  {
   "cell_type": "code",
   "execution_count": null,
   "metadata": {},
   "outputs": [],
   "source": [
    "filtered_dark_results_on_vessel = (\n",
    "    results_vessel_on_dark_asa.merge(\n",
    "        vessel_groundtruth.dropna(subset=[\"st_name\"]).assign(  # Drop NaN values first\n",
    "            ssvid=lambda df: df[\"st_name\"].astype(int)\n",
    "        ),  # Convert only valid values\n",
    "        on=[\"slick_id\", \"ssvid\"],\n",
    "        how=\"left\",\n",
    "        indicator=True,\n",
    "    )\n",
    "    .query('_merge == \"left_only\"')\n",
    "    .drop(columns=[\"_merge\"])\n",
    ")\n",
    "\n",
    "filtered_dark_results_on_vessel = filtered_dark_results_on_vessel.rename(\n",
    "    columns={\"coincidence_score_x\": \"coincidence_score\"}\n",
    ")\n",
    "filtered_dark_results_on_vessel = filtered_dark_results_on_vessel.rename(\n",
    "    columns={\"scene_id_x\": \"scene_id\"}\n",
    ")\n",
    "\n",
    "results_vessel_on_vessel_asa[\"source_type\"] = 1\n",
    "results_vessel_on_vessel_asa[\"slick_type\"] = 1\n",
    "filtered_dark_results_on_vessel[\"source_type\"] = 3\n",
    "filtered_dark_results_on_vessel[\"slick_type\"] = 1\n",
    "filtered_dark_results_on_vessel[\"truth\"] = False\n",
    "\n",
    "vessel_truth_with_dark = pd.concat(\n",
    "    [\n",
    "        filtered_dark_results_on_vessel,\n",
    "        results_vessel_on_vessel_asa[results_vessel_on_vessel_asa[\"truth\"]],\n",
    "    ]\n",
    ")"
   ]
  },
  {
   "cell_type": "code",
   "execution_count": null,
   "metadata": {},
   "outputs": [],
   "source": [
    "dark_truth_with_vessel[\n",
    "    [\"slick_id\", \"source_type\", \"slick_type\", \"truth\", \"coincidence_score\"]\n",
    "].to_csv(save_location + \"/dark_slick_vessel_source.csv\", index=False)"
   ]
  },
  {
   "cell_type": "code",
   "execution_count": null,
   "metadata": {},
   "outputs": [],
   "source": [
    "vessel_truth_with_dark[\n",
    "    [\"slick_id\", \"source_type\", \"slick_type\", \"truth\", \"coincidence_score\"]\n",
    "].to_csv(save_location + \"/vessel_slick_dark_source.csv\", index=False)"
   ]
  },
  {
   "cell_type": "code",
   "execution_count": null,
   "metadata": {},
   "outputs": [],
   "source": [
    "results_vessel_on_vessel_asa[\"truth\"].any()"
   ]
  }
 ],
 "metadata": {
  "kernelspec": {
   "display_name": "Python 3",
   "language": "python",
   "name": "python3"
  },
  "language_info": {
   "codemirror_mode": {
    "name": "ipython",
    "version": 3
   },
   "file_extension": ".py",
   "mimetype": "text/x-python",
   "name": "python",
   "nbconvert_exporter": "python",
   "pygments_lexer": "ipython3",
   "version": "3.11.5"
  }
 },
 "nbformat": 4,
 "nbformat_minor": 2
}
