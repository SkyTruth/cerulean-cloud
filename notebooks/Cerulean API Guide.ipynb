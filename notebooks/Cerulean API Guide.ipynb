{
  "cells": [
    {
      "cell_type": "markdown",
      "metadata": {
        "id": "NW_mI607d6Jq"
      },
      "source": [
        "# Cerulean API Documentation\n",
        "\n",
        "For most users, we recommend using the [Cerulean web application](https://cerulean.skytruth.org/), which provides a visual interface for exploring the complete set of Cerulean data layers. For users who want to directly access and download oil slick detection data, we provide programmatic free access to an OGC compliant API ([api.cerulean.skytruth.org](https://api.cerulean.skytruth.org)). Currently, only oil slick detections can be downloaded. Data used for source identification, including AIS tracks, vessel identities, and offshore oil platform locations, cannot be downloaded and can only be accessed via the Cerulean web application. API queries can be made programmatically (e.g. a curl request in Python) for direct data access and download. You can also execute API queries within a browser by pasting an API command into your browser’s address bar, which will then show the results of your query, including a helpful paginated map, or download the data directly. Below, we provide some working examples of common data queries from our API. This is only a small sample of the types of queries that are possible. To dig deeper, please see our full API docs and check out the current documentation for [tipg](https://developmentseed.org/tipg/) and [CQL-2](https://cran.r-project.org/web/packages/rstac/vignettes/rstac-02-cql2.html), both of which are used by our API."
      ]
    },
    {
      "cell_type": "code",
      "execution_count": null,
      "metadata": {
        "id": "XzqE4aTknLqQ"
      },
      "outputs": [],
      "source": [
        "from IPython.display import clear_output\n",
        "!pip install contextily\n",
        "clear_output()"
      ]
    },
    {
      "cell_type": "code",
      "execution_count": null,
      "metadata": {
        "id": "r1eO-22Hf8l2"
      },
      "outputs": [],
      "source": [
        "import requests\n",
        "import pandas as pd\n",
        "from io import StringIO\n",
        "import geopandas as gpd\n",
        "import contextily as ctx\n",
        "import matplotlib.pyplot as plt"
      ]
    },
    {
      "cell_type": "code",
      "execution_count": null,
      "metadata": {
        "id": "LJNP5mBqkSDP"
      },
      "outputs": [],
      "source": [
        "def query_to_gdf_vis(data):\n",
        "    gdf = gpd.GeoDataFrame.from_features(data[\"features\"])\n",
        "    gdf.crs = \"EPSG:4326\"\n",
        "    gdf = gdf.to_crs(epsg=3857)\n",
        "    ax = gdf.plot(figsize=(10, 10), alpha=0.5, edgecolor=\"k\")\n",
        "    ctx.add_basemap(\n",
        "        ax, source=ctx.providers.OpenStreetMap.Mapnik, crs=gdf.crs.to_string()\n",
        "    )\n",
        "    plt.show()"
      ]
    },
    {
      "cell_type": "markdown",
      "metadata": {
        "id": "_MrjJXfbVNwz"
      },
      "source": [
        "\n",
        "\n",
        "# Example 1. Return slicks within a bounding box\n",
        "\n",
        "For our first example, let's return slick detection data found within a specific geographic area. To do this, you can use the bounding box (bbox) pattern. For example, the below command will download model detections near the Strait of Hormuz, using this bbox parameter as input:\n",
        "\n",
        "```\n",
        "?bbox=53.6,23.6,59.9,28.1\"\n",
        "```\n",
        "\n",
        "\n",
        "\n",
        "\n",
        "**NOTE:** In our examples we use a limit parameter to limit the number of entries returned from a query. If unspecified, all requests have a default limit value of 10: `&limit=10`. To make use of pagination, you can also use the parameter `&offset=60` to return entries starting at any arbitrary row (shown here returning from row 61 onwards).\n"
      ]
    },
    {
      "cell_type": "code",
      "execution_count": null,
      "metadata": {
        "id": "8woQ6a6BJBtr"
      },
      "outputs": [],
      "source": [
        "example_1_url = (\n",
        "    \"https://api.cerulean.skytruth.org/collections/public.slick_plus/items\"\n",
        "    \"?bbox=53.6,23.6,59.9,28.1\"\n",
        "    \"&limit=100\"\n",
        ")\n",
        "\n",
        "response = requests.get(example_1_url)\n",
        "if response.status_code == 200:\n",
        "    data = response.json()\n",
        "else:\n",
        "    print(\"Response failed with code\", response.status_code)"
      ]
    },
    {
      "cell_type": "code",
      "execution_count": null,
      "metadata": {
        "colab": {
          "base_uri": "https://localhost:8080/",
          "height": 583
        },
        "id": "fzvmRZyDWXjb",
        "outputId": "6d92ae04-a58f-4d89-ca10-a30690311337"
      },
      "outputs": [],
      "source": [
        "query_to_gdf_vis(data)"
      ]
    },
    {
      "cell_type": "markdown",
      "metadata": {
        "id": "NIwDKWBFjvHO"
      },
      "source": [
        "# Example 2. Query by date and time range\n",
        "\n",
        "For our next example, let’s add a datetime filter to return slick detection data from December, 2023, sorted by slick_timestamp. To do this, we specify a sorting function (`?sortby=slick_timestamp`) and provide a start and end datetime. The required date format is YYYY-MM-DDTHH:MM:SSZ, where the time is in UTC (which matches the timezone of S1 imagery naming convention).\n"
      ]
    },
    {
      "cell_type": "code",
      "execution_count": null,
      "metadata": {
        "id": "PJkRdx4Wd2Cw"
      },
      "outputs": [],
      "source": [
        "example_2_url = (\n",
        "    \"https://api.cerulean.skytruth.org/collections/public.slick_plus/items\"\n",
        "    \"?bbox=53.6,23.6,59.9,28.1\"\n",
        "    \"&sortby=slick_timestamp\"\n",
        "    \"&datetime=2023-12-01T00:00:00Z/2023-12-30T00:00:00Z\"\n",
        "    \"&limit=100\"\n",
        ")\n",
        "response = requests.get(example_2_url)\n",
        "if response.status_code == 200:\n",
        "    data = response.json()\n",
        "else:\n",
        "    print(\"Response failed with code\", response.status_code)"
      ]
    },
    {
      "cell_type": "code",
      "execution_count": null,
      "metadata": {
        "colab": {
          "base_uri": "https://localhost:8080/",
          "height": 579
        },
        "id": "fL0Qdy4cgnW8",
        "outputId": "9cce5dd9-b649-49fe-ff1b-0e1e94fac681"
      },
      "outputs": [],
      "source": [
        "query_to_gdf_vis(data)"
      ]
    },
    {
      "cell_type": "markdown",
      "metadata": {
        "id": "DSD-jluby8EU"
      },
      "source": [
        "# Example 3. Other Basic filtering\n",
        "\n",
        "Our API also allows you to filter results using various properties of the slick detection data. For example, let’s repeat the query from example 1, but limit results to detections with a machine_confidence greater-than-or-equal-to (GTE) 60%, and an area greater than (GT) 20 square km:"
      ]
    },
    {
      "cell_type": "code",
      "execution_count": null,
      "metadata": {
        "id": "fUhDQHL9hFUv"
      },
      "outputs": [],
      "source": [
        "example_3_url = (\n",
        "    \"https://api.cerulean.skytruth.org/collections/public.slick_plus/items\"\n",
        "    \"?bbox=53.6,23.6,59.9,28.1\"\n",
        "    \"&sortby=slick_timestamp\"\n",
        "    \"&datetime=2023-12-01T00:00:00Z/2023-12-30T00:00:00Z\"\n",
        "    \"&filter=machine_confidence GTE 0.6 AND area GT 20000000\"\n",
        "    \"&limit=100\"\n",
        ")\n",
        "response = requests.get(example_3_url)\n",
        "if response.status_code == 200:\n",
        "    data = response.json()\n",
        "else:\n",
        "    print(\"Response failed with code\", response.status_code)"
      ]
    },
    {
      "cell_type": "code",
      "execution_count": null,
      "metadata": {
        "colab": {
          "base_uri": "https://localhost:8080/",
          "height": 428
        },
        "id": "VBPVi6D7qBU_",
        "outputId": "7940ce84-22bb-4991-fff6-c3ec047d1fac"
      },
      "outputs": [],
      "source": [
        "query_to_gdf_vis(data)"
      ]
    },
    {
      "cell_type": "markdown",
      "metadata": {
        "id": "9GkLrdniJkgw"
      },
      "source": [
        "Note that these filter commands include spaces and abbreviated operators such as GTE (greater-than-or-equal-to), which are patterns enabled by CQL-2. There are a large number of fields available for filtering. We’ll cover a few more common examples below, but for full documentation, see our [standard API docs](https://api.cerulean.skytruth.org/)."
      ]
    },
    {
      "cell_type": "markdown",
      "metadata": {
        "id": "U3IwS5Pv1zzU"
      },
      "source": [
        "#Example 4. Filtering by source\n",
        "\n",
        "For higher-confidence slicks detected by Cerulean, we apply a second model that finds any vessels or offshore oil infrastructure recorded in the vicinity of those slicks. Let’s repeat our query from example 1, but limit the results to slicks with a possible vessel or infrastructure source identified nearby."
      ]
    },
    {
      "cell_type": "code",
      "execution_count": null,
      "metadata": {
        "id": "c3rf3nqChIe5"
      },
      "outputs": [],
      "source": [
        "example_4_url = (\n",
        "    \"https://api.cerulean.skytruth.org/collections/public.slick_plus/items\"\n",
        "    \"?bbox=53.6,23.6,59.9,28.1\"\n",
        "    \"&sortby=slick_timestamp\"\n",
        "    \"&datetime=2023-12-01T00:00:00Z/2023-12-30T00:00:00Z\"\n",
        "    \"&filter=machine_confidence GTE 0.6 AND area GT 20000000\"\n",
        "    \"&filter=(NOT source_type_1_ids IS NULL OR NOT source_type_2_ids IS NULL) AND cls != 1\"\n",
        "    \"&limit=100\"\n",
        ")\n",
        "response = requests.get(example_4_url)\n",
        "if response.status_code == 200:\n",
        "    data = response.json()\n",
        "else:\n",
        "    print(\"Response failed with code\", response.status_code)"
      ]
    },
    {
      "cell_type": "code",
      "execution_count": null,
      "metadata": {
        "colab": {
          "base_uri": "https://localhost:8080/",
          "height": 500
        },
        "id": "Nv98JTbk2S0Z",
        "outputId": "ef2efae9-491d-4626-f76e-76e42cb02057"
      },
      "outputs": [],
      "source": [
        "query_to_gdf_vis(data)"
      ]
    },
    {
      "cell_type": "markdown",
      "metadata": {
        "id": "ESSxRCw83dU1"
      },
      "source": [
        "This one is a little complicated. Let’s break it down piece by piece:\n",
        "\n",
        "*   `&filter=(NOT source_type_1_ids IS NULL OR NOT source_type_2_ids IS NULL)`. This command returns slicks where Cerulean has identified at least one potential source of type 1 (vessel) or type 2 (infrastructure). The syntax is a little confusing because of the double negative, but the command `NOT source_type_1_ids IS NULL` tells the API to fetch all slicks where the `source_type_1` field has at least one entry, and the command `NOT source_type_2_ids IS NULL` does the same thing for `source_type_2`.\n",
        "*   `AND cls != 1`. This is a class filter that excludes all slicks of Class 1. Class 1 is “background,” which includes detections over land and other regions where oil slicks won’t plausibly occur. We recommend including this filter in most API queries.\n",
        "\n",
        "\n"
      ]
    },
    {
      "cell_type": "markdown",
      "metadata": {
        "id": "yvSIRtndK408"
      },
      "source": [
        "# Example 5. Download data as a .csv or .geojson\n",
        "\n",
        "**NOTE:** If you wanted to return the query directly as a csv for download, you would append &f=csv to the request url."
      ]
    },
    {
      "cell_type": "code",
      "execution_count": null,
      "metadata": {
        "colab": {
          "base_uri": "https://localhost:8080/"
        },
        "id": "2zQvNEcdhX2V",
        "outputId": "50ae8769-a6c1-47bc-cc99-5dd8ba78baf6"
      },
      "outputs": [],
      "source": [
        "example_5_url = (\n",
        "    \"https://api.cerulean.skytruth.org/collections/public.slick_plus/items\"\n",
        "    \"?bbox=53.6,23.6,59.9,28.1\"\n",
        "    \"&sortby=slick_timestamp&datetime=2023-12-01T00:00:00Z/2023-12-30T00:00:00Z\"\n",
        "    \"&filter=(NOT source_type_1_ids IS NULL OR NOT source_type_2_ids IS NULL) AND cls != 1\"\n",
        "    \"&limit=10\"\n",
        "    # \"&f=csv\"\n",
        ")\n",
        "\n",
        "response = requests.get(example_5_url)\n",
        "if response.status_code == 200:\n",
        "    gdf = gpd.read_file(StringIO(response.text))\n",
        "    gdf.to_csv(\"cerulean_data.csv\", index=False)"
      ]
    },
    {
      "cell_type": "markdown",
      "metadata": {
        "id": "skBJYKe-LIJY"
      },
      "source": [
        "If you prefer a geojson, you can append &f=geojson to the query instead, like this:"
      ]
    },
    {
      "cell_type": "code",
      "execution_count": null,
      "metadata": {
        "colab": {
          "base_uri": "https://localhost:8080/"
        },
        "id": "eNPg1qLqLI1G",
        "outputId": "e2a75110-6e18-47e1-8f00-418826566738"
      },
      "outputs": [],
      "source": [
        "example_5_url = (\n",
        "    \"https://api.cerulean.skytruth.org/collections/public.slick_plus/items\"\n",
        "    \"?bbox=53.6,23.6,59.9,28.1\"\n",
        "    \"&sortby=slick_timestamp&datetime=2023-12-01T00:00:00Z/2023-12-30T00:00:00Z\"\n",
        "    \"&filter=(NOT source_type_1_ids IS NULL OR NOT source_type_2_ids IS NULL) AND cls != 1\"\n",
        "    \"&limit=10\"\n",
        "    \"&f=geojson\"\n",
        ")\n",
        "response = requests.get(example_5_url)\n",
        "if response.status_code == 200:\n",
        "    gdf = gpd.read_file(StringIO(response.text))\n",
        "gdf.to_file(\"cerulean_data.geojson\", driver=\"GeoJSON\")"
      ]
    },
    {
      "cell_type": "code",
      "execution_count": null,
      "metadata": {
        "colab": {
          "base_uri": "https://localhost:8080/",
          "height": 933
        },
        "id": "Kqfov3Jq1tC_",
        "outputId": "8a5db93f-6660-4ace-9362-8b8cb2b9d2d7"
      },
      "outputs": [],
      "source": [
        "gdf"
      ]
    },
    {
      "cell_type": "markdown",
      "metadata": {
        "id": "i05pkuiVLogP"
      },
      "source": [
        "# Example 6. Return a specific slick by its ID\n",
        "\n",
        "If you know which slick you want to pull from the API - let’s say it’s slick 1074498 from above - you can fetch it using a query like this:"
      ]
    },
    {
      "cell_type": "code",
      "execution_count": null,
      "metadata": {
        "id": "hqZVhbZLh78F"
      },
      "outputs": [],
      "source": [
        "example_6_url = (\n",
        "    \"https://api.cerulean.skytruth.org/collections/public.slick_plus/items?id=1074498\"\n",
        ")\n",
        "response = requests.get(example_6_url)\n",
        "if response.status_code == 200:\n",
        "    data = response.json()\n",
        "else:\n",
        "    print(\"Response failed with code\", response.status_code)"
      ]
    },
    {
      "cell_type": "code",
      "execution_count": null,
      "metadata": {
        "colab": {
          "base_uri": "https://localhost:8080/",
          "height": 864
        },
        "id": "B04lZlbP44ov",
        "outputId": "d3db71aa-a303-4860-9cfe-fa181f4ea2e3"
      },
      "outputs": [],
      "source": [
        "query_to_gdf_vis(data)"
      ]
    },
    {
      "cell_type": "markdown",
      "metadata": {
        "id": "cVHZWeaqM08F"
      },
      "source": [
        "# Example 7. Return all slicks detected in a specific Sentinel-1 scene\n",
        "\n",
        "If you want to return all slick detections in a specific Sentinel-1 scene, use a query like this:"
      ]
    },
    {
      "cell_type": "code",
      "execution_count": null,
      "metadata": {
        "id": "MkxNHpowjC7f"
      },
      "outputs": [],
      "source": [
        "example_7_url = (\n",
        "    \"https://api.cerulean.skytruth.org/collections/public.slick_plus/items\"\n",
        "    \"?s1_scene_id=S1A_IW_GRDH_1SDV_20231208T002246_20231208T002311_051556_063950_7812\"\n",
        ")\n",
        "response = requests.get(example_7_url)\n",
        "if response.status_code == 200:\n",
        "    data = response.json()\n",
        "else:\n",
        "    print(\"Response failed with code\", response.status_code)"
      ]
    },
    {
      "cell_type": "code",
      "execution_count": null,
      "metadata": {
        "colab": {
          "base_uri": "https://localhost:8080/",
          "height": 637
        },
        "id": "_201qxlbNEqv",
        "outputId": "b9b21bdb-cb2a-4c55-9fed-583d96796ee2"
      },
      "outputs": [],
      "source": [
        "query_to_gdf_vis(data)"
      ]
    },
    {
      "cell_type": "markdown",
      "metadata": {
        "id": "GLtXuTzgNA9X"
      },
      "source": [
        "Now, let’s limit our results to slick detections in that Sentinel-1 scene with an area greater than 10 square km and a machine confidence greater-than-or-equal-to 50%:"
      ]
    },
    {
      "cell_type": "code",
      "execution_count": null,
      "metadata": {
        "id": "VageAZhwNKLG"
      },
      "outputs": [],
      "source": [
        "example_7_url = (\n",
        "    \"https://api.cerulean.skytruth.org/collections/public.slick_plus/items\"\n",
        "    \"?s1_scene_id=S1A_IW_GRDH_1SDV_20231208T002246_20231208T002311_051556_063950_7812\"\n",
        "    \"&filter=machine_confidence GTE 0.5 AND area GT 1000000\"\n",
        ")\n",
        "response = requests.get(example_7_url)\n",
        "if response.status_code == 200:\n",
        "    data = response.json()\n",
        "else:\n",
        "    print(\"Response failed with code\", response.status_code)"
      ]
    },
    {
      "cell_type": "code",
      "execution_count": null,
      "metadata": {
        "colab": {
          "base_uri": "https://localhost:8080/",
          "height": 626
        },
        "id": "WjyIDA4PjhDQ",
        "outputId": "393eff08-188f-401e-c539-5cde43a655d0"
      },
      "outputs": [],
      "source": [
        "query_to_gdf_vis(data)"
      ]
    },
    {
      "cell_type": "markdown",
      "metadata": {
        "id": "2O-F1192dfxL"
      },
      "source": [
        "#Filtering by Exclusive Economic Zone (EEZ) and Marine Protected Area (MPA)\n",
        "\n",
        "Cerulean keeps track of the world's EEZs and MPAs using a unique AOI id that has been assigned to it. To filter slicks based on these areas of interest, you first need to find its `aoi_id` by querying the `public.aoi_eez` or `public.aoi_mpa` tables. Once you have an `aoi_id` you can find slick detections based on the queryable fields `aoi_type_1_ids` (for EEZs) or `aoi_type_2_ids` (for MPAs)."
      ]
    },
    {
      "cell_type": "markdown",
      "metadata": {
        "id": "VFsG3fqOskAC"
      },
      "source": [
        "##Search for an EEZ based on MRGID (Marine Regions gazetteer id)\n",
        "Let's query the `public.aoi_eez` table and explore the result to find an `aoi_id` associated with the Greek EEZ. Its MRGID is `5679`."
      ]
    },
    {
      "cell_type": "code",
      "execution_count": null,
      "metadata": {
        "id": "XU2lKP_mkfmI"
      },
      "outputs": [],
      "source": [
        "example_eez_url = (\n",
        "    \"https://api.cerulean.skytruth.org/collections/public.aoi_eez/items\" \"?mrgid=5679\"\n",
        ")\n",
        "response = requests.get(example_eez_url)\n",
        "if response.status_code == 200:\n",
        "    data = response.json()"
      ]
    },
    {
      "cell_type": "code",
      "execution_count": null,
      "metadata": {
        "colab": {
          "base_uri": "https://localhost:8080/"
        },
        "id": "8Pwg-AxNsgJe",
        "outputId": "2ee0106e-1150-4a7f-eb81-9dbf983fa93a"
      },
      "outputs": [],
      "source": [
        "data[\"features\"][0][\"properties\"]"
      ]
    },
    {
      "cell_type": "markdown",
      "metadata": {
        "id": "_pyIyO5W0V9Y"
      },
      "source": [
        "Query slicks using the `aoi_id` associated with the Greek EEZ"
      ]
    },
    {
      "cell_type": "code",
      "execution_count": null,
      "metadata": {
        "id": "71zZx9pT0U6k"
      },
      "outputs": [],
      "source": [
        "aoi_id = data[\"features\"][0][\"properties\"][\"aoi_id\"]\n",
        "example_eez_slick_url = (\n",
        "    \"https://api.cerulean.skytruth.org/collections/public.get_slicks_by_aoi/items\"\n",
        "    f\"?aoi_id={aoi_id}\"\n",
        "    \"&limit=100\"\n",
        "    \"&filter=machine_confidence GTE 0.99 AND area GT 2000000\"\n",
        ")\n",
        "response = requests.get(example_eez_slick_url)\n",
        "if response.status_code == 200:\n",
        "    data = response.json()\n",
        "else:\n",
        "    print(\"Response failed with code\", response.status_code)"
      ]
    },
    {
      "cell_type": "code",
      "execution_count": null,
      "metadata": {
        "colab": {
          "base_uri": "https://localhost:8080/",
          "height": 680
        },
        "id": "FSuEauQOXtFJ",
        "outputId": "644b08ff-9bbd-4daa-a264-c665e46407f9"
      },
      "outputs": [],
      "source": [
        "query_to_gdf_vis(data)"
      ]
    },
    {
      "cell_type": "markdown",
      "metadata": {
        "id": "7QkT6ti6UaUM"
      },
      "source": [
        "##Search for an MPA based on WDPAID (World Database on Protected Areas id)\n",
        "Let's query the `public.aoi_mpa` table and explore the result to find an `aoi_id` associated with the Great Barrier Reef. Its WDPAID is `2571`.\n",
        "\n",
        "\n"
      ]
    },
    {
      "cell_type": "code",
      "execution_count": null,
      "metadata": {
        "id": "CUTXEiJFWpbs"
      },
      "outputs": [],
      "source": [
        "example_eez_url = (\n",
        "    \"https://api.cerulean.skytruth.org/collections/public.aoi_mpa/items\" \"?wdpaid=2571\"\n",
        ")\n",
        "response = requests.get(example_eez_url)\n",
        "if response.status_code == 200:\n",
        "    data = response.json()"
      ]
    },
    {
      "cell_type": "code",
      "execution_count": null,
      "metadata": {
        "colab": {
          "base_uri": "https://localhost:8080/"
        },
        "id": "dJYjbwCiOQh6",
        "outputId": "a4ee1c27-ba79-46c3-a6de-2755150cdcb6"
      },
      "outputs": [],
      "source": [
        "data[\"features\"][0][\"properties\"]"
      ]
    },
    {
      "cell_type": "code",
      "execution_count": null,
      "metadata": {
        "id": "YNlW69uxYOUG"
      },
      "outputs": [],
      "source": [
        "aoi_id = data[\"features\"][0][\"properties\"][\"aoi_id\"]\n",
        "example_eez_slick_url = (\n",
        "    \"https://api.cerulean.skytruth.org/collections/public.get_slicks_by_aoi/items\"\n",
        "    f\"?aoi_id={aoi_id}\"\n",
        "    \"&limit=100\"\n",
        "    \"&filter=machine_confidence GTE 0.99 AND area GT 2000000\"\n",
        ")\n",
        "response = requests.get(example_eez_slick_url)\n",
        "if response.status_code == 200:\n",
        "    data = response.json()\n",
        "else:\n",
        "    print(\"Response failed with code\", response.status_code)"
      ]
    },
    {
      "cell_type": "code",
      "execution_count": null,
      "metadata": {
        "colab": {
          "base_uri": "https://localhost:8080/",
          "height": 864
        },
        "id": "-eNXUDyRYP_H",
        "outputId": "a99a0720-8ed9-4f27-99bf-0c92c66b7230"
      },
      "outputs": [],
      "source": [
        "query_to_gdf_vis(data)"
      ]
    },
    {
      "cell_type": "markdown",
      "metadata": {
        "id": "5FgioGdsYVdh"
      },
      "source": [
        "**NOTE:** Not all geometries that show up in an MPA will be true oil detections. It is important to verify the validity of the detections using the original Sentinel-1 imagery that the data was derived from. We recommend using the Cerulean UI to do this."
      ]
    },
    {
      "cell_type": "markdown",
      "metadata": {
        "id": "0oyktM4DXZSb"
      },
      "source": [
        "# Conclusion\n",
        "We hope this summary helps you get started with Cerulean’s API. This is a small sample of the data queries that are currently possible with Cerulean’s API. For full documentation, please see our [standard API docs](https://api.cerulean.skytruth.org/)."
      ]
    }
  ],
  "metadata": {
    "colab": {
      "provenance": []
    },
    "kernelspec": {
      "display_name": "Python 3",
      "name": "python3"
    },
    "language_info": {
      "name": "python"
    }
  },
  "nbformat": 4,
  "nbformat_minor": 0
}
