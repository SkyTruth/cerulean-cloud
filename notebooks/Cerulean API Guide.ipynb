{
 "cells": [
  {
   "cell_type": "markdown",
   "metadata": {
    "id": "NW_mI607d6Jq"
   },
   "source": [
    "# Cerulean API Documentation\n",
    "\n",
    "For most users, we recommend using the [Cerulean web application](https://cerulean.skytruth.org/), which provides a visual interface for exploring the complete set of Cerulean data layers.\n",
    "\n",
    "For users who want to directly access and download oil slick detection data, we provide programmatic free access to an OGC compliant API ([api.cerulean.skytruth.org](https://api.cerulean.skytruth.org)). Currently, oil slick detections can be downloaded in addition to data used for potential source identification of vessels and offshore oil platform locations (excluding AIS tracks, which are only accessible via the UI). API queries can be made programmatically (e.g. a curl request in Python) for direct data access and download. You can also execute API queries within a browser by pasting an API command into your browser’s address bar, which will then show the results of your query, including a helpful paginated map, or download the data directly. Below, we provide some working examples of common data queries from our API. This is only a small sample of the types of queries that are possible. To dig deeper, please see our full API docs and check out the current documentation for [tipg](https://developmentseed.org/tipg/) and [CQL-2](https://cran.r-project.org/web/packages/rstac/vignettes/rstac-02-cql2.html), both of which are used by our API."
   ]
  },
  {
   "cell_type": "code",
   "execution_count": null,
   "metadata": {
    "id": "XzqE4aTknLqQ"
   },
   "outputs": [],
   "source": [
    "%%capture\n",
    "!pip install contextily"
   ]
  },
  {
   "cell_type": "code",
   "execution_count": null,
   "metadata": {
    "id": "r1eO-22Hf8l2"
   },
   "outputs": [],
   "source": [
    "import requests\n",
    "import geopandas as gpd\n",
    "import contextily as ctx\n",
    "import matplotlib.pyplot as plt"
   ]
  },
  {
   "cell_type": "code",
   "execution_count": null,
   "metadata": {
    "id": "LJNP5mBqkSDP"
   },
   "outputs": [],
   "source": [
    "def query_to_gdf_vis(data):\n",
    "    if \"features\" in data:\n",
    "        gdf = gpd.GeoDataFrame.from_features(data[\"features\"])\n",
    "    else:\n",
    "        gdf = gpd.GeoDataFrame.from_features([data])\n",
    "\n",
    "    gdf.crs = \"EPSG:4326\"\n",
    "    gdf = gdf.to_crs(epsg=3857)\n",
    "    ax = gdf.plot(figsize=(10, 10), alpha=0.5, edgecolor=\"k\")\n",
    "    ctx.add_basemap(\n",
    "        ax, source=ctx.providers.OpenStreetMap.Mapnik, crs=gdf.crs.to_string()\n",
    "    )\n",
    "    plt.show()\n",
    "    return gdf"
   ]
  },
  {
   "cell_type": "markdown",
   "metadata": {
    "id": "_MrjJXfbVNwz"
   },
   "source": [
    "\n",
    "\n",
    "# Example 1: Return slicks within a bounding box\n",
    "\n",
    "For our first example, let's return slick detection data found within a specific geographic area. To do this, you can use the bounding box (bbox) pattern. For example, the below command will download model detections in the Mediterranean Sea, using this bbox parameter as input:\n",
    "\n",
    "```\n",
    "?bbox=10.9,42.3,19.7,36.1\"\n",
    "```\n",
    "\n",
    "\n",
    "\n",
    "\n",
    "**NOTE:** In our examples we use a limit parameter to limit the number of entries returned from a query. If unspecified, all requests have a default limit value of 10: `&limit=10` (up to a maximum of 9999). To make use of pagination, you can also use the parameter `&offset=60` to return entries starting at any arbitrary row (e.g. returning from row 61 onwards).\n"
   ]
  },
  {
   "cell_type": "code",
   "execution_count": null,
   "metadata": {
    "id": "8woQ6a6BJBtr"
   },
   "outputs": [],
   "source": [
    "example_1_url = (\n",
    "    \"https://api.cerulean.skytruth.org/collections/public.slick_plus/items\"  # This is the endpoint for the slick data\n",
    "    \"?limit=100\"  # This limits the number of entries returned to 100\n",
    "    \"&bbox=10.9,42.3,19.7,36.1\"  # This is the bbox for a section of the Mediterranean Sea\n",
    ")\n",
    "\n",
    "data = requests.get(example_1_url).json()  # This is the response from the API\n",
    "# `data should be a fully formed GeoJSON FeatureCollection\n",
    "\n",
    "gdf = query_to_gdf_vis(data)  # This is the visualization of the data"
   ]
  },
  {
   "cell_type": "markdown",
   "metadata": {},
   "source": [
    "You can also query the metadata of the response to determine how many total items apply to the filters you provided. This value will be independent of the limit requested."
   ]
  },
  {
   "cell_type": "code",
   "execution_count": null,
   "metadata": {},
   "outputs": [],
   "source": [
    "print(\"Total Matched:\", data[\"numberMatched\"])\n",
    "print(\"Total Returned:\", data[\"numberReturned\"])"
   ]
  },
  {
   "cell_type": "markdown",
   "metadata": {},
   "source": [
    "To explore the data that is returned itself, we can peek inside the dataframe and see what variables are returned. For full documentation, see our [standard API docs](https://api.cerulean.skytruth.org/)"
   ]
  },
  {
   "cell_type": "code",
   "execution_count": null,
   "metadata": {},
   "outputs": [],
   "source": [
    "gdf.head()"
   ]
  },
  {
   "cell_type": "markdown",
   "metadata": {},
   "source": [
    "1. **geometry**: A multipolygon representing a slick on the water's surface.\n",
    "2. **aoi_type_1_ids**: A list of Exclusive Economic Zones (EEZs) that the slick intersects.\n",
    "3. **aoi_type_2_ids**: A list of International Hydrographic Organization (IHO) Sea Areas that the slick intersects.\n",
    "4. **aoi_type_3_ids**: A list of Marine Protected Areas (MPAs) that the slick intersects.\n",
    "5. **area**: An estimate of the total area of the slick in square meters.\n",
    "6. **cls**: An integer representing the models best guess of slick classification (not to be interpreted as reliable ground truth).\n",
    "7. **fill_factor**: A metric indicating how rectangular the slick is.\n",
    "8. **hitl_cls**: An integer representing the slick classification provided through internal human review. Corresponds to classes defined in `public.cls`.\n",
    "9. **hitl_cls_name**: The label corresponding to the human reviewed classification of the slick (`hitl_cls`).\n",
    "10. **id**: A unique identifier for the slick record.\n",
    "11. **centerlines**: A computed feature collection of linestrings that trace along the center of each slick multipolygon, reducing linear slicks to 1D geometries.\n",
    "12. **length**: An estimate of the length of the slick in meters.\n",
    "13. **linearity**: A measure of how linear the slick's shape is.\n",
    "14. **aspect_ratio_factor**: A measure of the aspect ratio of the slick (its area divided by its centerline length squared).\n",
    "15. **machine_confidence**: A score from the slick detection model regarding its confidence in the detection. It is used as a rough estimate of detection accuracy.\n",
    "16. **orchestrator_run**: Identifier for the orchestrator run that processed this slick detection. Typically one per Sentinel-1 Scene.\n",
    "17. **perimeter**: The perimeter length of the slick in meters.\n",
    "18. **polsby_popper**: A compactness measure of the slick's shape based on the Polsby-Popper metric.\n",
    "19. **s1_scene_id**: Sentinel-1 Scene identifier associated with the slick detection.\n",
    "20. **slick_timestamp**: The timestamp indicating when the slick was detected.\n",
    "21. **slick_url** A URL to quickly view the slick detection in the Cerulean UI\n",
    "22. **source_type_1_ids**: A list of vessels that are proximal to the slick.\n",
    "23. **source_type_2_ids**: A list of pieces of infrastructue that are proximal to the slick.\n",
    "24. **source_type_3_ids**: A list of dark vessels that are proximal to the slick.\n",
    "25. **max_source_collated_score**: The highest Source Collated Score (aka. Slick-Source Match) for the slick, indicating its adjacency to anthropogenic sources and therefore our strongest indicator that the slick detection is a true positive oil slick (prior to human review)."
   ]
  },
  {
   "cell_type": "markdown",
   "metadata": {
    "id": "NIwDKWBFjvHO"
   },
   "source": [
    "# Example 2: High-grade results and filter by datetime\n",
    "\n",
    "For our next example, let’s add a datetime filter to return slick detection data from December, 2023, sorted by Source Collated Score (aka. Slick-Source Match). To do this, we specify a sorting function `?sortby=-max_source_collated_score` (the negative makes the sort descending) and provide a start and end datetime. The required date format is `YYYY-MM-DDTHH:MM:SSZ`, where the time is in UTC (which matches the timezone of S1 imagery naming convention). \n",
    "\n",
    "**Note:** Source Collated Score (aka. Slick-Source Match) is a score produced from the slick attribution model representing its estimated likelihood that a given slick detection can be attributed to anthropogenic sources. While useful as a proxy, it should not be interpreted as a ground truth or a guaranteed measure of correctness. Rather, it is used primarily to reduce the number of false detections returned by the query. \n",
    "\n",
    "We strongly recommend that users consider slicks where `max_source_collated_score > 0` as credible oil, and use discretion when considering slicks with lower values."
   ]
  },
  {
   "cell_type": "code",
   "execution_count": null,
   "metadata": {
    "id": "PJkRdx4Wd2Cw"
   },
   "outputs": [],
   "source": [
    "example_2_url = (\n",
    "    \"https://api.cerulean.skytruth.org/collections/public.slick_plus/items\"\n",
    "    \"?limit=100\"\n",
    "    \"&bbox=10.9,42.3,19.7,36.1\"\n",
    "    \"&datetime=2024-01-01T00:00:00Z/2025-01-01T00:00:00Z\"  # Limit results to a specific date range\n",
    "    \"&filter=max_source_collated_score > 0\"\n",
    "    \"&sortby=-max_source_collated_score\"  # Sort by machine confidence in descending order\n",
    ")\n",
    "\n",
    "data = requests.get(example_2_url).json()\n",
    "gdf = query_to_gdf_vis(data)"
   ]
  },
  {
   "cell_type": "markdown",
   "metadata": {
    "id": "DSD-jluby8EU"
   },
   "source": [
    "# Example 3: Other basic filtering\n",
    "\n",
    "Our API also allows you to filter results using various properties of the slick detection data. For example, let’s repeat the query from example 1, but limit results to detections with a `max_source_collated_score` greater-than-or-equal-to (GTE) 0.0, and an `area` greater than (GT) 5 square km:"
   ]
  },
  {
   "cell_type": "code",
   "execution_count": null,
   "metadata": {
    "id": "fUhDQHL9hFUv"
   },
   "outputs": [],
   "source": [
    "example_3_url = (\n",
    "    \"https://api.cerulean.skytruth.org/collections/public.slick_plus/items\"\n",
    "    \"?limit=100\"\n",
    "    \"&bbox=10.9,42.3,19.7,36.1\"\n",
    "    \"&datetime=2024-01-01T00:00:00Z/2025-01-01T00:00:00Z\"\n",
    "    \"&sortby=slick_timestamp\"  # sort by slick timestamp\n",
    "    \"&filter=max_source_collated_score GTE 0.0 AND area GT 5000000\"  # filter by max_source_collated_score greater than or equal to 0.0 and area greater than 5000000 square meters (5 square kilometers)\n",
    ")\n",
    "\n",
    "data = requests.get(example_3_url).json()\n",
    "gdf = query_to_gdf_vis(data)"
   ]
  },
  {
   "cell_type": "markdown",
   "metadata": {
    "id": "9GkLrdniJkgw"
   },
   "source": [
    "Note that these filter commands include spaces and abbreviated operators such as GTE (greater-than-or-equal-to), which are patterns enabled by CQL-2. There are a large number of fields available for filtering. We’ll cover a few more common examples below."
   ]
  },
  {
   "cell_type": "markdown",
   "metadata": {
    "id": "U3IwS5Pv1zzU"
   },
   "source": [
    "# Example 4: Filter by source\n",
    "\n",
    "For higher-confidence slicks detected by Cerulean, we apply a second model that finds any vessels or offshore oil infrastructure recorded in the vicinity of those slicks. Let’s repeat our query from example 1, but limit the results to slicks with a possible *vessel* source identified nearby (excluding potential infrastructure sources)."
   ]
  },
  {
   "cell_type": "code",
   "execution_count": null,
   "metadata": {
    "id": "c3rf3nqChIe5"
   },
   "outputs": [],
   "source": [
    "example_4_url = (\n",
    "    \"https://api.cerulean.skytruth.org/collections/public.slick_plus/items\"\n",
    "    \"?limit=100\"\n",
    "    \"&bbox=10.9,42.3,19.7,36.1\"\n",
    "    \"&sortby=slick_timestamp\"\n",
    "    \"&datetime=2024-01-01T00:00:00Z/2025-01-01T00:00:00Z\"\n",
    "    \"&filter=max_source_collated_score GTE 0.0 AND area GT 5000000 AND NOT source_type_1_ids IS NULL\"\n",
    ")\n",
    "\n",
    "data = requests.get(example_4_url).json()\n",
    "gdf = query_to_gdf_vis(data)"
   ]
  },
  {
   "cell_type": "markdown",
   "metadata": {
    "id": "ESSxRCw83dU1"
   },
   "source": [
    "This one is a little complicated.\n",
    "\n",
    "`NOT source_type_1_ids IS NULL`\n",
    "\n",
    "This command returns slicks where Cerulean has identified at least one potential source of type 1 (vessel). Those slicks may or may not have potential sources of the other types: type 2 (infrastructure) or type 3 (dark vessels). The syntax is a little confusing because of the double negative, but the command `NOT source_type_1_ids IS NULL` tells the API to fetch all slicks where the `source_type_1` (vessels) field has at least one entry."
   ]
  },
  {
   "cell_type": "markdown",
   "metadata": {
    "id": "yvSIRtndK408"
   },
   "source": [
    "# Example 5: Download data\n",
    "\n",
    "If you wanted to return the query directly we recommend using curl. The default filetype is geojson."
   ]
  },
  {
   "cell_type": "code",
   "execution_count": null,
   "metadata": {
    "colab": {
     "base_uri": "https://localhost:8080/"
    },
    "id": "2zQvNEcdhX2V",
    "outputId": "50ae8769-a6c1-47bc-cc99-5dd8ba78baf6"
   },
   "outputs": [],
   "source": [
    "import urllib.parse\n",
    "\n",
    "example_5_url = (\n",
    "    \"https://api.cerulean.skytruth.org/collections/public.slick_plus/items\"\n",
    "    \"?limit=100\"\n",
    "    \"&bbox=10.9,42.3,19.7,36.1\"\n",
    "    \"&sortby=slick_timestamp\"\n",
    "    \"&datetime=2024-01-01T00:00:00Z/2025-01-01T00:00:00Z\"\n",
    "    \"&filter=max_source_collated_score GTE 0.0 AND area GT 5000000 AND NOT source_type_1_ids IS NULL\"\n",
    ")\n",
    "\n",
    "encoded_url = urllib.parse.quote(\n",
    "    example_5_url, safe=\":/?=&\"\n",
    ")  # handle special characters in the URL\n",
    "\n",
    "!curl \"{encoded_url}\" -o /content/example_5.geojson # download the geojson"
   ]
  },
  {
   "cell_type": "markdown",
   "metadata": {
    "id": "skBJYKe-LIJY"
   },
   "source": [
    "If you prefer a CSV, you can append `&f=csv` to the query to indicate the preferred filetype, like this:"
   ]
  },
  {
   "cell_type": "code",
   "execution_count": null,
   "metadata": {
    "colab": {
     "base_uri": "https://localhost:8080/"
    },
    "id": "eNPg1qLqLI1G",
    "outputId": "e2a75110-6e18-47e1-8f00-418826566738"
   },
   "outputs": [],
   "source": [
    "import urllib.parse\n",
    "\n",
    "encoded_url = urllib.parse.quote(\n",
    "    example_5_url + \"&f=csv\", safe=\":/?=&\"\n",
    ")  # handle special characters in the URL\n",
    "\n",
    "!curl \"{encoded_url}\" -o /content/example_5.csv # download the csv"
   ]
  },
  {
   "cell_type": "markdown",
   "metadata": {},
   "source": [
    "You can always check out any particular slick of interest in our online app to get additional context, like the S1 image that generated it, or the actual paths that nearby vessels took. Simply grab the entry from the results in the column named \"slick_url\", which will look like this:\n",
    "\n",
    "https://cerulean.skytruth.org/slicks/3582918?ref=api&slick_id=3582918"
   ]
  },
  {
   "cell_type": "markdown",
   "metadata": {
    "id": "i05pkuiVLogP"
   },
   "source": [
    "# Example 6: Return a specific slick by its ID\n",
    "\n",
    "If you know which slick you want to pull from the API - let’s say it’s slick `3582918` from above - you can fetch it using a query like this:"
   ]
  },
  {
   "cell_type": "code",
   "execution_count": null,
   "metadata": {
    "id": "hqZVhbZLh78F"
   },
   "outputs": [],
   "source": [
    "example_6_url = (\n",
    "    \"https://api.cerulean.skytruth.org/collections/public.slick_plus/items?id=3582918\"\n",
    ")\n",
    "\n",
    "data = requests.get(example_6_url).json()\n",
    "gdf = query_to_gdf_vis(data)"
   ]
  },
  {
   "cell_type": "code",
   "execution_count": null,
   "metadata": {},
   "outputs": [],
   "source": [
    "gdf"
   ]
  },
  {
   "cell_type": "markdown",
   "metadata": {
    "id": "cVHZWeaqM08F"
   },
   "source": [
    "# Example 7: Return all slicks detected in a specific Sentinel-1 scene\n",
    "\n",
    "If you want to return all slick detections in a specific Sentinel-1 scene, use a query like this:"
   ]
  },
  {
   "cell_type": "code",
   "execution_count": null,
   "metadata": {
    "id": "MkxNHpowjC7f"
   },
   "outputs": [],
   "source": [
    "example_7_url = (\n",
    "    \"https://api.cerulean.skytruth.org/collections/public.slick_plus/items\"\n",
    "    \"?s1_scene_id=S1A_IW_GRDH_1SDV_20240113T165611_20240113T165636_052091_064BBD_918F\"\n",
    ")\n",
    "\n",
    "data = requests.get(example_7_url).json()\n",
    "gdf = query_to_gdf_vis(data)"
   ]
  },
  {
   "cell_type": "markdown",
   "metadata": {
    "id": "2O-F1192dfxL"
   },
   "source": [
    "# Example 8: Filter by Exclusive Economic Zone (EEZ), IHO Sea Area, or Marine Protected Area (MPA)\n",
    "\n",
    "Cerulean keeps track of the world's EEZs, IHOs, and MPAs using a unique AOI ID that has been assigned to each. To filter slicks based on these areas of interest, you first need to find its `aoi_id` by querying the `public.aoi`, `public.aoi_eez`, `public.aoi_iho`, or `public.aoi_mpa` tables. Once you have an `aoi_id` you can find slick detections based on the queryable fields `aoi_type_1_ids` (for EEZs) or `aoi_type_2_ids` (for IHOs) or `aoi_type_3_ids` (for MPAs)."
   ]
  },
  {
   "cell_type": "markdown",
   "metadata": {},
   "source": [
    "## Search for an AOI based on name\n",
    "Let's query the `public.aoi` table and explore the result to find an `aoi_id` associated with the Greek EEZ."
   ]
  },
  {
   "cell_type": "code",
   "execution_count": null,
   "metadata": {},
   "outputs": [],
   "source": [
    "example_aoi_name = (\n",
    "    \"https://api.cerulean.skytruth.org/collections/public.aoi/items\"  # This is the endpoint for all AOI data\n",
    "    \"?filter=LOWER(name) LIKE '%greek%'\"  # filter by name\n",
    ")\n",
    "\n",
    "data = requests.get(example_aoi_name).json()\n",
    "print(\"Number of results:\", len(data[\"features\"]))\n",
    "print(data[\"features\"][0][\"properties\"])\n",
    "aoi_id = data[\"features\"][0][\"properties\"][\"id\"]"
   ]
  },
  {
   "cell_type": "markdown",
   "metadata": {},
   "source": [
    "Note that the `id` field here is the `aoi_id` necessary for futher filtering. The `type` field indicates whether it is an `aoi_type_1_id` (for EEZs) or `aoi_type_2_id` (for IHOs) or `aoi_type_3_id` (for MPAs)"
   ]
  },
  {
   "cell_type": "markdown",
   "metadata": {
    "id": "VFsG3fqOskAC"
   },
   "source": [
    "## Search for an EEZ based on MRGID ([Marine Regions Gazetteer ID](https://www.marineregions.org/eezsearch.php))\n",
    "Let's query the `public.aoi_eez` table and explore the result to find an `aoi_id` associated with the Greek EEZ. Its MRGID is `5679`."
   ]
  },
  {
   "cell_type": "code",
   "execution_count": null,
   "metadata": {
    "id": "XU2lKP_mkfmI"
   },
   "outputs": [],
   "source": [
    "example_aoi_mrgid = (\n",
    "    \"https://api.cerulean.skytruth.org/collections/public.aoi_eez/items\"  # This is the endpoint for the EEZ data\n",
    "    \"?mrgid=5679\"  # filter by MRGID for the Greek EEZ\n",
    ")\n",
    "data = requests.get(example_aoi_mrgid).json()\n",
    "print(data[\"features\"][0][\"properties\"])\n",
    "aoi_id = data[\"features\"][0][\"properties\"][\"aoi_id\"]"
   ]
  },
  {
   "cell_type": "markdown",
   "metadata": {
    "id": "_pyIyO5W0V9Y"
   },
   "source": [
    "## Return results for a specific EEZ\n",
    "\n",
    "Now that we have an `aoi_id`, we can query for slicks associated with it."
   ]
  },
  {
   "cell_type": "code",
   "execution_count": null,
   "metadata": {
    "id": "71zZx9pT0U6k"
   },
   "outputs": [],
   "source": [
    "example_8_url = (\n",
    "    \"https://api.cerulean.skytruth.org/collections/public.get_slicks_by_aoi/items\"  # This is the endpoint for the slick data filtered by aoi\n",
    "    \"?limit=100\"\n",
    "    f\"&aoi_id={aoi_id}\"  # filter by aoi_id calculated above\n",
    "    \"&collation_threshold=0\"\n",
    ")\n",
    "data = requests.get(example_8_url).json()\n",
    "gdf = query_to_gdf_vis(data)"
   ]
  },
  {
   "cell_type": "markdown",
   "metadata": {
    "id": "5FgioGdsYVdh"
   },
   "source": [
    "Similarly you can search for the WDPAID ([World Database on Protected Areas ID](https://www.protectedplanet.net/en/thematic-areas/wdpa?tab=WDPA)) in the `public.aoi_mpa` table. \n",
    "\n",
    "**NOTE:** Not all geometries are true oil detections. It is important to verify the validity of the detections using the original Sentinel-1 imagery that the data was derived from. We recommend using the Cerulean UI to do this."
   ]
  },
  {
   "cell_type": "markdown",
   "metadata": {},
   "source": [
    "## Example 9: Iterate Through Sources\n",
    "In this example, we iterate through two sources (with `mmsi_or_structure_id` values `477932400` and `372519000`) and query the `public.source_plus` collection for slicks associated with each source. Each query filters results to only include records where `source_rank=1` and `source_collated_score>0.0`. "
   ]
  },
  {
   "cell_type": "code",
   "execution_count": null,
   "metadata": {},
   "outputs": [],
   "source": [
    "data_dict = {}\n",
    "for source_id in [372519000, 477932400]:\n",
    "    example_9a_url = (\n",
    "        \"https://api.cerulean.skytruth.org/collections/public.source_plus/items?\"\n",
    "        f\"mmsi_or_structure_id={source_id}\"\n",
    "        \"&filter=source_collated_score GT 0.0 AND source_rank EQ 1\"\n",
    "    )\n",
    "    data = requests.get(example_9a_url).json()\n",
    "    data_dict[source_id] = data\n",
    "query_to_gdf_vis(data_dict[372519000])"
   ]
  },
  {
   "cell_type": "markdown",
   "metadata": {},
   "source": [
    "1. **geometry**: A multipolygon representing a slick on the water's surface.\n",
    "2. **git_tag**: Version record (e.g. 1.1.0) indicating major and minor changes to the underlying codebase, and therefore representing compatibility between scores.\n",
    "3. **mmsi_or_structure_id**: The numeric name used to refer to a specific vessel (MMSI) or piece of infrastructure (structure_id). The Structure ID values are defined by Global Fishing Watch.\n",
    "4. **slick_confidence**: A score from the slick detection model regarding its confidence in the detection. It is used as a rough estimate of detection accuracy.\n",
    "5. **id**: A unique identifier for the slick record.\n",
    "6. **slick_url**: A link used to look at the indicated slick in the User Interface.\n",
    "7. **source_collated_score**: A relative score between -5 and +5 indicating how strongly we believe a potential source is responsible for a given slick. We recommend typically looking at values greater than 0.\n",
    "8. **source_rank**: An integer indicating the order of potential sources. E.g. the top 3 likely potential sources have rank 1, 2, and 3 respectively.\n",
    "9. **source_type**: A key used to distinguish between sources that are VESSEL, INFRA, DARK, or NATURAL. Can be used to distinguish between `MMSI` and `structure_id` if there is ambiguity.\n",
    "10. **source_url**: A link used to look at all slicks associated with the indicated source in the User Interface.\n"
   ]
  },
  {
   "cell_type": "markdown",
   "metadata": {},
   "source": [
    "### Filtering the JSON Locally by git_tag\n",
    "First, we compute the highest `git_tag` from our existing JSON data using the helper function. Then we filter the features already in that JSON so that only those with a git_tag greater than or equal to that highest value remain. Finally, we visualize the filtered data using `query_to_gdf_vis`.\n",
    "\n",
    "\n",
    "Note that the higher the `git_tag`, the more robust the results can be expected to be. We recommend starting at `git_tag >= 1.1.0`, based on breaking changes introduced after `1.0.11`."
   ]
  },
  {
   "cell_type": "code",
   "execution_count": null,
   "metadata": {},
   "outputs": [],
   "source": [
    "def highest_git_tag(data):\n",
    "    # Convert each git_tag (e.g., \"1.1.0\") to a tuple of integers for comparison.\n",
    "    tags = [\n",
    "        tuple(map(int, feat[\"properties\"][\"git_tag\"].split(\".\")))\n",
    "        for feat in data.get(\"features\", [])\n",
    "        if \"git_tag\" in feat[\"properties\"]\n",
    "    ]\n",
    "    return \".\".join(map(str, max(tags))) if tags else None\n",
    "\n",
    "\n",
    "# Example usage: Compute the highest git_tag from the previously returned JSON data.\n",
    "high_tag = highest_git_tag(data)\n",
    "print(\"Highest git_tag for previous query:\", high_tag)\n",
    "\n",
    "# Now filter the JSON already returned, selecting features with git_tag >= high_tag.\n",
    "filtered_data = {\n",
    "    \"type\": \"FeatureCollection\",\n",
    "    \"features\": [\n",
    "        feat\n",
    "        for feat in data.get(\"features\", [])\n",
    "        if \"git_tag\" in feat[\"properties\"]\n",
    "        and tuple(map(int, feat[\"properties\"][\"git_tag\"].split(\".\")))\n",
    "        >= tuple(map(int, \"1.1.0\".split(\".\")))\n",
    "    ],\n",
    "}\n",
    "\n",
    "# Visualize the filtered results.\n",
    "query_to_gdf_vis(filtered_data)"
   ]
  },
  {
   "cell_type": "markdown",
   "metadata": {},
   "source": [
    "## Example 10: Locating a Dark Vessel polluter\n",
    "You can return a set of potential polluters in a given bounding box and date range. For example, we can specify `&source_type=DARK` to search for pollution events that are tied to anonymous vessels which don't report their location, also known as dark vessels. We'll use the same bounding box for the Mediterranean Sea which was used above.\n",
    "\n",
    "We'll also filter for sources with `source_collated_score` greater than `0.5` to return only strongly associated examples.\n",
    "\n",
    "Note: We recommend collated scores above 0 for default searches. If you need higher-likelihood slick-to-source matching, then we recommend increasing to 0.5 or even 1.0. You should be aware that the tradeoff at higher values is that while the percentage of slicks showing true matches will increase, the absolute number will decrease (effectively sacrificing recall in favor of precision). Conversely, if you are willing to handle more false positives, you can lower the number to -0.5 or -1.0 to cast a wider net."
   ]
  },
  {
   "cell_type": "code",
   "execution_count": null,
   "metadata": {},
   "outputs": [],
   "source": [
    "example_10_url = (\n",
    "    \"https://api.cerulean.skytruth.org/collections/public.source_plus/items\"\n",
    "    \"?bbox=10.9,42.3,19.7,36.1\"\n",
    "    \"&datetime=2025-05-01T00:00:00Z/2025-05-09T00:00:00Z\"\n",
    "    \"&source_type=DARK\"\n",
    "    \"&filter=source_collated_score GT 0.5\"\n",
    "    \"&sortby=-source_collated_score\"\n",
    ")\n",
    "data = requests.get(example_10_url).json()\n",
    "gdf = query_to_gdf_vis(data)"
   ]
  },
  {
   "cell_type": "markdown",
   "metadata": {},
   "source": [
    "### Verifying the oil\n",
    "We can visually validate the results by going to the link provided in the `slick_url` field. This will launch the slick in the Cerulean UI alongside the corresponding Sentinel-1 Imagery."
   ]
  },
  {
   "cell_type": "code",
   "execution_count": null,
   "metadata": {},
   "outputs": [],
   "source": [
    "gdf[\"slick_url\"].values"
   ]
  },
  {
   "cell_type": "markdown",
   "metadata": {
    "id": "0oyktM4DXZSb"
   },
   "source": [
    "# Conclusion\n",
    "We hope this summary helps you get started with Cerulean’s API. This is a small sample of the data queries that are currently possible with Cerulean’s API. For full documentation, please see our [standard API docs](https://api.cerulean.skytruth.org/)."
   ]
  },
  {
   "cell_type": "markdown",
   "metadata": {},
   "source": [
    "# How to Cite\n",
    "SkyTruth Cerulean API. (n.d.). Query: [Brief description of your query]. Retrieved [Month DD, YYYY] from https://api.cerulean.skytruth.org/"
   ]
  },
  {
   "cell_type": "markdown",
   "metadata": {},
   "source": []
  }
 ],
 "metadata": {
  "colab": {
   "provenance": []
  },
  "kernelspec": {
   "display_name": "Python 3",
   "language": "python",
   "name": "python3"
  },
  "language_info": {
   "codemirror_mode": {
    "name": "ipython",
    "version": 3
   },
   "file_extension": ".py",
   "mimetype": "text/x-python",
   "name": "python",
   "nbconvert_exporter": "python",
   "pygments_lexer": "ipython3",
   "version": "3.13.3"
  }
 },
 "nbformat": 4,
 "nbformat_minor": 0
}
