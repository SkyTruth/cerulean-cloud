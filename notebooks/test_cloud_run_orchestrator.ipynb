{
 "cells": [
  {
   "cell_type": "code",
   "execution_count": 10,
   "id": "97af8f35",
   "metadata": {},
   "outputs": [],
   "source": [
    "import httpx\n",
    "import base64\n",
    "from rasterio.io import MemoryFile\n",
    "from rasterio.plot import show\n",
    "import numpy as np\n",
    "from base64 import b64decode\n",
    "import rasterio\n",
    "from rasterio import features"
   ]
  },
  {
   "cell_type": "code",
   "execution_count": 16,
   "id": "12c87154",
   "metadata": {},
   "outputs": [],
   "source": [
    "URL = \"https://cerulean-cloud-test-cloud-run-orchestrator-5qkjkyomta-ew.a.run.app\"\n",
    "# FILL THIS IN\n",
    "API_KEY=\"###\""
   ]
  },
  {
   "cell_type": "code",
   "execution_count": 17,
   "id": "e3f72d71",
   "metadata": {},
   "outputs": [],
   "source": [
    "orchestrator_result = httpx.post(URL+\"/orchestrate\", json={\"sceneid\": \"S1A_IW_GRDH_1SDV_20200729T034859_20200729T034924_033664_03E6D3_93EF\"}, timeout=None, headers={\"Authorization\": f\"Bearer {API_KEY}\"})\n",
    "\n",
    "\n",
    "print(orchestrator_result)\n",
    "# Takes 10min for 1 scene syncronously\n",
    "# 1 min 6s with 3 concurrency"
   ]
  },
  {
   "cell_type": "code",
   "execution_count": null,
   "id": "edbaeb48",
   "metadata": {},
   "outputs": [],
   "source": [
    "result = orchestrator_result.json()\n",
    "print(result.keys())"
   ]
  },
  {
   "cell_type": "code",
   "execution_count": null,
   "id": "ad3eaeab",
   "metadata": {
    "tags": []
   },
   "outputs": [],
   "source": [
    "print(result[\"classification_base\"])\n",
    "print(result[\"classification_offset\"])"
   ]
  },
  {
   "cell_type": "code",
   "execution_count": null,
   "id": "d85cc37c-97e7-4734-90c4-69771de89bfe",
   "metadata": {},
   "outputs": [],
   "source": [
    "import geopandas as gpd\n",
    "import pandas as pd\n",
    "pd.options.mode.chained_assignment = None\n",
    "\n",
    "def reproject_to_utm(gdf_wgs84):\n",
    "    utm_crs = gdf_wgs84.estimate_utm_crs(datum_name='WGS 84')\n",
    "    return gdf_wgs84.to_crs(utm_crs)\n",
    "\n",
    "def remap_class_to_priotity(row):\n",
    "    if row['classification_left'] > 0 and  row['classification_right'] > 0 and row['classification_left'] !=  row['classification_right']:\n",
    "        return 2\n",
    "    elif row['classification_left'] > 0 and  row['classification_right'] > 0 and row['classification_left'] ==  row['classification_right']:\n",
    "        return row['classification_left']\n",
    "    else:\n",
    "        return 0\n",
    "    \n",
    "def get_intersect_and_disjoints(grid_base, grid_offset, sjoin_result_inner):\n",
    "    \n",
    "    grid_offset_disjoint = grid_offset.loc[~grid_offset.index.isin(sjoin_result_inner.index), :]\n",
    "    grid_base_disjoint = grid_base.loc[~grid_base.index.isin(sjoin_result_inner[\"index_right\"]), :]\n",
    "    \n",
    "    # if the offset prediction does not match the base prediction, we divide confidence by two\n",
    "    # TODO there could be various policies for handling this especially with more than two\n",
    "    # positive classes and this can be abstracted out\n",
    "    grid_offset_disjoint.loc[:,\"confidence\"] /= 2\n",
    "    grid_base_disjoint.loc[:,\"confidence\"] /= 2\n",
    "    \n",
    "    sjoin_result_inner = sjoin_result_inner.rename(columns={\"classification_left\": \"classification\", \"confidence_left\": \"confidence\"})\n",
    "    for column in sjoin_result_inner.columns:\n",
    "        if column not in grid_base.columns:\n",
    "            sjoin_result_inner = sjoin_result_inner.drop(column, axis=1)\n",
    "    return pd.concat([grid_offset_disjoint,grid_base_disjoint, sjoin_result_inner])"
   ]
  },
  {
   "cell_type": "code",
   "execution_count": null,
   "id": "214079d9-8762-4932-b697-1a1849ad6d7a",
   "metadata": {},
   "outputs": [],
   "source": [
    "grid_base = gpd.GeoDataFrame.from_features(result[\"classification_base\"])"
   ]
  },
  {
   "cell_type": "code",
   "execution_count": null,
   "id": "c4f31622-1c7c-4748-9e2a-6af924ada984",
   "metadata": {},
   "outputs": [],
   "source": [
    "grid_offset = gpd.GeoDataFrame.from_features(result[\"classification_offset\"])"
   ]
  },
  {
   "cell_type": "code",
   "execution_count": null,
   "id": "36a894cb-4c7d-486a-8b8b-e2b1ea56029f",
   "metadata": {},
   "outputs": [],
   "source": [
    "grid_offset = grid_offset.set_crs(4326)\n",
    "grid_base = grid_base.set_crs(4326)\n",
    "\n",
    "grid_offset.to_file(\"offset.geojson\")\n",
    "grid_base.to_file(\"base.geojson\")"
   ]
  },
  {
   "cell_type": "code",
   "execution_count": null,
   "id": "b77a751b-f9cb-4b23-a6b5-14fc2c6df8fb",
   "metadata": {},
   "outputs": [],
   "source": [
    "grid_base = reproject_to_utm(grid_base)\n",
    "grid_offset = reproject_to_utm(grid_offset)"
   ]
  },
  {
   "cell_type": "code",
   "execution_count": null,
   "id": "d2dc7eb6-05e2-480d-a227-16b22decf2e0",
   "metadata": {},
   "outputs": [],
   "source": [
    "sjoin_result_inner = grid_offset.sjoin_nearest(grid_base, how=\"inner\", max_distance=500,  distance_col=\"join_distance\")"
   ]
  },
  {
   "cell_type": "code",
   "execution_count": 18,
   "id": "24d17905-602a-4c58-87b1-6f582b312ae5",
   "metadata": {},
   "outputs": [],
   "source": [
    "sjoin_result_inner['classification_left'] = sjoin_result_inner.apply(remap_class_to_priotity, axis=1)\n",
    "sjoin_result_inner['classification_right'] = sjoin_result_inner.apply(remap_class_to_priotity, axis=1)"
   ]
  },
  {
   "cell_type": "code",
   "execution_count": 48,
   "id": "59ddc753-8cab-43b6-888a-70424ff49b0e",
   "metadata": {},
   "outputs": [],
   "source": [
    "merged_grid_inferences = get_intersect_and_disjoints(grid_base, grid_offset, sjoin_result_inner)"
   ]
  },
  {
   "cell_type": "code",
   "execution_count": 45,
   "id": "14931971-81a1-4a27-a331-d6f0ff3c964a",
   "metadata": {},
   "outputs": [
    {
     "name": "stderr",
     "output_type": "stream",
     "text": [
      "/home/rave/miniconda3/lib/python3.8/site-packages/geopandas/io/file.py:362: FutureWarning: pandas.Int64Index is deprecated and will be removed from pandas in a future version. Use pandas.Index with the appropriate dtype instead.\n",
      "  pd.Int64Index,\n"
     ]
    }
   ],
   "source": [
    "merged_grid_inferences.to_file(\"merged_inferences.geojson\")"
   ]
  },
  {
   "cell_type": "markdown",
   "id": "b4827f18-18b1-4f7c-b1ac-2f18977a6c81",
   "metadata": {},
   "source": [
    "buffering by 70 meter pixel * 8 pixels from a glance that an example inference with grid edge effects had 6 pixels separation"
   ]
  },
  {
   "cell_type": "markdown",
   "id": "f7405f36-14d6-48dc-99b9-a114b46412ac",
   "metadata": {},
   "source": [
    "# https://stackoverflow.com/questions/67280722/how-to-merge-touching-polygons-with-geopandas"
   ]
  },
  {
   "cell_type": "code",
   "execution_count": null,
   "id": "3d780697-6fdd-4089-bd9c-0c675e790406",
   "metadata": {},
   "outputs": [],
   "source": [
    "merged_grid_inferences_w_buffer = merged_grid_inferences.copy()\n",
    "merged_grid_inferences_buffered_geoms = merged_grid_inferences.buffer(5*70)"
   ]
  },
  {
   "cell_type": "code",
   "execution_count": 76,
   "id": "f6eb7a67-2c22-4986-9de0-eb69c1a437ff",
   "metadata": {},
   "outputs": [],
   "source": [
    "merged_grid_inferences_w_buffer['geometry'] = merged_grid_inferences_buffered_geoms"
   ]
  },
  {
   "cell_type": "code",
   "execution_count": 77,
   "id": "7bbbc9f0-84ee-43f0-9269-138284cbf0f9",
   "metadata": {},
   "outputs": [
    {
     "name": "stderr",
     "output_type": "stream",
     "text": [
      "/home/rave/miniconda3/lib/python3.8/site-packages/geopandas/io/file.py:362: FutureWarning: pandas.Int64Index is deprecated and will be removed from pandas in a future version. Use pandas.Index with the appropriate dtype instead.\n",
      "  pd.Int64Index,\n"
     ]
    }
   ],
   "source": [
    "merged_grid_inferences_w_buffer.dissolve().buffer(-1*70).to_file(\"merged_buffered_dilated.geojson\")\n"
   ]
  },
  {
   "cell_type": "code",
   "execution_count": null,
   "id": "60d174ae-471b-4563-bf8b-cc8fadd06ffb",
   "metadata": {},
   "outputs": [],
   "source": []
  }
 ],
 "metadata": {
  "interpreter": {
   "hash": "241cf6741d16ff2d26ad55f98d53dc7a9f0cff7217ef774b4a2c91dc18b533d4"
  },
  "kernelspec": {
   "display_name": "Python [conda env:root] *",
   "language": "python",
   "name": "conda-root-py"
  },
  "language_info": {
   "codemirror_mode": {
    "name": "ipython",
    "version": 3
   },
   "file_extension": ".py",
   "mimetype": "text/x-python",
   "name": "python",
   "nbconvert_exporter": "python",
   "pygments_lexer": "ipython3",
   "version": "3.8.12"
  }
 },
 "nbformat": 4,
 "nbformat_minor": 5
}
