{
 "cells": [
  {
   "cell_type": "code",
   "execution_count": null,
   "id": "97af8f35",
   "metadata": {},
   "outputs": [],
   "source": [
    "import httpx\n",
    "import base64\n",
    "from rasterio.io import MemoryFile\n",
    "from rasterio.plot import show\n",
    "import numpy as np"
   ]
  },
  {
   "cell_type": "code",
   "execution_count": null,
   "id": "12c87154",
   "metadata": {},
   "outputs": [],
   "source": [
    "URL = \"https://cerulean-cloud-test-cloud-run-orchestrator-943124-5qkjkyomta-ew.a.run.app\""
   ]
  },
  {
   "cell_type": "code",
   "execution_count": null,
   "id": "e3f72d71",
   "metadata": {},
   "outputs": [],
   "source": [
    "orchestrator_result = httpx.post(URL+\"/orchestrate\", json={\"sceneid\": \"S1A_IW_GRDH_1SDV_20200729T034859_20200729T034924_033664_03E6D3_93EF\"}, timeout=None)\n",
    "\n",
    "\n",
    "print(orchestrator_result)"
   ]
  },
  {
   "cell_type": "code",
   "execution_count": null,
   "id": "edbaeb48",
   "metadata": {},
   "outputs": [],
   "source": [
    "result = orchestrator_result.json()\n",
    "print(result.keys())"
   ]
  }
 ],
 "metadata": {
  "interpreter": {
   "hash": "241cf6741d16ff2d26ad55f98d53dc7a9f0cff7217ef774b4a2c91dc18b533d4"
  },
  "kernelspec": {
   "display_name": "Python 3.8.0 ('cerulean-cloud')",
   "language": "python",
   "name": "python3"
  },
  "language_info": {
   "codemirror_mode": {
    "name": "ipython",
    "version": 3
   },
   "file_extension": ".py",
   "mimetype": "text/x-python",
   "name": "python",
   "nbconvert_exporter": "python",
   "pygments_lexer": "ipython3",
   "version": "3.8.0"
  }
 },
 "nbformat": 4,
 "nbformat_minor": 5
}
