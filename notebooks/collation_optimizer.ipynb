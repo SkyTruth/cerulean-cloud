{
 "cells": [
  {
   "cell_type": "markdown",
   "metadata": {},
   "source": [
    "Datasets include:\n",
    "\n",
    "```python\n",
    "dark_slick_vessel_source.csv\n",
    "dark_slick_infra_source.csv\n",
    "infra_slick_vessel_source.csv\n",
    "infra_slick_dark_source.csv\n",
    "vessel_slick_infra_source.csv\n",
    "vessel_slick_dark_source.csv\n",
    "```\n",
    "\n",
    "Columns - slick_id, source_type, slick_type, coincidence_score, truth"
   ]
  },
  {
   "cell_type": "code",
   "execution_count": null,
   "metadata": {},
   "outputs": [],
   "source": [
    "%load_ext autoreload\n",
    "%autoreload 2"
   ]
  },
  {
   "cell_type": "code",
   "execution_count": null,
   "metadata": {},
   "outputs": [],
   "source": [
    "from collation_optimizer import CollationOptimizer\n",
    "import pandas as pd"
   ]
  },
  {
   "cell_type": "code",
   "execution_count": null,
   "metadata": {},
   "outputs": [],
   "source": [
    "import os\n",
    "import sys\n",
    "from dotenv import load_dotenv\n",
    "\n",
    "load_dotenv()\n",
    "\n",
    "# Set the download path for demonstration and ensure the folder exists.\n",
    "download_path = os.getenv(\"ASA_DOWNLOAD_PATH\")\n",
    "os.makedirs(download_path, exist_ok=True)\n",
    "\n",
    "git_path = os.getenv(\"GIT_FOLDER\")\n",
    "cv3_path = os.getenv(\"CV3_FOLDER\")\n",
    "sys.path.append(git_path)\n",
    "sys.path.append(cv3_path)"
   ]
  },
  {
   "cell_type": "code",
   "execution_count": null,
   "metadata": {},
   "outputs": [],
   "source": [
    "collation_datasets_folder = (\n",
    "    cv3_path + \"/asa_analysis/evaluation/saved_results/collation datasets/\"\n",
    ")\n",
    "date = \"3-25-2025c\"\n",
    "dark_slick_vessel_source = pd.read_csv(\n",
    "    f\"{collation_datasets_folder}/{date}/dark_slick_vessel_source.csv\"\n",
    ")\n",
    "dark_slick_infra_source = pd.read_csv(\n",
    "    f\"{collation_datasets_folder}/{date}/dark_slick_infra_source.csv\"\n",
    ").drop(columns=[\"Unnamed: 0\"])\n",
    "infra_slick_vessel_source = pd.read_csv(\n",
    "    f\"{collation_datasets_folder}/{date}/infra_slick_vessel_source.csv\"\n",
    ").drop(columns=[\"Unnamed: 0\"])\n",
    "infra_slick_dark_source = pd.read_csv(\n",
    "    f\"{collation_datasets_folder}/{date}/infra_slick_dark_source.csv\"\n",
    ").drop(columns=[\"Unnamed: 0\"])\n",
    "vessel_slick_dark_source = pd.read_csv(\n",
    "    f\"{collation_datasets_folder}/{date}/vessel_slick_dark_source.csv\"\n",
    ")\n",
    "vessel_slick_infra_source = pd.read_csv(\n",
    "    f\"{collation_datasets_folder}/{date}/vessel_slick_infra_source.csv\"\n",
    ").drop(columns=[\"Unnamed: 0\"])\n",
    "dark_mean = dark_slick_vessel_source[dark_slick_vessel_source[\"truth\"]][\n",
    "    \"coincidence_score\"\n",
    "].mean()\n",
    "dark_std = dark_slick_vessel_source[dark_slick_vessel_source[\"truth\"]][\n",
    "    \"coincidence_score\"\n",
    "].std()\n",
    "vessel_mean = vessel_slick_dark_source[vessel_slick_dark_source[\"truth\"]][\n",
    "    \"coincidence_score\"\n",
    "].mean()\n",
    "vessel_std = vessel_slick_dark_source[vessel_slick_dark_source[\"truth\"]][\n",
    "    \"coincidence_score\"\n",
    "].std()\n",
    "infra_mean = infra_slick_vessel_source[infra_slick_vessel_source[\"truth\"]][\n",
    "    \"coincidence_score\"\n",
    "].mean()\n",
    "infra_std = infra_slick_vessel_source[infra_slick_vessel_source[\"truth\"]][\n",
    "    \"coincidence_score\"\n",
    "].std()\n",
    "\n",
    "\n",
    "print(\"default means\")\n",
    "print(\"vessel_mean:\", vessel_mean)\n",
    "print(\"vessel_std:\", vessel_std)\n",
    "print(\"infra_mean:\", infra_mean)\n",
    "print(\"infra_std:\", infra_std)\n",
    "print(\"dark_mean:\", dark_mean)\n",
    "print(\"dark_std:\", dark_std)"
   ]
  },
  {
   "cell_type": "code",
   "execution_count": null,
   "metadata": {},
   "outputs": [],
   "source": [
    "slick_source_dict = {\n",
    "    \"dark_slick_infra_source\": dark_slick_infra_source,\n",
    "    \"dark_slick_vessel_source\": dark_slick_vessel_source,\n",
    "    \"infra_slick_vessel_source\": infra_slick_vessel_source,\n",
    "    \"infra_slick_dark_source\": infra_slick_dark_source,\n",
    "    \"vessel_slick_infra_source\": vessel_slick_infra_source,\n",
    "    \"vessel_slick_dark_source\": vessel_slick_dark_source,\n",
    "}"
   ]
  },
  {
   "cell_type": "code",
   "execution_count": null,
   "metadata": {},
   "outputs": [],
   "source": [
    "# incorporate mean and std constants from above into a dictionary that takes in 1 for vess, 2 for infra, and 3 for dark and returns mean and std tuple\n",
    "# mean_std_dict = {1: (vessel_mean,vessel_std), 2: (infra_mean,infra_std), 3: (dark_mean,dark_std)}\n",
    "mean_std_dict = {1: (0, 1), 2: (0, 1), 3: (0, 1)}\n",
    "iter_params = []\n",
    "collation_optimizer = CollationOptimizer(\n",
    "    mean_std_dict, slick_source_dict, iter_params, ignore_lone_truth=True\n",
    ")\n",
    "collation_optimizer.compute_collation_performance()\n",
    "collation_optimizer.targets"
   ]
  },
  {
   "cell_type": "code",
   "execution_count": null,
   "metadata": {},
   "outputs": [],
   "source": [
    "mean_std_dict = {1: (vessel_mean, vessel_std), 2: (0, 1), 3: (0, 1)}\n",
    "collation_optimizer.mean_std_dict = mean_std_dict\n",
    "collation_optimizer.compute_collation_performance()\n",
    "collation_optimizer.targets"
   ]
  },
  {
   "cell_type": "code",
   "execution_count": null,
   "metadata": {},
   "outputs": [],
   "source": [
    "params_dark = {\n",
    "    \"fix_type\": 2,\n",
    "    \"optimize_type\": 3,\n",
    "    \"mean_range\": [0, 1],\n",
    "    \"std_range\": [0, 1],\n",
    "    \"search_count\": 40,\n",
    "}\n",
    "params_infra = {\n",
    "    \"fix_type\": 3,\n",
    "    \"optimize_type\": 2,\n",
    "    \"mean_range\": [0, 1],\n",
    "    \"std_range\": [0, 1],\n",
    "    \"search_count\": 40,\n",
    "}\n",
    "iter_params = [params_infra, params_dark] * 3"
   ]
  },
  {
   "cell_type": "code",
   "execution_count": null,
   "metadata": {},
   "outputs": [],
   "source": [
    "mean_std_dict = {1: (vessel_mean, vessel_std), 2: (0, 1), 3: (0, 1)}\n",
    "collation_optimizer = CollationOptimizer(\n",
    "    mean_std_dict, slick_source_dict, iter_params, ignore_lone_truth=True\n",
    ")\n",
    "collation_optimizer.perform_infra_dark_gradient_ascent()"
   ]
  },
  {
   "cell_type": "code",
   "execution_count": null,
   "metadata": {},
   "outputs": [],
   "source": [
    "collation_optimizer.plot_target_over_iterations()"
   ]
  },
  {
   "cell_type": "code",
   "execution_count": null,
   "metadata": {},
   "outputs": [],
   "source": [
    "collation_optimizer.mean_std_dict"
   ]
  },
  {
   "cell_type": "code",
   "execution_count": null,
   "metadata": {},
   "outputs": [],
   "source": [
    "collation_optimizer.compute_collation_performance()\n",
    "collation_optimizer.targets"
   ]
  },
  {
   "cell_type": "code",
   "execution_count": null,
   "metadata": {},
   "outputs": [],
   "source": [
    "collation_optimizer.ignore_lone_truth = False\n",
    "collation_optimizer.compute_collation_performance()\n",
    "collation_optimizer.targets"
   ]
  }
 ],
 "metadata": {
  "kernelspec": {
   "display_name": "Python 3",
   "language": "python",
   "name": "python3"
  },
  "language_info": {
   "codemirror_mode": {
    "name": "ipython",
    "version": 3
   },
   "file_extension": ".py",
   "mimetype": "text/x-python",
   "name": "python",
   "nbconvert_exporter": "python",
   "pygments_lexer": "ipython3",
   "version": "3.11.5"
  }
 },
 "nbformat": 4,
 "nbformat_minor": 2
}
