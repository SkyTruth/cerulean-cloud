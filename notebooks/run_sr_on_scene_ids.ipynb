{
 "cells": [
  {
   "cell_type": "code",
   "execution_count": null,
   "metadata": {},
   "outputs": [],
   "source": [
    "import httpx\n",
    "import json\n",
    "def stage(scene_ids, API_KEY):\n",
    "    URL = \"https://europe-west1-cerulean-338116.cloudfunctions.net/cerulean-cloud-staging-cloud-function-sr\"\n",
    "    payload = {\n",
    "    \"Records\": [{\n",
    "        \"Sns\": {\n",
    "            \"Message\": json.dumps({\n",
    "                \"id\": s,\n",
    "                \"footprint\": {\"coordinates\": [[[[0, 0], [0, 1], [1, 1], [1, 0], [0, 0]]]]}})}}\n",
    "    for s in scene_ids]}\n",
    "\n",
    "    orchestrator_result = httpx.post(\n",
    "        URL,\n",
    "        json=payload,\n",
    "        timeout=100,\n",
    "        headers={\"Authorization\": f\"Bearer {API_KEY}\", \"Content-Type\": \"application/json\"})\n",
    "    print(orchestrator_result)"
   ]
  }
 ],
 "metadata": {
  "language_info": {
   "name": "python"
  }
 },
 "nbformat": 4,
 "nbformat_minor": 2
}
