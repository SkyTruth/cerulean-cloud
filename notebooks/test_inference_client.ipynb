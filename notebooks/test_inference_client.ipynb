{
 "cells": [
  {
   "cell_type": "code",
   "execution_count": null,
   "id": "9f99e5b8",
   "metadata": {},
   "outputs": [],
   "source": [
    "import sys\n",
    "\n",
    "sys.path.insert(0, \"../\")"
   ]
  },
  {
   "cell_type": "code",
   "execution_count": null,
   "id": "97af8f35",
   "metadata": {},
   "outputs": [],
   "source": [
    "import rasterio\n",
    "from rasterio.plot import show\n",
    "from cerulean_cloud.cloud_run_orchestrator.clients import *\n",
    "from cerulean_cloud.cloud_run_orchestrator.handler import (\n",
    "    offset_group_shape_from_base_tiles,\n",
    "    group_bounds_from_list_of_bounds,\n",
    ")\n",
    "from cerulean_cloud.titiler_client import TitilerClient\n",
    "from cerulean_cloud.tiling import TMS as tiler\n",
    "from cerulean_cloud.tiling import offset_bounds_from_base_tiles"
   ]
  },
  {
   "cell_type": "code",
   "execution_count": null,
   "id": "e9f54f4f",
   "metadata": {},
   "outputs": [],
   "source": [
    "import os\n",
    "\n",
    "os.environ[\"API_KEY\"] = \"your-api-key-value\""
   ]
  },
  {
   "cell_type": "code",
   "execution_count": null,
   "id": "12c87154",
   "metadata": {},
   "outputs": [],
   "source": [
    "TITILER_URL = \"https://iwvu2v4r5i.execute-api.eu-central-1.amazonaws.com/\"\n",
    "INFERENCE_URL = (\n",
    "    \"https://cerulean-cloud-staging-cr-offset-tiles-49b-5qkjkyomta-ew.a.run.app\"\n",
    ")\n",
    "AUX_INFRA_DISTANCE = \"gs://ceruleanml/aux_datasets/infra_locations_01_cogeo.tiff\"\n",
    "scene_id = \"S1A_IW_GRDH_1SDV_20230726T183302_20230726T183327_049598_05F6CA_31E7\"  # XXX crosses antimeridian!\n",
    "#"
   ]
  },
  {
   "cell_type": "code",
   "execution_count": null,
   "id": "9bb0d658",
   "metadata": {},
   "outputs": [],
   "source": [
    "titiler_client = TitilerClient(url=TITILER_URL)\n",
    "bounds = await titiler_client.get_bounds(scene_id)\n",
    "stats = await titiler_client.get_statistics(scene_id, band=\"vv\")\n",
    "base_tiles = list(tiler.tiles(*bounds, [9], truncate=False))\n",
    "offset_image_shape = offset_group_shape_from_base_tiles(base_tiles, scale=2)\n",
    "offset_tiles_bounds = offset_bounds_from_base_tiles(base_tiles)\n",
    "offset_bounds = group_bounds_from_list_of_bounds(offset_tiles_bounds)"
   ]
  },
  {
   "cell_type": "code",
   "execution_count": null,
   "id": "4ca32feb",
   "metadata": {},
   "outputs": [],
   "source": [
    "bounds"
   ]
  },
  {
   "cell_type": "code",
   "execution_count": null,
   "id": "fc7d6c31",
   "metadata": {},
   "outputs": [],
   "source": [
    "client = CloudRunInferenceClient(\n",
    "    url=INFERENCE_URL,\n",
    "    titiler_client=titiler_client,\n",
    "    scene_id=scene_id,\n",
    "    tileset_envelope_bounds=offset_bounds,\n",
    "    offset_image_shape=offset_image_shape,\n",
    "    aux_datasets=[\"ship_density\", AUX_INFRA_DISTANCE],\n",
    ")"
   ]
  },
  {
   "cell_type": "code",
   "execution_count": null,
   "id": "65d15309",
   "metadata": {},
   "outputs": [],
   "source": [
    "client.aux_datasets"
   ]
  },
  {
   "cell_type": "code",
   "execution_count": null,
   "id": "9fe0c90f",
   "metadata": {},
   "outputs": [],
   "source": [
    "with client.aux_datasets.open() as ds:\n",
    "    with rasterio.open(\"aux_ds.tiff\", **ds.profile, mode=\"w\") as dst:\n",
    "        dst.write(ds.read())"
   ]
  },
  {
   "cell_type": "code",
   "execution_count": null,
   "id": "bedc2f1a",
   "metadata": {},
   "outputs": [],
   "source": [
    "bounds"
   ]
  },
  {
   "cell_type": "code",
   "execution_count": null,
   "id": "1a620a15",
   "metadata": {},
   "outputs": [],
   "source": [
    "offset_image_shape"
   ]
  },
  {
   "cell_type": "code",
   "execution_count": null,
   "id": "34f1d1f8",
   "metadata": {},
   "outputs": [],
   "source": [
    "offset_bounds"
   ]
  },
  {
   "cell_type": "code",
   "execution_count": null,
   "id": "02eced5d",
   "metadata": {},
   "outputs": [],
   "source": [
    "import supermercado\n",
    "\n",
    "tiles_np = np.array([(tile.x, tile.y, tile.z) for tile in base_tiles])\n",
    "tilexmin, tilexmax, tileymin, tileymax = supermercado.super_utils.get_range(tiles_np)"
   ]
  },
  {
   "cell_type": "code",
   "execution_count": null,
   "id": "4d62ad0d",
   "metadata": {},
   "outputs": [],
   "source": [
    "tilexmin, tilexmax, tileymin, tileymax"
   ]
  },
  {
   "cell_type": "code",
   "execution_count": null,
   "id": "5298a957",
   "metadata": {},
   "outputs": [],
   "source": []
  }
 ],
 "metadata": {
  "interpreter": {
   "hash": "241cf6741d16ff2d26ad55f98d53dc7a9f0cff7217ef774b4a2c91dc18b533d4"
  },
  "kernelspec": {
   "display_name": "Python 3",
   "language": "python",
   "name": "python3"
  },
  "language_info": {
   "codemirror_mode": {
    "name": "ipython",
    "version": 3
   },
   "file_extension": ".py",
   "mimetype": "text/x-python",
   "name": "python",
   "nbconvert_exporter": "python",
   "pygments_lexer": "ipython3",
   "version": "3.9.13"
  }
 },
 "nbformat": 4,
 "nbformat_minor": 5
}
