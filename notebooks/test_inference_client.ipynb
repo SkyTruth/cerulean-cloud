{
 "cells": [
  {
   "cell_type": "code",
   "execution_count": 1,
   "id": "9f99e5b8",
   "metadata": {},
   "outputs": [],
   "source": [
    "import sys\n",
    "sys.path.insert(0,'../')"
   ]
  },
  {
   "cell_type": "code",
   "execution_count": 2,
   "id": "97af8f35",
   "metadata": {},
   "outputs": [],
   "source": [
    "import rasterio\n",
    "from rasterio.plot import show\n",
    "from cerulean_cloud.cloud_run_orchestrator.clients import *\n",
    "from cerulean_cloud.cloud_run_orchestrator.handler import from_tiles_get_offset_shape, from_bounds_get_offset_bounds\n",
    "from cerulean_cloud.titiler_client import TitilerClient\n",
    "from cerulean_cloud.tiling import TMS as tiler\n",
    "from cerulean_cloud.tiling import from_base_tiles_create_offset_tiles"
   ]
  },
  {
   "cell_type": "code",
   "execution_count": 3,
   "id": "12c87154",
   "metadata": {},
   "outputs": [],
   "source": [
    "TITILER_URL=\"https://0xshe4bmk8.execute-api.eu-central-1.amazonaws.com/\"\n",
    "INFERENCE_URL=\"https://cerulean-cloud-staging-cloud-run-offset-tiles-49b-5qkjkyomta-ew.a.run.app\"\n",
    "AUX_INFRA_DISTANCE=\"gs://ceruleanml/aux_datasets/infra_locations_01_cogeo.tiff\"\n",
    "sceneid=\"S1A_IW_GRDH_1SDV_20200729T034859_20200729T034924_033664_03E6D3_93EF\""
   ]
  },
  {
   "cell_type": "code",
   "execution_count": 4,
   "id": "9bb0d658",
   "metadata": {},
   "outputs": [],
   "source": [
    "titiler_client = TitilerClient(url=TITILER_URL)\n",
    "bounds = titiler_client.get_bounds(sceneid)\n",
    "stats = titiler_client.get_statistics(sceneid, band=\"vv\")\n",
    "base_tiles = list(tiler.tiles(*bounds, [9], truncate=False))\n",
    "offset_image_shape = from_tiles_get_offset_shape(base_tiles, scale=2)\n",
    "offset_tiles_bounds = from_base_tiles_create_offset_tiles(base_tiles)\n",
    "offset_bounds = from_bounds_get_offset_bounds(offset_tiles_bounds)"
   ]
  },
  {
   "cell_type": "code",
   "execution_count": 5,
   "id": "fc7d6c31",
   "metadata": {},
   "outputs": [
    {
     "ename": "TypeError",
     "evalue": "from_bounds() got an unexpected keyword argument 'heigth'",
     "output_type": "error",
     "traceback": [
      "\u001b[0;31m---------------------------------------------------------------------------\u001b[0m",
      "\u001b[0;31mTypeError\u001b[0m                                 Traceback (most recent call last)",
      "Input \u001b[0;32mIn [5]\u001b[0m, in \u001b[0;36m<cell line: 1>\u001b[0;34m()\u001b[0m\n\u001b[0;32m----> 1\u001b[0m client \u001b[38;5;241m=\u001b[39m \u001b[43mCloudRunInferenceClient\u001b[49m\u001b[43m(\u001b[49m\u001b[43murl\u001b[49m\u001b[38;5;241;43m=\u001b[39;49m\u001b[43mINFERENCE_URL\u001b[49m\u001b[43m,\u001b[49m\u001b[43m \u001b[49m\u001b[43mtitiler_client\u001b[49m\u001b[38;5;241;43m=\u001b[39;49m\u001b[43mtitiler_client\u001b[49m\u001b[43m,\u001b[49m\u001b[43m \u001b[49m\u001b[43msceneid\u001b[49m\u001b[38;5;241;43m=\u001b[39;49m\u001b[43msceneid\u001b[49m\u001b[43m,\u001b[49m\u001b[43m \u001b[49m\u001b[43moffset_bounds\u001b[49m\u001b[38;5;241;43m=\u001b[39;49m\u001b[43moffset_bounds\u001b[49m\u001b[43m,\u001b[49m\u001b[43m \u001b[49m\u001b[43moffset_image_shape\u001b[49m\u001b[38;5;241;43m=\u001b[39;49m\u001b[43moffset_image_shape\u001b[49m\u001b[43m,\u001b[49m\u001b[43m \u001b[49m\u001b[43maux_datasets\u001b[49m\u001b[38;5;241;43m=\u001b[39;49m\u001b[43m[\u001b[49m\u001b[38;5;124;43m\"\u001b[39;49m\u001b[38;5;124;43mship_density\u001b[39;49m\u001b[38;5;124;43m\"\u001b[39;49m\u001b[43m,\u001b[49m\u001b[43m \u001b[49m\u001b[43mAUX_INFRA_DISTANCE\u001b[49m\u001b[43m]\u001b[49m\u001b[43m)\u001b[49m\n",
      "File \u001b[0;32m~/cerulean-cloud/cerulean_cloud/cloud_run_orchestrator/clients.py:56\u001b[0m, in \u001b[0;36mCloudRunInferenceClient.__init__\u001b[0;34m(self, url, titiler_client, sceneid, offset_bounds, offset_image_shape, aux_datasets, scale)\u001b[0m\n\u001b[1;32m     54\u001b[0m \u001b[38;5;28mself\u001b[39m\u001b[38;5;241m.\u001b[39mtitiler_client \u001b[38;5;241m=\u001b[39m titiler_client\n\u001b[1;32m     55\u001b[0m \u001b[38;5;28mself\u001b[39m\u001b[38;5;241m.\u001b[39msceneid \u001b[38;5;241m=\u001b[39m sceneid\n\u001b[0;32m---> 56\u001b[0m \u001b[38;5;28mself\u001b[39m\u001b[38;5;241m.\u001b[39maux_datasets \u001b[38;5;241m=\u001b[39m \u001b[43mhandle_aux_datasets\u001b[49m\u001b[43m(\u001b[49m\n\u001b[1;32m     57\u001b[0m \u001b[43m    \u001b[49m\u001b[43maux_datasets\u001b[49m\u001b[43m,\u001b[49m\u001b[43m \u001b[49m\u001b[38;5;28;43mself\u001b[39;49m\u001b[38;5;241;43m.\u001b[39;49m\u001b[43msceneid\u001b[49m\u001b[43m,\u001b[49m\u001b[43m \u001b[49m\u001b[43moffset_bounds\u001b[49m\u001b[43m,\u001b[49m\u001b[43m \u001b[49m\u001b[43moffset_image_shape\u001b[49m\n\u001b[1;32m     58\u001b[0m \u001b[43m\u001b[49m\u001b[43m)\u001b[49m\n\u001b[1;32m     59\u001b[0m \u001b[38;5;28mself\u001b[39m\u001b[38;5;241m.\u001b[39mscale \u001b[38;5;241m=\u001b[39m \u001b[38;5;241m2\u001b[39m\n",
      "File \u001b[0;32m~/cerulean-cloud/cerulean_cloud/cloud_run_orchestrator/clients.py:226\u001b[0m, in \u001b[0;36mhandle_aux_datasets\u001b[0;34m(aux_datasets, scene_id, bounds, image_shape, **kwargs)\u001b[0m\n\u001b[1;32m    224\u001b[0m \u001b[38;5;28;01mif\u001b[39;00m aux_dataset_channels \u001b[38;5;129;01mis\u001b[39;00m \u001b[38;5;129;01mnot\u001b[39;00m \u001b[38;5;28;01mNone\u001b[39;00m:\n\u001b[1;32m    225\u001b[0m     height, width \u001b[38;5;241m=\u001b[39m aux_dataset_channels\u001b[38;5;241m.\u001b[39mshape[\u001b[38;5;241m0\u001b[39m:\u001b[38;5;241m2\u001b[39m]\n\u001b[0;32m--> 226\u001b[0m     transform \u001b[38;5;241m=\u001b[39m \u001b[43mrasterio\u001b[49m\u001b[38;5;241;43m.\u001b[39;49m\u001b[43mtransform\u001b[49m\u001b[38;5;241;43m.\u001b[39;49m\u001b[43mfrom_bounds\u001b[49m\u001b[43m(\u001b[49m\u001b[38;5;241;43m*\u001b[39;49m\u001b[43mbounds\u001b[49m\u001b[43m,\u001b[49m\u001b[43m \u001b[49m\u001b[43mheigth\u001b[49m\u001b[38;5;241;43m=\u001b[39;49m\u001b[43mheight\u001b[49m\u001b[43m,\u001b[49m\u001b[43m \u001b[49m\u001b[43mwidth\u001b[49m\u001b[38;5;241;43m=\u001b[39;49m\u001b[43mwidth\u001b[49m\u001b[43m)\u001b[49m\n\u001b[1;32m    227\u001b[0m     \u001b[38;5;28;01mwith\u001b[39;00m aux_memfile\u001b[38;5;241m.\u001b[39mopen(\n\u001b[1;32m    228\u001b[0m         driver\u001b[38;5;241m=\u001b[39m\u001b[38;5;124m\"\u001b[39m\u001b[38;5;124mGTiff\u001b[39m\u001b[38;5;124m\"\u001b[39m,\n\u001b[1;32m    229\u001b[0m         count\u001b[38;5;241m=\u001b[39m\u001b[38;5;28mlen\u001b[39m(aux_datasets),\n\u001b[0;32m   (...)\u001b[0m\n\u001b[1;32m    234\u001b[0m         crs\u001b[38;5;241m=\u001b[39m\u001b[38;5;124m\"\u001b[39m\u001b[38;5;124mEPSG:4326\u001b[39m\u001b[38;5;124m\"\u001b[39m,\n\u001b[1;32m    235\u001b[0m     ) \u001b[38;5;28;01mas\u001b[39;00m dataset:\n\u001b[1;32m    236\u001b[0m         dataset\u001b[38;5;241m.\u001b[39mwrite(reshape_as_raster(aux_dataset_channels))\n",
      "\u001b[0;31mTypeError\u001b[0m: from_bounds() got an unexpected keyword argument 'heigth'"
     ]
    }
   ],
   "source": [
    "client = CloudRunInferenceClient(url=INFERENCE_URL, titiler_client=titiler_client, sceneid=sceneid, offset_bounds=offset_bounds, offset_image_shape=offset_image_shape, aux_datasets=[\"ship_density\", AUX_INFRA_DISTANCE])"
   ]
  },
  {
   "cell_type": "code",
   "execution_count": null,
   "id": "65d15309",
   "metadata": {},
   "outputs": [],
   "source": [
    "client.aux_datasets"
   ]
  },
  {
   "cell_type": "code",
   "execution_count": null,
   "id": "9fe0c90f",
   "metadata": {},
   "outputs": [],
   "source": [
    "with client.aux_datasets.open() as ds:\n",
    "    with rasterio.open(\"aux_ds.tiff\", **ds.profile, mode=\"w\") as dst:\n",
    "        dst.write(ds.read())"
   ]
  },
  {
   "cell_type": "code",
   "execution_count": null,
   "id": "bedc2f1a",
   "metadata": {},
   "outputs": [],
   "source": [
    "bounds"
   ]
  },
  {
   "cell_type": "code",
   "execution_count": null,
   "id": "1a620a15",
   "metadata": {},
   "outputs": [],
   "source": [
    "offset_image_shape"
   ]
  },
  {
   "cell_type": "code",
   "execution_count": null,
   "id": "34f1d1f8",
   "metadata": {},
   "outputs": [],
   "source": [
    "offset_bounds"
   ]
  },
  {
   "cell_type": "code",
   "execution_count": null,
   "id": "02eced5d",
   "metadata": {},
   "outputs": [],
   "source": [
    "import supermercado\n",
    "tiles_np = np.array([(tile.x, tile.y, tile.z) for tile in base_tiles])\n",
    "tilexmin, tilexmax, tileymin, tileymax = supermercado.super_utils.get_range(\n",
    "    tiles_np\n",
    ")"
   ]
  },
  {
   "cell_type": "code",
   "execution_count": null,
   "id": "4d62ad0d",
   "metadata": {},
   "outputs": [],
   "source": [
    "tilexmin, tilexmax, tileymin, tileymax"
   ]
  },
  {
   "cell_type": "code",
   "execution_count": null,
   "id": "5298a957",
   "metadata": {},
   "outputs": [],
   "source": []
  }
 ],
 "metadata": {
  "interpreter": {
   "hash": "241cf6741d16ff2d26ad55f98d53dc7a9f0cff7217ef774b4a2c91dc18b533d4"
  },
  "kernelspec": {
   "display_name": "Python 3",
   "language": "python",
   "name": "python3"
  },
  "language_info": {
   "codemirror_mode": {
    "name": "ipython",
    "version": 3
   },
   "file_extension": ".py",
   "mimetype": "text/x-python",
   "name": "python",
   "nbconvert_exporter": "python",
   "pygments_lexer": "ipython3",
   "version": "3.8.0"
  }
 },
 "nbformat": 4,
 "nbformat_minor": 5
}
