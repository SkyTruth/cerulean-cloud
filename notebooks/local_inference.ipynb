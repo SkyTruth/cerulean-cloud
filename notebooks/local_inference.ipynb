{
 "cells": [
  {
   "cell_type": "code",
   "execution_count": null,
   "metadata": {},
   "outputs": [],
   "source": [
    "%load_ext autoreload\n",
    "%autoreload 2\n",
    "\n",
    "import os\n",
    "import sys\n",
    "from unittest.mock import AsyncMock, Mock, patch\n",
    "\n",
    "import matplotlib.patches as mpatches\n",
    "import matplotlib.pyplot as plt\n",
    "import numpy as np\n",
    "import torch\n",
    "import torch.nn.functional as F\n",
    "from dotenv import load_dotenv\n",
    "from matplotlib.colors import ListedColormap\n",
    "\n",
    "# Make sure your dotenv file has the following defined:\n",
    "load_dotenv()\n",
    "GIT_FOLDER = os.environ['GIT_FOLDER']\n",
    "TITILER_URL = os.environ['TITILER_URL']\n",
    "TITILER_API_KEY = os.environ['TITILER_API_KEY']\n",
    "API_KEY = os.environ['API_KEY']\n",
    "MODEL_PATH_LOCAL = os.environ['MODEL_PATH_LOCAL_UNET']\n",
    "# MODEL_PATH_LOCAL = os.environ['MODEL_PATH_LOCAL_MASK']\n",
    "\n",
    "if not (GIT_FOLDER and TITILER_URL and TITILER_API_KEY and MODEL_PATH_LOCAL):\n",
    "    print(\"ERRROR: Failed to find all the necessary environment variables!!!\")\n",
    "    # Note, you must restart the kernel if you want to load new environment variables\n",
    "\n",
    "if GIT_FOLDER not in sys.path:\n",
    "    sys.path.append(GIT_FOLDER)\n",
    "print(sys.path)"
   ]
  },
  {
   "cell_type": "code",
   "execution_count": null,
   "metadata": {},
   "outputs": [],
   "source": [
    "from cerulean_cloud.models import get_model, memfile_gtiff\n",
    "from cerulean_cloud.tiling import TMS, offset_bounds_from_base_tiles\n",
    "from cerulean_cloud.titiler_client import TitilerClient\n",
    "from cerulean_cloud.cloud_run_orchestrator.clients import img_array_to_b64_image\n",
    "from cerulean_cloud.cloud_run_orchestrator.schema import OrchestratorInput\n",
    "from cerulean_cloud.cloud_run_orchestrator.handler import (\n",
    "    _orchestrate,\n",
    "    get_tiler,\n",
    "    get_titiler_client,\n",
    "    get_roda_sentinelhub_client,\n",
    "    get_database_engine,\n",
    ")\n",
    "from cerulean_cloud.cloud_run_offset_tiles.schema import InferenceInput, PredictPayload\n",
    "from cerulean_cloud.cloud_run_offset_tiles.handler import predict"
   ]
  },
  {
   "cell_type": "code",
   "execution_count": null,
   "metadata": {},
   "outputs": [],
   "source": [
    "fastaiunet = dict(\n",
    "    type=\"FASTAIUNET\",\n",
    "    file_path=\"\",  # \"experiments/2024_03_06_18_14_31_7cls_rn101_pr256_z9_fastai_baseline_noamb/tracing_cpu_model.pt\",\n",
    "    layers=[\"VV\"],\n",
    "    cls_map={\n",
    "        0: \"BACKGROUND\",\n",
    "        1: \"INFRA\",\n",
    "        2: \"NATURAL\",\n",
    "        3: \"VESSEL\",\n",
    "    },  # inference_idx maps to class table\n",
    "    name=\"local test 46\",\n",
    "    tile_width_m=40844,  # Used to calculate zoom\n",
    "    tile_width_px=512,  # Used to calculate scale\n",
    "    epochs=500,\n",
    "    thresholds={\n",
    "        \"poly_nms_thresh\": 0.2,  # Minimum IoU between instances that will keep the higher scoring multipolygon\n",
    "        \"pixel_nms_thresh\": 0.0,\n",
    "        \"bbox_score_thresh\": 0.0001,  # Smallest bridge value that will connect polygons into a multipolygon\n",
    "        \"poly_score_thresh\": 0.5,  # Determines the size of the outline of any given polygon\n",
    "        \"pixel_score_thresh\": 0.9,  # Minimum pixel score that will be required to keep a multipolygon\n",
    "        \"groundtruth_dice_thresh\": 0.0,\n",
    "    },\n",
    "    backbone_size=34,\n",
    "    # pixel_f1=0.0, # TODO CALCULATE\n",
    "    # instance_f1=0.0, # TODO CALCULATE\n",
    ")\n",
    "\n",
    "maskrcnn = dict(\n",
    "    type=\"MASKRCNN\",\n",
    "    file_path=\"\",  # \"experiments/2023_10_05_02_22_46_4cls_rnxt101_pr512_px1024_680min_maskrcnn_wd01/scripting_cpu_model.pt\",\n",
    "    layers=[\"VV\", \"ALL_255\", \"VESSEL\"],\n",
    "    cls_map={\n",
    "        0: \"BACKGROUND\",\n",
    "        1: \"INFRA\",\n",
    "        2: \"NATURAL\",\n",
    "        3: \"VESSEL\",\n",
    "    },  # inference_idx maps to class table\n",
    "    name=\"ResNext 101 hires56\",\n",
    "    tile_width_m=40844,\n",
    "    tile_width_px=512,\n",
    "    epochs=122,\n",
    "    thresholds={\n",
    "        \"poly_nms_thresh\": 0.2,\n",
    "        \"pixel_nms_thresh\": 0.4,\n",
    "        \"bbox_score_thresh\": 0.3,\n",
    "        \"poly_score_thresh\": 0.1,\n",
    "        \"pixel_score_thresh\": 0.5,\n",
    "        \"groundtruth_dice_thresh\": 0.0,\n",
    "    },\n",
    "    backbone_size=101,\n",
    "    pixel_f1=0.461,\n",
    "    instance_f1=0.47,\n",
    ")\n",
    "\n",
    "model_dict_predefined = maskrcnn if \"maskrcnn\" in MODEL_PATH_LOCAL else fastaiunet"
   ]
  },
  {
   "cell_type": "code",
   "execution_count": null,
   "metadata": {},
   "outputs": [],
   "source": [
    "async def get_titiler_client_and_offset_tiles(sentinel_scene, offset=0.33):\n",
    "    payload = OrchestratorInput(**sentinel_scene)\n",
    "    TitilerClient_url = os.getenv(\"TITILER_URL\")\n",
    "    titiler_client = TitilerClient(url=TitilerClient_url)\n",
    "    scene_bounds = await titiler_client.get_bounds(payload.sceneid)\n",
    "    tiler = TMS\n",
    "    base_tiles = list(tiler.tiles(*scene_bounds, [payload.zoom], truncate=False))\n",
    "    offset_tile_bounds = offset_bounds_from_base_tiles(base_tiles, offset_amount=offset)\n",
    "    return titiler_client, offset_tile_bounds"
   ]
  },
  {
   "cell_type": "code",
   "execution_count": null,
   "metadata": {},
   "outputs": [],
   "source": [
    "# EXPLORE TILES FROM A GIVEN SCENE_ID\n",
    "offset = 0.33 * 2\n",
    "titler_client, tile_bounds = await get_titiler_client_and_offset_tiles(\n",
    "    test_scene, offset=offset\n",
    ")\n",
    "for i, tile in enumerate(tile_bounds):\n",
    "    plt.imshow(\n",
    "        (\n",
    "            await titler_client.get_offset_tile(scene_id, *tile, height=512, width=512)\n",
    "        ).transpose(2, 0, 1)[0],\n",
    "        cmap=\"gray\",\n",
    "    )\n",
    "    plt.title(str(i))\n",
    "    plt.show()"
   ]
  },
  {
   "cell_type": "code",
   "execution_count": null,
   "metadata": {},
   "outputs": [],
   "source": [
    "# breaking?\n",
    "scene_id = \"S1A_IW_GRDH_1SDV_20240814T171401_20240814T171426_055212_06BAD3_5001\"\n",
    "test_scene = {\"sceneid\": scene_id, \"zoom\": 9, \"scale\": 2}\n",
    "\n",
    "slick_tiles = {\n",
    "    0: [[1]],\n",
    "    0.33: [[1]],\n",
    "    0.66: [[1]],\n",
    "}"
   ]
  },
  {
   "cell_type": "code",
   "execution_count": null,
   "metadata": {},
   "outputs": [],
   "source": [
    "scene_id = \"S1A_IW_GRDH_1SDV_20210523T005625_20210523T005651_038008_047C68_FE94\"\n",
    "test_scene = {\"sceneid\": scene_id, \"zoom\": 9, \"scale\": 2}\n",
    "\n",
    "slick_tiles = {\n",
    "    0: [[86, 92, 93]],\n",
    "    0.33: [[79, 86, 93]],\n",
    "    0.66: [[79, 86]],\n",
    "}"
   ]
  },
  {
   "cell_type": "code",
   "execution_count": null,
   "metadata": {},
   "outputs": [],
   "source": [
    "# fragmentation\n",
    "scene_id = \"S1A_IW_GRDH_1SDV_20200802T174315_20200802T174340_033731_03E8D7_B2B2\"\n",
    "test_scene = {\"sceneid\": scene_id, \"zoom\": 9, \"scale\": 2}\n",
    "\n",
    "slick_tiles = {\n",
    "    0: [[86, 92, 93]],\n",
    "    0.33: [[79, 86, 93]],\n",
    "    0.66: [[79, 86]],\n",
    "}"
   ]
  },
  {
   "cell_type": "code",
   "execution_count": null,
   "metadata": {},
   "outputs": [],
   "source": [
    "# fragmentation\n",
    "scene_id = \"S1B_IW_GRDH_1SDV_20200807T041503_20200807T041528_022812_02B4BF_B5B6\"\n",
    "test_scene = {\"sceneid\": scene_id, \"zoom\": 9, \"scale\": 2}\n",
    "\n",
    "slick_tiles = {\n",
    "    0:[[29, 30]],\n",
    "    0.33: [[30]],\n",
    "    0.66: [[23, 30]],\n",
    "}"
   ]
  },
  {
   "cell_type": "code",
   "execution_count": null,
   "metadata": {},
   "outputs": [],
   "source": [
    "# fragmentation\n",
    "scene_id = \"S1A_IW_GRDH_1SDV_20210610T105641_20210610T105706_038277_048454_EF6F\"\n",
    "test_scene = {\"sceneid\": scene_id, \"zoom\": 9, \"scale\": 2}\n",
    "\n",
    "slick_tiles = {\n",
    "    0: [[33, 41]],\n",
    "    0.33: [[33, 41]],\n",
    "    0.66: [[33, 34]],\n",
    "}"
   ]
  },
  {
   "cell_type": "code",
   "execution_count": null,
   "metadata": {},
   "outputs": [],
   "source": [
    "scene_id = \"S1A_IW_GRDH_1SDV_20230618T232014_20230618T232039_049047_05E5E0_718C\"\n",
    "test_scene = {\"sceneid\": scene_id, \"zoom\": 9, \"scale\": 2}\n",
    "\n",
    "slick_tiles = {\n",
    "    0: [[17, 25]],\n",
    "    0.33: [[18, 26]],\n",
    "    0.66: [[18, 19]],\n",
    "}"
   ]
  },
  {
   "cell_type": "code",
   "execution_count": null,
   "metadata": {},
   "outputs": [],
   "source": [
    "scene_id = \"S1A_IW_GRDH_1SDV_20230523T224049_20230523T224114_048667_05DA7A_91D1\"\n",
    "test_scene = {\"sceneid\": scene_id, \"zoom\": 9, \"scale\": 2}\n",
    "\n",
    "slick_tiles = {\n",
    "    0: [[44, 45, 51, 52, 53]],\n",
    "    0.33: [[37, 38, 44, 45, 46, 52, 53, 54]],\n",
    "    0.66: [[37, 38, 45, 46, 47]],\n",
    "}"
   ]
  },
  {
   "cell_type": "code",
   "execution_count": null,
   "metadata": {},
   "outputs": [],
   "source": [
    "scene_id = \"S1A_IW_GRDH_1SDV_20200729T095401_20200729T095430_033668_03E6EE_2611\"\n",
    "test_scene = {\"sceneid\": scene_id, \"zoom\": 9, \"scale\": 2}\n",
    "\n",
    "slick_tiles = {\n",
    "    0: [[18, 19, 25, 26, 32, 33]],\n",
    "    0.33: [[18, 19, 25, 26, 33]],\n",
    "    0.66: [[11, 12, 18, 19, 25, 26]],\n",
    "}"
   ]
  },
  {
   "cell_type": "code",
   "execution_count": null,
   "metadata": {},
   "outputs": [],
   "source": [
    "scene_id = \"S1A_IW_GRDH_1SDV_20230318T175405_20230318T175430_047702_05BAED_22A9\"\n",
    "test_scene = {\"sceneid\": scene_id, \"zoom\": 9, \"scale\": 2}\n",
    "\n",
    "slick_tiles = {\n",
    "    0: [[26, 28, 34, 35, 36, 43]],\n",
    "    # .33: [[],]\n",
    "    # .66: [[],]\n",
    "}"
   ]
  },
  {
   "cell_type": "code",
   "execution_count": null,
   "metadata": {},
   "outputs": [],
   "source": [
    "scene_id = \"S1A_IW_GRDH_1SDV_20201114T034910_20201114T034935_035239_041D79_AA81\"\n",
    "test_scene = {\"sceneid\": scene_id, \"zoom\": 9, \"scale\": 2}\n",
    "\n",
    "slick_tiles = {\n",
    "    0: [[34, 42, 51, 59, 67, 75]],\n",
    "    0.33: [[34, 35, 43, 51, 59, 60, 67, 68]],\n",
    "    0.66: [[35, 43, 51, 60, 68]],\n",
    "}"
   ]
  },
  {
   "cell_type": "code",
   "execution_count": null,
   "metadata": {},
   "outputs": [],
   "source": [
    "scene_id = \"S1B_IW_GRDH_1SDV_20201023T170409_20201023T170433_023943_02D81C_C8C1\"\n",
    "test_scene = {\"sceneid\": scene_id, \"zoom\": 9, \"scale\": 2}\n",
    "\n",
    "slick_tiles = {\n",
    "    0: [[18]],  # , 25, 26\n",
    "    0.33: [[18, 19]],\n",
    "    0.66: [[12, 19]],\n",
    "}"
   ]
  },
  {
   "cell_type": "code",
   "execution_count": null,
   "metadata": {},
   "outputs": [],
   "source": [
    "scene_id = \"S1A_IW_GRDH_1SDV_20240204T184243_20240204T184308_052413_0656A2_1B88\"\n",
    "test_scene = {\"sceneid\": scene_id, \"zoom\": 9, \"scale\": 2}\n",
    "\n",
    "slick_tiles = {\n",
    "    0: [[44, 52]],\n",
    "    0.33: [[37, 45]],\n",
    "    0.66: [[37, 45]],\n",
    "}"
   ]
  },
  {
   "cell_type": "code",
   "execution_count": null,
   "metadata": {},
   "outputs": [],
   "source": [
    "scene_id = \"S1A_IW_GRDH_1SDV_20201009T201613_20201009T201642_034724_040B9A_67CD\"\n",
    "test_scene = {\"sceneid\": scene_id, \"zoom\": 9, \"scale\": 2}\n",
    "\n",
    "slick_tiles = {\n",
    "    0: [[44, 45]],\n",
    "    0.33: [[37, 45]],\n",
    "    0.66: [[37, 45]],\n",
    "}"
   ]
  },
  {
   "cell_type": "code",
   "execution_count": null,
   "metadata": {},
   "outputs": [],
   "source": [
    "# Edge Effect Scenes\n",
    "# scene_id = \"S1A_IW_GRDH_1SDV_20240429T215331_20240429T215359_053654_068417_58C8\"\n",
    "# scene_id = \"S1A_IW_GRDH_1SDV_20240920T215330_20240920T215358_055754_06CF90_3DCE\"\n",
    "scene_id = \"S1A_IW_GRDH_1SDV_20240710T215329_20240710T215357_054704_06A8FA_6F62\"\n",
    "test_scene = {\"sceneid\": scene_id, \"zoom\": 9, \"scale\": 2}\n",
    "\n",
    "slick_tiles = {\n",
    "    0: [[13, 21, 29]],\n",
    "    0.33: [[13, 22, 30]],\n",
    "    0.66: [[14, 22, 30]],\n",
    "}"
   ]
  },
  {
   "cell_type": "markdown",
   "metadata": {},
   "source": [
    "ensemble = [tiling1, tiling2, tiling3, ...]\n",
    "\n",
    "tiling = [stack1, stack2, stack3, ...]\n",
    "\n",
    "stack = [tile1, tile2, tile2, ...]\n",
    "\n",
    "ensemble_bounds[tiling_idx][stack_idx][tile_idx] >>> 4 float bound\n",
    "\n",
    "None of these are fixed length."
   ]
  },
  {
   "cell_type": "code",
   "execution_count": null,
   "metadata": {},
   "outputs": [],
   "source": [
    "model = get_model(model_dict_predefined, model_path_local=MODEL_PATH_LOCAL)\n",
    "\n",
    "ensemble_out = []\n",
    "ensemble_bounds = []\n",
    "ensemble = slick_tiles\n",
    "\n",
    "for tiling_offset in ensemble.keys():\n",
    "    titler_client, tile_bounds = await get_titiler_client_and_offset_tiles(\n",
    "        test_scene, offset=tiling_offset\n",
    "    )\n",
    "    tiling_out = []\n",
    "    tiling_bounds = []\n",
    "    for s, stack in enumerate(ensemble[tiling_offset]):\n",
    "        stack_in = []\n",
    "        vv_stack = []\n",
    "        stack_bounds = []\n",
    "        for tile_idx in stack:\n",
    "            vv = (\n",
    "                await titler_client.get_offset_tile(\n",
    "                    scene_id, *tile_bounds[tile_idx], height=512, width=512\n",
    "                )\n",
    "            ).transpose(2, 0, 1)[0]\n",
    "            vv_stack.append(vv)\n",
    "            input = InferenceInput(\n",
    "                image=img_array_to_b64_image(\n",
    "                    np.array([vv] * len(model_dict_predefined[\"layers\"]))\n",
    "                )\n",
    "            )\n",
    "            stack_in.append(input)\n",
    "            stack_bounds.append(tile_bounds[tile_idx])\n",
    "        stack_out = model.predict(stack_in)\n",
    "        tiling_out.append(stack_out)\n",
    "        tiling_bounds.append(stack_bounds)\n",
    "    ensemble_bounds.append(tiling_bounds)\n",
    "    ensemble_out.append(tiling_out)\n",
    "\n",
    "\n",
    "# ensemble_bounds[tiling_idx][stack_idx][tile_idx] >>> 4 float bound\n",
    "# ensemble_out[tiling_idx][stack_idx].stack[tile_idx].json_data >>> str"
   ]
  },
  {
   "cell_type": "code",
   "execution_count": null,
   "metadata": {},
   "outputs": [],
   "source": [
    "fig, axs = plt.subplots(1, 4, figsize=(20, 5))  # Create 1 row of 4 subplots\n",
    "for i, cls in enumerate(\n",
    "    model.deserialize(ensemble_out[0][0].stack[0].json_data).detach().numpy()\n",
    "):\n",
    "    axs[i].imshow(\n",
    "        cls, cmap=\"jet\", vmin=0, vmax=1\n",
    "    )  # Use vmin and vmax to scale the images\n",
    "    axs[i].axis(\"off\")  # Turn off axis for cleaner look\n",
    "plt.show()"
   ]
  },
  {
   "cell_type": "code",
   "execution_count": null,
   "metadata": {},
   "outputs": [],
   "source": [
    "# model_dict_predefined[\"thresholds\"] = {\n",
    "#     \"poly_nms_thresh\": 0.2,  # Minimum IoU between instances that will keep the higher scoring multipolygon\n",
    "#     \"bbox_score_thresh\": 0.0001,  # Smallest bridge value that will connect polygons into a multipolygon\n",
    "#     \"poly_score_thresh\": 0.5,  # Determines the size of the outline of any given polygon\n",
    "#     \"pixel_score_thresh\": 0.9,  # Minimum pixel score that will be required to keep a multipolygon\n",
    "# }"
   ]
  },
  {
   "cell_type": "code",
   "execution_count": null,
   "metadata": {},
   "outputs": [],
   "source": [
    "model = get_model(model_dict_predefined, model_path_local=MODEL_PATH_LOCAL)\n",
    "\n",
    "fc_stack = []\n",
    "for tiling_out, tiling_bounds in zip(ensemble_out, ensemble_bounds):\n",
    "    fc = model.postprocess_tileset(tiling_out, tiling_bounds)\n",
    "    fc_stack.append(fc)\n",
    "\n",
    "# Ensemble the FCs together\n",
    "fc_f = model.nms_feature_reduction(\n",
    "    features=fc_stack, min_overlaps_to_keep=(1 if len(slick_tiles) > 1 else 0)\n",
    ")"
   ]
  },
  {
   "cell_type": "code",
   "execution_count": null,
   "metadata": {},
   "outputs": [],
   "source": [
    "import geopandas as gpd\n",
    "\n",
    "# PLOT EVERYTHING\n",
    "gdf_f = gpd.GeoDataFrame.from_features(fc_f[\"features\"])\n",
    "\n",
    "fig, ax = plt.subplots(figsize=(20, 20))\n",
    "colors = plt.cm.get_cmap(\"jet\", len(gdf_f))\n",
    "for tile_idx, g in gdf_f.iterrows():\n",
    "    gdf_f.loc[[tile_idx]].plot(ax=ax, color=colors(tile_idx), alpha=0.75)\n",
    "    ax.plot(\n",
    "        [],\n",
    "        [],\n",
    "        color=colors(tile_idx),\n",
    "        label=f\"{tile_idx} {model_dict_predefined['cls_map'][g['inf_idx']]}: {round(g['machine_confidence'],2)}\",\n",
    "    )\n",
    "ax.legend(title=\"Machine Confidence\", bbox_to_anchor=(1.05, 1), loc=\"upper left\")\n",
    "plt.show()\n",
    "\n",
    "gdf_f"
   ]
  },
  {
   "cell_type": "code",
   "execution_count": null,
   "metadata": {},
   "outputs": [],
   "source": [
    "from rasterio.plot import show\n",
    "from rasterio.merge import merge as rio_merge\n",
    "\n",
    "ds_tiles = [\n",
    "    memfile_gtiff(nparray=array, bounds=bounds).open()\n",
    "    for array, bounds in zip(vv_stack, tiling_bounds[-1])\n",
    "]\n",
    "\n",
    "# Merge datasets\n",
    "scene_array, transform = rio_merge(ds_tiles)\n",
    "\n",
    "# Plotting the merged image\n",
    "fig, ax = plt.subplots(figsize=(20, 20))  # You can adjust the size as needed\n",
    "show(\n",
    "    scene_array[0], transform=transform, ax=ax\n",
    ")  # Assuming merged array is the first band\n",
    "gdf_f.plot(\n",
    "    ax=ax, alpha=0.3, edgecolor=\"red\", facecolor=\"none\"\n",
    ")  # Adjust alpha for transparency\n",
    "ax.set_title(\"Stitched Image\")\n",
    "plt.show()"
   ]
  },
  {
   "cell_type": "code",
   "execution_count": null,
   "metadata": {},
   "outputs": [],
   "source": []
  }
 ],
 "metadata": {
  "kernelspec": {
   "display_name": "Python 3 (ipykernel)",
   "language": "python",
   "name": "python3"
  },
  "language_info": {
   "codemirror_mode": {
    "name": "ipython",
    "version": 3
   },
   "file_extension": ".py",
   "mimetype": "text/x-python",
   "name": "python",
   "nbconvert_exporter": "python",
   "pygments_lexer": "ipython3",
   "version": "3.9.13"
  }
 },
 "nbformat": 4,
 "nbformat_minor": 2
}
