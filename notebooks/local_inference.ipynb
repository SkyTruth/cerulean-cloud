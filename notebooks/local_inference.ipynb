{
 "cells": [
  {
   "cell_type": "code",
   "execution_count": null,
   "metadata": {},
   "outputs": [],
   "source": [
    "%load_ext autoreload\n",
    "%autoreload 2\n",
    "\n",
    "import os\n",
    "import sys\n",
    "from dotenv import load_dotenv\n",
    "\n",
    "# Make sure your dotenv file has the following defined:\n",
    "load_dotenv()\n",
    "GIT_FOLDER=os.environ['GIT_FOLDER']\n",
    "LOCAL_MODEL_PATH=os.environ['LOCAL_MODEL_PATH']\n",
    "TITILER_URL=os.environ['TITILER_URL']\n",
    "TITILER_API_KEY= os.environ['TITILER_API_KEY']\n",
    "\n",
    "if not (GIT_FOLDER and TITILER_URL and LOCAL_MODEL_PATH and TITILER_API_KEY):\n",
    "    print(\"ERRROR: Failed to find all the necessary environment variables!!!\")\n",
    "    # Note, you must restart the kernel if you want to load new environment variables\n",
    "\n",
    "if GIT_FOLDER not in sys.path:\n",
    "    sys.path.append(GIT_FOLDER)\n",
    "print(sys.path)"
   ]
  },
  {
   "cell_type": "code",
   "execution_count": null,
   "metadata": {},
   "outputs": [],
   "source": [
    "from cerulean_cloud.models import get_model\n",
    "from cerulean_cloud.cloud_run_offset_tiles.schema import InferenceInput\n",
    "from cerulean_cloud.cloud_run_orchestrator.clients import img_array_to_b64_image\n",
    "import numpy as np\n",
    "\n",
    "from cerulean_cloud.cloud_run_orchestrator.schema import OrchestratorInput\n",
    "from cerulean_cloud.tiling import TMS, offset_bounds_from_base_tiles\n",
    "from cerulean_cloud.titiler_client import TitilerClient\n",
    "import matplotlib.pyplot as plt\n"
   ]
  },
  {
   "cell_type": "code",
   "execution_count": null,
   "metadata": {},
   "outputs": [],
   "source": [
    "async def get_titiler_client_and_offset_tiles(sentinel_scene, offset=.33):\n",
    "    payload = OrchestratorInput(**sentinel_scene)\n",
    "    TitilerClient_url = os.getenv('TITILER_URL')\n",
    "    titiler_client = TitilerClient(url=TitilerClient_url)\n",
    "    scene_bounds = await titiler_client.get_bounds(payload.sceneid)\n",
    "    tiler = TMS\n",
    "    base_tiles = list(tiler.tiles(*scene_bounds, [payload.zoom], truncate=False))\n",
    "    offset_tile_bounds = offset_bounds_from_base_tiles(base_tiles, offset_amount=offset)\n",
    "    return titiler_client, offset_tile_bounds"
   ]
  },
  {
   "cell_type": "code",
   "execution_count": null,
   "metadata": {},
   "outputs": [],
   "source": [
    "dbs_dict = {\n",
    "    \"type\": \"FASTAIUNET\",\n",
    "    \"file_path\": \"\",#\"experiments/2024_03_06_18_14_31_7cls_rn101_pr256_z9_fastai_baseline_noamb/tracing_cpu_model.pt\",\n",
    "    \"layers\": [\"VV\"],\n",
    "    \"cls_map\": {\n",
    "        0: \"BACKGROUND\",\n",
    "        1: \"INFRA\",\n",
    "        2: \"NATURAL\",\n",
    "        3: \"COIN_VESSEL\",\n",
    "        4: \"REC_VESSEL\",\n",
    "        5: \"OLD_VESSEL\",\n",
    "        6: \"BACKGROUND\"  # HITL AMBIGUOUS, should never be output by inference_idx\n",
    "    },  # inference_idx maps to class table\n",
    "    \"name\": \"ResNet101 Baseline Noamb\",\n",
    "    \"tile_width_m\": 40844,  # Used to calculate zoom\n",
    "    \"tile_width_px\": 256,  # Used to calculate scale\n",
    "    \"epochs\": 80,\n",
    "    \"thresholds\": {\n",
    "        \"pixel_nms_thresh\": 0.4,\n",
    "        \"bbox_score_thresh\": 0.001,\n",
    "        \"poly_score_thresh\": 0.5,\n",
    "        \"pixel_score_thresh\": 0.9995,\n",
    "        \"groundtruth_dice_thresh\": 0.0\n",
    "    },\n",
    "    \"backbone_size\": 101\n",
    "    # \"pixel_f1\": 0.0,  # TODO CALCULATE\n",
    "    # \"instance_f1\": 0.0  # TODO CALCULATE\n",
    "}\n",
    "\n",
    "scene_id = \"S1A_IW_GRDH_1SDV_20240204T184243_20240204T184308_052413_0656A2_1B88\"\n",
    "test_scene = {\"sceneid\": scene_id , \"zoom\":9, \"scale\":2}\n",
    "offset2_client , offset_tiles2 =  await get_titiler_client_and_offset_tiles(test_scene,offset=.66)\n",
    "\n",
    "example_tile = offset_tiles2[37]\n",
    "\n",
    "vv = (await offset2_client.get_offset_tile(scene_id, *example_tile,height=512,width=512)).transpose(2,0,1)[0]\n",
    "\n",
    "encoded = img_array_to_b64_image(np.array([vv]))\n",
    "inf_stack = [InferenceInput(image=encoded, bounds=example_tile)]\n",
    "\n",
    "model = get_model(dbs_dict,model_path_local=LOCAL_MODEL_PATH)\n",
    "\n",
    "preds = model.predict(inf_stack)\n",
    "\n",
    "print(preds)"
   ]
  },
  {
   "cell_type": "code",
   "execution_count": null,
   "metadata": {},
   "outputs": [],
   "source": [
    "plt.imshow(vv, cmap=\"grey\")"
   ]
  }
 ],
 "metadata": {
  "kernelspec": {
   "display_name": "Python 3 (ipykernel)",
   "language": "python",
   "name": "python3"
  },
  "language_info": {
   "codemirror_mode": {
    "name": "ipython",
    "version": 3
   },
   "file_extension": ".py",
   "mimetype": "text/x-python",
   "name": "python",
   "nbconvert_exporter": "python",
   "pygments_lexer": "ipython3",
   "version": "3.9.13"
  }
 },
 "nbformat": 4,
 "nbformat_minor": 2
}
