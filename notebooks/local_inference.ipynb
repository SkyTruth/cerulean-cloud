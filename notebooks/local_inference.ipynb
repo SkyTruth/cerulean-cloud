{
 "cells": [
  {
   "cell_type": "code",
   "execution_count": 10,
   "metadata": {},
   "outputs": [
    {
     "name": "stdout",
     "output_type": "stream",
     "text": [
      "The autoreload extension is already loaded. To reload it, use:\n",
      "  %reload_ext autoreload\n",
      "C:\\Users\\Ethan\\SkyTruth\\git\\cerulean-cloud\\\n"
     ]
    }
   ],
   "source": [
    "%load_ext autoreload\n",
    "%autoreload 2\n",
    "\n",
    "from dotenv import load_dotenv\n",
    "import os\n",
    "load_dotenv()\n",
    "import sys\n",
    "\n",
    "#module_path = os.environ['MODULE_PATH']\n",
    "#print(module_path)\n",
    "#if module_path not in sys.path:\n",
    "#    sys.path.append(module_path)\n",
    "\n",
    "sys.path.append(os.path.join(os.environ['GIT_FOLDER']))\n",
    "print(os.environ['GIT_FOLDER'])"
   ]
  },
  {
   "cell_type": "code",
   "execution_count": 11,
   "metadata": {},
   "outputs": [
    {
     "name": "stdout",
     "output_type": "stream",
     "text": [
      "['C:\\\\Users\\\\Ethan', 'C:\\\\Users\\\\Ethan\\\\AppData\\\\Local\\\\anaconda3\\\\envs\\\\CeruleanWork\\\\python311.zip', 'C:\\\\Users\\\\Ethan\\\\AppData\\\\Local\\\\anaconda3\\\\envs\\\\CeruleanWork\\\\DLLs', 'C:\\\\Users\\\\Ethan\\\\AppData\\\\Local\\\\anaconda3\\\\envs\\\\CeruleanWork\\\\Lib', 'C:\\\\Users\\\\Ethan\\\\AppData\\\\Local\\\\anaconda3\\\\envs\\\\CeruleanWork', '', 'C:\\\\Users\\\\Ethan\\\\AppData\\\\Local\\\\anaconda3\\\\envs\\\\CeruleanWork\\\\Lib\\\\site-packages', 'C:\\\\Users\\\\Ethan\\\\AppData\\\\Local\\\\anaconda3\\\\envs\\\\CeruleanWork\\\\Lib\\\\site-packages\\\\win32', 'C:\\\\Users\\\\Ethan\\\\AppData\\\\Local\\\\anaconda3\\\\envs\\\\CeruleanWork\\\\Lib\\\\site-packages\\\\win32\\\\lib', 'C:\\\\Users\\\\Ethan\\\\AppData\\\\Local\\\\anaconda3\\\\envs\\\\CeruleanWork\\\\Lib\\\\site-packages\\\\Pythonwin', 'C:\\\\Users\\\\Ethan\\\\SkyTruth\\\\git\\\\cerulean-cloud\\\\cerulean_cloud\\\\models', 'C:\\\\Users\\\\Ethan\\\\SkyTruth\\\\git\\\\cerulean-cloud\\\\cerulean_cloud', 'C:\\\\Users\\\\Ethan\\\\SkyTruth\\\\git\\\\cerulean-cloud\\\\']\n"
     ]
    }
   ],
   "source": [
    "print(sys.path)"
   ]
  },
  {
   "cell_type": "code",
   "execution_count": 13,
   "metadata": {},
   "outputs": [
    {
     "ename": "ModuleNotFoundError",
     "evalue": "No module named 'cerulean_cloud.models'",
     "output_type": "error",
     "traceback": [
      "\u001b[1;31m---------------------------------------------------------------------------\u001b[0m",
      "\u001b[1;31mModuleNotFoundError\u001b[0m                       Traceback (most recent call last)",
      "Cell \u001b[1;32mIn[13], line 1\u001b[0m\n\u001b[1;32m----> 1\u001b[0m \u001b[38;5;28;01mfrom\u001b[39;00m \u001b[38;5;21;01mcerulean_cloud\u001b[39;00m\u001b[38;5;21;01m.\u001b[39;00m\u001b[38;5;21;01mmodels\u001b[39;00m \u001b[38;5;28;01mimport\u001b[39;00m get_model\n\u001b[0;32m      2\u001b[0m \u001b[38;5;28;01mfrom\u001b[39;00m \u001b[38;5;21;01mcerulean_cloud\u001b[39;00m\u001b[38;5;21;01m.\u001b[39;00m\u001b[38;5;21;01mcloud_run_offset_tiles\u001b[39;00m\u001b[38;5;21;01m.\u001b[39;00m\u001b[38;5;21;01mschema\u001b[39;00m \u001b[38;5;28;01mimport\u001b[39;00m InferenceInput\n\u001b[0;32m      3\u001b[0m \u001b[38;5;28;01mfrom\u001b[39;00m \u001b[38;5;21;01mcerulean_cloud\u001b[39;00m\u001b[38;5;21;01m.\u001b[39;00m\u001b[38;5;21;01mcloud_run_orchestrator\u001b[39;00m\u001b[38;5;21;01m.\u001b[39;00m\u001b[38;5;21;01mclients\u001b[39;00m \u001b[38;5;28;01mimport\u001b[39;00m img_array_to_b64_image\n",
      "\u001b[1;31mModuleNotFoundError\u001b[0m: No module named 'cerulean_cloud.models'"
     ]
    }
   ],
   "source": [
    "from cerulean_cloud.models import get_model\n",
    "from cerulean_cloud.cloud_run_offset_tiles.schema import InferenceInput\n",
    "from cerulean_cloud.cloud_run_orchestrator.clients import img_array_to_b64_image\n",
    "import numpy as np\n",
    "\n",
    "from cerulean_cloud.cloud_run_orchestrator.schema import OrchestratorInput\n",
    "from cerulean_cloud.tiling import TMS, offset_bounds_from_base_tiles\n",
    "from cerulean_cloud.titiler_client import TitilerClient\n",
    "import matplotlib.pyplot as plt\n"
   ]
  },
  {
   "cell_type": "code",
   "execution_count": null,
   "metadata": {},
   "outputs": [],
   "source": [
    "async def get_titiler_client_and_offset_tiles(sentinel_scene, offset=.33):\n",
    "    payload = OrchestratorInput(**sentinel_scene)\n",
    "    TitilerClient_url = os.getenv('TITILER_URL')\n",
    "    titiler_client = TitilerClient(url=TitilerClient_url)\n",
    "    scene_bounds = await titiler_client.get_bounds(payload.sceneid)\n",
    "    tiler = TMS\n",
    "    base_tiles = list(tiler.tiles(*scene_bounds, [payload.zoom], truncate=False))\n",
    "    offset_tile_bounds = offset_bounds_from_base_tiles(base_tiles, offset_amount=offset)\n",
    "    return titiler_client, offset_tile_bounds"
   ]
  },
  {
   "cell_type": "code",
   "execution_count": null,
   "metadata": {},
   "outputs": [],
   "source": [
    "dbs_dict = {\n",
    "    \"type\": \"FASTAIUNET\",\n",
    "    \"file_path\": \"\",#\"experiments/2024_03_06_18_14_31_7cls_rn101_pr256_z9_fastai_baseline_noamb/tracing_cpu_model.pt\",\n",
    "    \"layers\": [\"VV\"],\n",
    "    \"cls_map\": {\n",
    "        0: \"BACKGROUND\",\n",
    "        1: \"INFRA\",\n",
    "        2: \"NATURAL\",\n",
    "        3: \"COIN_VESSEL\",\n",
    "        4: \"REC_VESSEL\",\n",
    "        5: \"OLD_VESSEL\",\n",
    "        6: \"BACKGROUND\"  # HITL AMBIGUOUS, should never be output by inference_idx\n",
    "    },  # inference_idx maps to class table\n",
    "    \"name\": \"ResNet101 Baseline Noamb\",\n",
    "    \"tile_width_m\": 40844,  # Used to calculate zoom\n",
    "    \"tile_width_px\": 256,  # Used to calculate scale\n",
    "    \"epochs\": 80,\n",
    "    \"thresholds\": {\n",
    "        \"pixel_nms_thresh\": 0.4,\n",
    "        \"bbox_score_thresh\": 0.001,\n",
    "        \"poly_score_thresh\": 0.5,\n",
    "        \"pixel_score_thresh\": 0.9995,\n",
    "        \"groundtruth_dice_thresh\": 0.0\n",
    "    },\n",
    "    \"backbone_size\": 101\n",
    "    # \"pixel_f1\": 0.0,  # TODO CALCULATE\n",
    "    # \"instance_f1\": 0.0  # TODO CALCULATE\n",
    "}\n",
    "\n",
    "scene_id = \"S1A_IW_GRDH_1SDV_20240204T184243_20240204T184308_052413_0656A2_1B88\"\n",
    "test_scene = {\"sceneid\": scene_id , \"zoom\":9, \"scale\":2}\n",
    "offset2_client , offset_tiles2 =  await get_titiler_client_and_offset_tiles(test_scene,offset=.66)\n",
    "\n",
    "example_tile = offset_tiles2[37]\n",
    "\n",
    "vv = (await offset2_client.get_offset_tile(scene_id, *example_tile,height=512,width=512)).transpose(2,0,1)[0]\n",
    "\n",
    "encoded = img_array_to_b64_image(np.array([vv]))\n",
    "inf_stack = [InferenceInput(image=encoded, bounds=example_tile)]\n",
    "\n",
    "model = get_model(dbs_dict,model_path_local=model_path)\n",
    "\n",
    "preds = model.predict(inf_stack)\n",
    "\n",
    "print(preds)"
   ]
  },
  {
   "cell_type": "code",
   "execution_count": null,
   "metadata": {},
   "outputs": [],
   "source": [
    "plt.imshow(vv, cmap=\"grey\")"
   ]
  }
 ],
 "metadata": {
  "kernelspec": {
   "display_name": "Python 3 (ipykernel)",
   "language": "python",
   "name": "python3"
  },
  "language_info": {
   "codemirror_mode": {
    "name": "ipython",
    "version": 3
   },
   "file_extension": ".py",
   "mimetype": "text/x-python",
   "name": "python",
   "nbconvert_exporter": "python",
   "pygments_lexer": "ipython3",
   "version": "3.11.5"
  }
 },
 "nbformat": 4,
 "nbformat_minor": 2
}
