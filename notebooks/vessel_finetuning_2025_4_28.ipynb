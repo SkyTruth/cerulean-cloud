{
 "cells": [
  {
   "cell_type": "code",
   "execution_count": null,
   "metadata": {},
   "outputs": [],
   "source": [
    "import os\n",
    "import sys\n",
    "from dotenv import load_dotenv\n",
    "import time\n",
    "import pandas as pd\n",
    "\n",
    "load_dotenv()\n",
    "\n",
    "# Set the download path for demonstration and ensure the folder exists.\n",
    "download_path = os.getenv(\"ASA_DOWNLOAD_PATH\")\n",
    "os.makedirs(download_path, exist_ok=True)\n",
    "\n",
    "git_path = os.getenv(\"GIT_FOLDER\")\n",
    "cv3_path = os.getenv(\"CV3_FOLDER\")\n",
    "sys.path.append(git_path)\n",
    "sys.path.append(cv3_path)"
   ]
  },
  {
   "cell_type": "code",
   "execution_count": null,
   "metadata": {},
   "outputs": [],
   "source": [
    "from cerulean_cloud.cloud_function_asa.utils.analyzer import (\n",
    "    AISAnalyzer,\n",
    ")"
   ]
  },
  {
   "cell_type": "code",
   "execution_count": null,
   "metadata": {},
   "outputs": [],
   "source": [
    "# Import functions from your script.\n",
    "from asa_analysis.evaluation.source_analyzer_evaluation import (\n",
    "    process_groundtruth_on_analyzer,\n",
    ")"
   ]
  },
  {
   "cell_type": "code",
   "execution_count": null,
   "metadata": {},
   "outputs": [],
   "source": [
    "# Load hitl CSV for vessel and infrastructure groundtruth.\n",
    "csv_path = r\"../slick_to_source_2025-3-20.csv\"\n",
    "hitl_df = pd.read_csv(csv_path)\n",
    "\n",
    "# Extract groundtruth lists for infrastructure and vessels.\n",
    "vessel_groundtruth = hitl_df[(hitl_df[\"type\"] == 1) & (hitl_df[\"hitl_verification\"])]\n",
    "\n",
    "if \"slick\" in vessel_groundtruth.columns:\n",
    "    vessel_groundtruth = vessel_groundtruth.rename(columns={\"slick\": \"slick_id\"})"
   ]
  },
  {
   "cell_type": "markdown",
   "metadata": {},
   "source": [
    "DOWNLOAD VESSEL FINETUNING ON `HOURS_BEFORE`, `HOURS_AFTER`, and `AIS_BUFFER`"
   ]
  },
  {
   "cell_type": "code",
   "execution_count": null,
   "metadata": {},
   "outputs": [],
   "source": [
    "# before_after = [[4,2], [6,4], [8,4], [10,6], [12,6], [14,8], [16,8]]\n",
    "# before_after2 = [[10,4], [8,6], [9,5]]\n",
    "before_after3 = [[1, 1]]\n",
    "results_over_intervals = []"
   ]
  },
  {
   "cell_type": "code",
   "execution_count": null,
   "metadata": {},
   "outputs": [],
   "source": [
    "buffer = 20000\n",
    "for before, after in before_after3:\n",
    "    kwargs = {\"hours_before\": before, \"hours_after\": after, \"ais_buffer\": buffer}\n",
    "    start_time = time.time()\n",
    "    results_vessel_local = process_groundtruth_on_analyzer(\n",
    "        AISAnalyzer,\n",
    "        vessel_groundtruth,\n",
    "        analyzer_params=kwargs,\n",
    "        reuse_ais_trajectories=False,\n",
    "        reuse_ais_gdf=True,\n",
    "    )\n",
    "    end_time = time.time()\n",
    "    results_vessel_local[\"runtime\"] = end_time - start_time\n",
    "    results_vessel_local.drop(columns=[\"geometry\"]).to_csv(\n",
    "        f\"saves/vessel_results_{before}_{after}_{buffer}.csv\", index=False\n",
    "    )"
   ]
  },
  {
   "cell_type": "code",
   "execution_count": null,
   "metadata": {},
   "outputs": [],
   "source": [
    "buffers = [0, 100, 1000, 10000, 15000, 20000, 30000, 50000]\n",
    "for buffer in buffers:\n",
    "    kwargs = {\"hours_before\": 10, \"hours_after\": 6, \"ais_buffer\": buffer}\n",
    "    start_time = time.time()\n",
    "    results_vessel_local = process_groundtruth_on_analyzer(\n",
    "        AISAnalyzer,\n",
    "        vessel_groundtruth,\n",
    "        analyzer_params=kwargs,\n",
    "        reuse_ais_trajectories=False,\n",
    "        reuse_ais_gdf=True,\n",
    "    )\n",
    "    end_time = time.time()\n",
    "    results_vessel_local[\"runtime\"] = end_time - start_time\n",
    "    results_vessel_local.drop(columns=[\"geometry\"]).to_csv(\n",
    "        f\"saves/vessel_results_{before}_{after}_{buffer}.csv\", index=False\n",
    "    )"
   ]
  }
 ],
 "metadata": {
  "kernelspec": {
   "display_name": "Python 3",
   "language": "python",
   "name": "python3"
  },
  "language_info": {
   "codemirror_mode": {
    "name": "ipython",
    "version": 3
   },
   "file_extension": ".py",
   "mimetype": "text/x-python",
   "name": "python",
   "nbconvert_exporter": "python",
   "pygments_lexer": "ipython3",
   "version": "3.11.5"
  }
 },
 "nbformat": 4,
 "nbformat_minor": 2
}
