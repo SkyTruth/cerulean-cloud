{
 "cells": [
  {
   "cell_type": "code",
   "execution_count": null,
   "id": "47d309b2-fd16-44ec-a52b-72f5e2ef7dbe",
   "metadata": {},
   "outputs": [],
   "source": [
    "%load_ext autoreload\n",
    "%autoreload 2\n",
    "\n",
    "import datetime\n",
    "import json\n",
    "\n",
    "from logger_utils import (\n",
    "    log_query,\n",
    "    query_logger,\n",
    "    generate_log_file,\n",
    "    get_scene_log_stats,\n",
    "    get_latest_revision,\n",
    ")\n",
    "\n",
    "project_id = \"cerulean-338116\"\n",
    "service_name = \"cerulean-cloud-test-cr-orchestrator\"\n",
    "# service_name = \"cerulean-cloud-test-cr-offset-tiles\"\n",
    "\n",
    "# Update to current revision name\n",
    "revision_name = get_latest_revision(project_id, service_name)\n",
    "# revision_name = \"cerulean-cloud-test-cr-orchestrator-00072-9x7\"\n",
    "\n",
    "# set start time to 1 day ago\n",
    "utc = datetime.timezone.utc\n",
    "start_time = datetime.datetime.now(utc) - datetime.timedelta(days=1)\n",
    "your_timezone = \"US/Eastern\" # or \"US/Arizona\"\n",
    "\n",
    "print(f\"\\n{revision_name}\")\n",
    "print(f\"{start_time}Z\")\n"
   ]
  },
  {
   "cell_type": "markdown",
   "id": "d492d1b6-2d09-47b8-b316-fdf882a813d7",
   "metadata": {},
   "source": [
    "# Querying the Logger\n",
    "\n",
    "## The `log_query` function \n",
    "- Creates the query string to query the CloudRun Logs\n",
    "- Args:\n",
    "  - service_name (str): The name of the Cloud Run service.\n",
    "  - revision_name (str, optional): The revision name to filter logs for a specific service revision.\n",
    "  - instance_id (str, optional): The instance ID to filter logs for a specific Cloud Run instance.\n",
    "  - start_time (datetime, optional): The start timestamp for log filtering.\n",
    "  - end_time (datetime, optional): The end timestamp for log filtering.\n",
    "  - textPayload (str, optional): A string to match in the text payload of the logs.\n",
    "  - not_textPayload (str, optional): A string to exclude from the text payload of the logs.\n",
    "  - jsonPayload (dict, optional): A dictionary of key-value pairs to match in the JSON payload of the logs.\n",
    "      - e.g. {\"message\": \"Initiating Orchestrator\"}\n",
    "  - severity (str, optional): The exact severity level to filter logs (e.g., \"ERROR\").\n",
    "  - min_severity (str, optional): The minimum severity level to filter logs (e.g., \"WARNING\").\n",
    "- Most frequently, \n",
    "\n",
    "## The `query_logger` function \n",
    "- Queries the CloudRun Logs and returns a dataframe\n",
    "- Args:\n",
    "  - project_id (str): The ID of the Google Cloud project.\n",
    "  - query (str): The filter query string for retrieving logs.\n"
   ]
  },
  {
   "cell_type": "markdown",
   "id": "87c2b9e5-32b8-4aca-8919-0899533b346d",
   "metadata": {},
   "source": [
    "# Get uncompleted scenes"
   ]
  },
  {
   "cell_type": "code",
   "execution_count": null,
   "id": "95efdeec-a86f-46f6-9b9f-0d03dd3ae2fa",
   "metadata": {},
   "outputs": [],
   "source": [
    "query = log_query(\n",
    "    service_name,\n",
    "    revision_name=revision_name,\n",
    "    jsonPayload={\"message\": \"Initiating Orchestrator\"},\n",
    "    start_time=start_time,\n",
    ")\n",
    "start_logs = query_logger(project_id, query)\n",
    "scenes_started = set()\n",
    "if len(start_logs) > 0:\n",
    "    start_logs = start_logs.groupby(\"scene_id\").first().reset_index()\n",
    "    scenes_started = set(\n",
    "        start_logs[\"json_payload\"].apply(lambda x: x[\"scene_id\"]).unique()\n",
    "    )\n",
    "\n",
    "\n",
    "query = log_query(\n",
    "    service_name,\n",
    "    revision_name=revision_name,\n",
    "    jsonPayload={\"message\": \"Orchestration complete!\"},\n",
    "    start_time=start_time,\n",
    ")\n",
    "finish_logs = query_logger(project_id, query)\n",
    "scenes_finished = set()\n",
    "if len(finish_logs) > 0:\n",
    "    finish_logs = finish_logs.groupby(\"scene_id\").first().reset_index()\n",
    "    scenes_finished = set(\n",
    "        finish_logs[\"json_payload\"].apply(lambda x: x[\"scene_id\"]).unique()\n",
    "    )\n",
    "\n",
    "if scenes_finished is not None:\n",
    "    print(\"Incomplete scenes:\")\n",
    "    display(scenes_started - scenes_finished)"
   ]
  },
  {
   "cell_type": "markdown",
   "id": "d76635ac-0d36-42ca-96f7-d4c80f3adbfd",
   "metadata": {},
   "source": [
    "# Get logs for one scene"
   ]
  },
  {
   "cell_type": "code",
   "execution_count": null,
   "id": "7e2118b7-2318-40c3-b45d-6e0c5f111c53",
   "metadata": {},
   "outputs": [],
   "source": [
    "logs = get_scene_log_stats(\n",
    "    project_id,\n",
    "    service_name,\n",
    "    revision_name,\n",
    "    start_time,\n",
    "    \"S1A_IW_GRDH_1SDV_20230408T175150_20230408T175215_048008_05C52F_3F9F\",\n",
    ")\n",
    "if logs.empty == False:\n",
    "    logs[\"timestamp\"] = logs[\"timestamp\"].dt.tz_convert(your_timezone)\n",
    "    display(logs.head())"
   ]
  },
  {
   "cell_type": "markdown",
   "id": "b6f3a694-bcd2-4c47-811a-9a43b6f9c540",
   "metadata": {},
   "source": [
    "# Generate a log file\n",
    "This will save a log file from the above logs (log.txt) which shows logs with most recent first"
   ]
  },
  {
   "cell_type": "code",
   "execution_count": null,
   "id": "40a32064-6501-4a7d-bd80-5f9691eeebff",
   "metadata": {},
   "outputs": [],
   "source": [
    "generate_log_file(logs, filename=\"log.txt\")"
   ]
  },
  {
   "cell_type": "markdown",
   "id": "9cb22e7e-ab59-4392-8382-896632b474a1",
   "metadata": {},
   "source": [
    "# Get all Errors and Warnings"
   ]
  },
  {
   "cell_type": "code",
   "execution_count": null,
   "id": "4d8c0a0e-5dfa-4101-b685-6e8d3db877fc",
   "metadata": {},
   "outputs": [],
   "source": [
    "query = log_query(\n",
    "    service_name,\n",
    "    revision_name=revision_name,\n",
    "    start_time=start_time,\n",
    "    min_severity=\"WARNING\",\n",
    ")\n",
    "logs = query_logger(project_id, query)\n",
    "\n",
    "if logs.empty == False:\n",
    "    # filter for only logs created with our manual logger (if the error isn't caught by our logging, this line should be removed)\n",
    "    logs = logs[logs[\"instanceId\"].isnull() == False]\n",
    "\n",
    "    print(len(logs))\n",
    "    display(logs.head())"
   ]
  },
  {
   "cell_type": "code",
   "execution_count": null,
   "id": "7b6f7e7e-eef6-4670-b004-b5e0af9ff761",
   "metadata": {},
   "outputs": [],
   "source": [
    "generate_log_file(logs, filename=\"log.txt\")"
   ]
  },
  {
   "cell_type": "markdown",
   "id": "e2c275ac-ea42-4650-91b8-7203a4c4f8b3",
   "metadata": {},
   "source": [
    "# Get all logs for revision \n",
    "(only for testing small number of tiles or this will be very large and probably crash)"
   ]
  },
  {
   "cell_type": "code",
   "execution_count": null,
   "id": "5539829e-45da-4f6a-985e-3fa9ee59b71f",
   "metadata": {},
   "outputs": [],
   "source": [
    "query = log_query(\n",
    "    service_name,\n",
    "    revision_name=revision_name,\n",
    "    start_time=start_time,\n",
    "    min_severity=\"INFO\",\n",
    ")\n",
    "logs = query_logger(project_id, query)\n",
    "print(len(logs))\n",
    "\n",
    "display(logs.head())"
   ]
  },
  {
   "cell_type": "markdown",
   "id": "7dbb8beb-6416-412d-8d5a-eeba866acd58",
   "metadata": {},
   "source": [
    "# Get all logs for Instance \n"
   ]
  },
  {
   "cell_type": "code",
   "execution_count": null,
   "id": "012b9eca-b503-47bc-8dca-da37b6bd65c8",
   "metadata": {},
   "outputs": [],
   "source": [
    "# Instance ID\n",
    "instance_id = \"0066d92480ea2f10e387a3d4930777cd5ec7dac3849054a147e7012b81eb62e0cd49983e8196e4cc20b86712733793259e4a161a83b56714e6a8600effc6cb62a19fc3b560\"\n",
    "\n",
    "query = log_query(\n",
    "    service_name,\n",
    "    revision_name=revision_name,\n",
    "    instance_id=instance_id,\n",
    "    start_time=start_time,\n",
    "    min_severity=\"INFO\",\n",
    ")\n",
    "logs = query_logger(project_id, query)\n",
    "print(len(logs))\n",
    "\n",
    "display(logs.head())"
   ]
  },
  {
   "cell_type": "markdown",
   "id": "a5e4b49e-dfae-4f9c-8390-9c6fa53bf5ee",
   "metadata": {},
   "source": [
    "# Get SIGTERM logs\n",
    "\n",
    "#### Some likely SIGTERM reasons:\n",
    "- CloudRun Instance Scale Down\n",
    "    - This should happen every time an instance shuts down\n",
    "    - example SIGTERM log:\n",
    "```python\n",
    "jsonPayload = {\n",
    "    'message': 'SIGTERM signal received.',\n",
    "    'line_number': 44.0,\n",
    "    'file_name': '/usr/lib/python3.9/asyncio/runners.py',\n",
    "    'scene_id': 'S1B_IW_GRDH_1SDV_20170110T061226_20170110T061251_003782_006809_D7FE'\n",
    "}\n",
    "```\n",
    "\n",
    "- CloudRun Instance Times out\n",
    "    - Happens when an instance takes longer to run than its timeout\n",
    "    - example SIGTERM log:\n",
    "```python\n",
    "jsonPayload = {\n",
    "    'message': 'SIGTERM signal received.',\n",
    "    'line_number': 798.0,\n",
    "    'file_name': '/app/site-packages/shapely/predicates.py',\n",
    "    'scene_id': 'S1A_IW_GRDH_1SDV_20230408T175150_20230408T175215_048008_05C52F_3F9F'\n",
    "}\n",
    "```"
   ]
  },
  {
   "cell_type": "code",
   "execution_count": null,
   "id": "3e6a82dd-1bda-409f-8671-c1d34da8d640",
   "metadata": {},
   "outputs": [],
   "source": [
    "query = log_query(\n",
    "    service_name,\n",
    "    revision_name=revision_name,\n",
    "    jsonPayload={\"message\": \"SIGTERM signal received.\"},\n",
    "    start_time=start_time,\n",
    ")\n",
    "logs = query_logger(project_id, query)\n",
    "if logs.empty == False:\n",
    "    _ = [\n",
    "        display(i)\n",
    "        for i in logs.groupby(\"scene_id\").first().reset_index()[\"json_payload\"]\n",
    "    ]"
   ]
  },
  {
   "cell_type": "markdown",
   "id": "b6c7f14c-4a73-4dd2-922f-92977c3a2972",
   "metadata": {},
   "source": [
    "# Get logs with specific message\n",
    "This message must be exact, not a subset of the message. For this reason, all messages are specific (not f-strings) with any variables captured by kwargs"
   ]
  },
  {
   "cell_type": "code",
   "execution_count": null,
   "id": "06417a37-86eb-433f-9b42-3b320e4de99a",
   "metadata": {},
   "outputs": [],
   "source": [
    "message = \"Generated image\"\n",
    "\n",
    "jsonPayload = {\n",
    "    \"message\": message,\n",
    "    \"scene_id\": \"S1A_IW_GRDH_1SDV_20230219T043841_20230219T043910_047300_05AD37_C54C\",\n",
    "}\n",
    "query = log_query(\n",
    "    service_name,\n",
    "    revision_name=revision_name,\n",
    "    jsonPayload=jsonPayload,\n",
    "    start_time=start_time,\n",
    ")\n",
    "logs = query_logger(project_id, query)\n",
    "if logs.empty == False:\n",
    "    _ = [display(i) for i in logs[\"json_payload\"]]\n",
    "else:\n",
    "    print(\n",
    "        f\"no instances of {message} in the logs for payload: {json.dumps(jsonPayload)}\"\n",
    "    )"
   ]
  }
 ],
 "metadata": {
  "kernelspec": {
   "display_name": "Python 3 (ipykernel)",
   "language": "python",
   "name": "python3"
  },
  "language_info": {
   "codemirror_mode": {
    "name": "ipython",
    "version": 3
   },
   "file_extension": ".py",
   "mimetype": "text/x-python",
   "name": "python",
   "nbconvert_exporter": "python",
   "pygments_lexer": "ipython3",
   "version": "3.12.0"
  }
 },
 "nbformat": 4,
 "nbformat_minor": 5
}
