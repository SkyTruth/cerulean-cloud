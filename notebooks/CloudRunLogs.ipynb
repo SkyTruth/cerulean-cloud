{
 "cells": [
  {
   "cell_type": "code",
   "execution_count": null,
   "id": "47d309b2-fd16-44ec-a52b-72f5e2ef7dbe",
   "metadata": {},
   "outputs": [],
   "source": [
    "from google.cloud import logging\n",
    "import datetime\n",
    "import pytz\n",
    "import pandas as pd\n",
    "import re\n",
    "\n",
    "from logger_utils import log_query, query_logger, generate_log_file\n",
    "\n",
    "project_id = \"cerulean-338116\"\n",
    "service_name = \"cerulean-cloud-test-cr-orchestrator\"\n",
    "# service_name = \"cerulean-cloud-prod20240903-cr-orchestrator\"\n"
   ]
  },
  {
   "cell_type": "markdown",
   "id": "27cc17b4-fdf4-436e-9a41-71bb3854bf38",
   "metadata": {},
   "source": [
    "# Get all logs for revision \n",
    "(only for testing small number of tiles or this will be very large and probably crash)"
   ]
  },
  {
   "cell_type": "code",
   "execution_count": null,
   "id": "5539829e-45da-4f6a-985e-3fa9ee59b71f",
   "metadata": {},
   "outputs": [],
   "source": [
    "# set start time to 1 day ago\n",
    "start_time = datetime.datetime.now(datetime.UTC) - datetime.timedelta(days=1)\n",
    "\n",
    "# revision name\n",
    "revision_name = \"cerulean-cloud-test-cr-orchestrator-00026-jzz\"\n",
    "\n",
    "query = log_query(service_name, revision_name=revision_name, start_time=start_time, min_severity=\"INFO\")\n",
    "logs = query_logger(project_id, query, df=True)\n",
    "print(len(logs))\n",
    "\n",
    "display(logs.head())"
   ]
  },
  {
   "cell_type": "markdown",
   "id": "5dfd67c8-0f0b-41a0-b236-d0c66440004d",
   "metadata": {},
   "source": [
    "# Generate a log file\n",
    "This will save a log file from the above logs (log.txt) which shows logs with most recent first"
   ]
  },
  {
   "cell_type": "code",
   "execution_count": null,
   "id": "40a32064-6501-4a7d-bd80-5f9691eeebff",
   "metadata": {},
   "outputs": [],
   "source": [
    "# saves file as log.txt\n",
    "generate_log_file(logs, filename=\"log.txt\")"
   ]
  },
  {
   "cell_type": "markdown",
   "id": "8771ae4a-f9d9-4674-b681-d65f1394e965",
   "metadata": {},
   "source": [
    "# Get all Errors and Warnings"
   ]
  },
  {
   "cell_type": "code",
   "execution_count": null,
   "id": "4d8c0a0e-5dfa-4101-b685-6e8d3db877fc",
   "metadata": {},
   "outputs": [],
   "source": [
    "# set start time to 1 day ago\n",
    "start_time = datetime.datetime.now(datetime.UTC) - datetime.timedelta(days=1)\n",
    "\n",
    "# revision name\n",
    "revision_name = \"cerulean-cloud-test-cr-orchestrator-00026-jzz\"\n",
    "\n",
    "query = log_query(service_name, revision_name=revision_name, start_time=start_time, min_severity=\"WARNING\")\n",
    "logs = query_logger(project_id, query, df=True)\n",
    "\n",
    "# filter for only logs created with our manual logger (if the error isn't caught by our logging, this line should be removed)\n",
    "logs = logs[logs['instanceId'].isnull()==False]\n",
    "\n",
    "print(len(logs))\n",
    "display(logs.head())"
   ]
  },
  {
   "cell_type": "code",
   "execution_count": null,
   "id": "7b6f7e7e-eef6-4670-b004-b5e0af9ff761",
   "metadata": {},
   "outputs": [],
   "source": [
    "generate_log_file(logs, filename=\"log.txt\")"
   ]
  },
  {
   "cell_type": "markdown",
   "id": "f7524535-5b21-4c59-9594-cf969a637691",
   "metadata": {},
   "source": [
    "# Get logs for one scene_id"
   ]
  },
  {
   "cell_type": "code",
   "execution_count": null,
   "id": "7defb1ac-dd1a-4c11-9828-5d1aa5203a8a",
   "metadata": {},
   "outputs": [],
   "source": [
    "# get scene_id of the failed scene\n",
    "scene_id = 'S1A_IW_GRDH_1SDV_20230408T175150_20230408T175215_048008_05C52F_3F9F'\n",
    "# instanceId = \"0066d924801743199fb98208bedae10d7bc061b9c588a81728141750df8536cb22a589c7a541c1a483f4f007d310fc3b1d144b97c5d14c1cddf9443be36d120211d349b0bfb0\"\n",
    "revision_name=\"cerulean-cloud-test-cr-orchestrator-00026-jzz\"\n",
    "\n",
    "# query logger for all manual error logs associated with this scene\n",
    "jsonPayload = {\n",
    "    \"scene_id\": scene_id\n",
    "}\n",
    "query = log_query(service_name, revision_name=revision_name, start_time=start_time, jsonPayload=jsonPayload)\n",
    "logs = query_logger(project_id, query, df=True)\n",
    "print(len(logs))\n",
    "display(logs.head())"
   ]
  },
  {
   "cell_type": "code",
   "execution_count": null,
   "id": "01fd0efb-33de-4dbb-a9ff-e29d0cd3fd97",
   "metadata": {},
   "outputs": [],
   "source": [
    "generate_log_file(logs, filename=\"log.txt\")"
   ]
  },
  {
   "cell_type": "code",
   "execution_count": null,
   "id": "b52e8b80-d812-49d1-8288-3f3be8f54abb",
   "metadata": {},
   "outputs": [],
   "source": []
  }
 ],
 "metadata": {
  "kernelspec": {
   "display_name": "Python 3 (ipykernel)",
   "language": "python",
   "name": "python3"
  },
  "language_info": {
   "codemirror_mode": {
    "name": "ipython",
    "version": 3
   },
   "file_extension": ".py",
   "mimetype": "text/x-python",
   "name": "python",
   "nbconvert_exporter": "python",
   "pygments_lexer": "ipython3",
   "version": "3.12.0"
  }
 },
 "nbformat": 4,
 "nbformat_minor": 5
}
