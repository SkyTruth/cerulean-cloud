{
 "cells": [
  {
   "cell_type": "code",
   "execution_count": 15,
   "id": "47d309b2-fd16-44ec-a52b-72f5e2ef7dbe",
   "metadata": {},
   "outputs": [],
   "source": [
    "from google.cloud import logging\n",
    "import datetime\n",
    "import pytz\n",
    "import pandas as pd\n",
    "import re\n",
    "\n",
    "from logger_utils import log_query, query_logger, generate_log_file, get_scene_log_stats\n",
    "\n",
    "project_id = \"cerulean-338116\"\n",
    "service_name = \"cerulean-cloud-test-cr-orchestrator\"\n",
    "# revision_name=\"cerulean-cloud-test-cr-orchestrator-00046-pfq\"\n",
    "revision_name=\"cerulean-cloud-test-cr-orchestrator-00052-99x\""
   ]
  },
  {
   "cell_type": "markdown",
   "id": "87c2b9e5-32b8-4aca-8919-0899533b346d",
   "metadata": {},
   "source": [
    "# Get uncompleted scenes"
   ]
  },
  {
   "cell_type": "code",
   "execution_count": 16,
   "id": "95efdeec-a86f-46f6-9b9f-0d03dd3ae2fa",
   "metadata": {},
   "outputs": [
    {
     "ename": "KeyError",
     "evalue": "'json_payload'",
     "output_type": "error",
     "traceback": [
      "\u001b[0;31m---------------------------------------------------------------------------\u001b[0m",
      "\u001b[0;31mKeyError\u001b[0m                                  Traceback (most recent call last)",
      "Cell \u001b[0;32mIn[16], line 3\u001b[0m\n\u001b[1;32m      1\u001b[0m start_time \u001b[38;5;241m=\u001b[39m datetime\u001b[38;5;241m.\u001b[39mdatetime\u001b[38;5;241m.\u001b[39mnow() \u001b[38;5;241m-\u001b[39m datetime\u001b[38;5;241m.\u001b[39mtimedelta(days\u001b[38;5;241m=\u001b[39m\u001b[38;5;241m1\u001b[39m)\n\u001b[1;32m      2\u001b[0m query \u001b[38;5;241m=\u001b[39m log_query(service_name, revision_name\u001b[38;5;241m=\u001b[39mrevision_name, jsonPayload\u001b[38;5;241m=\u001b[39m{\u001b[38;5;124m\"\u001b[39m\u001b[38;5;124mmessage\u001b[39m\u001b[38;5;124m\"\u001b[39m: \u001b[38;5;124m\"\u001b[39m\u001b[38;5;124mInitiating Orchestrator\u001b[39m\u001b[38;5;124m\"\u001b[39m}, start_time\u001b[38;5;241m=\u001b[39mstart_time)\n\u001b[0;32m----> 3\u001b[0m start_logs \u001b[38;5;241m=\u001b[39m \u001b[43mquery_logger\u001b[49m\u001b[43m(\u001b[49m\u001b[43mproject_id\u001b[49m\u001b[43m,\u001b[49m\u001b[43m \u001b[49m\u001b[43mquery\u001b[49m\u001b[43m)\u001b[49m\u001b[38;5;241m.\u001b[39mgroupby(\u001b[38;5;124m'\u001b[39m\u001b[38;5;124mscene_id\u001b[39m\u001b[38;5;124m'\u001b[39m)\u001b[38;5;241m.\u001b[39mfirst()\u001b[38;5;241m.\u001b[39mreset_index()\n\u001b[1;32m      4\u001b[0m query \u001b[38;5;241m=\u001b[39m log_query(service_name, revision_name\u001b[38;5;241m=\u001b[39mrevision_name, jsonPayload\u001b[38;5;241m=\u001b[39m{\u001b[38;5;124m\"\u001b[39m\u001b[38;5;124mmessage\u001b[39m\u001b[38;5;124m\"\u001b[39m: \u001b[38;5;124m\"\u001b[39m\u001b[38;5;124mOrchestration complete!\u001b[39m\u001b[38;5;124m\"\u001b[39m}, start_time\u001b[38;5;241m=\u001b[39mstart_time)\n\u001b[1;32m      5\u001b[0m finish_logs \u001b[38;5;241m=\u001b[39m query_logger(project_id, query)\u001b[38;5;241m.\u001b[39mgroupby(\u001b[38;5;124m'\u001b[39m\u001b[38;5;124mscene_id\u001b[39m\u001b[38;5;124m'\u001b[39m)\u001b[38;5;241m.\u001b[39mfirst()\u001b[38;5;241m.\u001b[39mreset_index()\n",
      "File \u001b[0;32m~/Documents/projects/skytruth/cerulean-cloud/notebooks/logger_utils.py:170\u001b[0m, in \u001b[0;36mquery_logger\u001b[0;34m(project_id, query, page_size)\u001b[0m\n\u001b[1;32m    166\u001b[0m logs \u001b[38;5;241m=\u001b[39m client\u001b[38;5;241m.\u001b[39mlist_entries(\n\u001b[1;32m    167\u001b[0m     filter_\u001b[38;5;241m=\u001b[39mquery, order_by\u001b[38;5;241m=\u001b[39mlogging\u001b[38;5;241m.\u001b[39mDESCENDING, page_size\u001b[38;5;241m=\u001b[39mpage_size\n\u001b[1;32m    168\u001b[0m )\n\u001b[1;32m    169\u001b[0m log_entries \u001b[38;5;241m=\u001b[39m pd\u001b[38;5;241m.\u001b[39mDataFrame(logs_to_list(logs))\n\u001b[0;32m--> 170\u001b[0m log_entries[\u001b[38;5;124m\"\u001b[39m\u001b[38;5;124mscene_id\u001b[39m\u001b[38;5;124m\"\u001b[39m] \u001b[38;5;241m=\u001b[39m \u001b[43mlog_entries\u001b[49m\u001b[43m[\u001b[49m\u001b[38;5;124;43m\"\u001b[39;49m\u001b[38;5;124;43mjson_payload\u001b[39;49m\u001b[38;5;124;43m\"\u001b[39;49m\u001b[43m]\u001b[49m\u001b[38;5;241m.\u001b[39mapply(\n\u001b[1;32m    171\u001b[0m     \u001b[38;5;28;01mlambda\u001b[39;00m x: x[\u001b[38;5;124m\"\u001b[39m\u001b[38;5;124mscene_id\u001b[39m\u001b[38;5;124m\"\u001b[39m] \u001b[38;5;28;01mif\u001b[39;00m x \u001b[38;5;129;01mis\u001b[39;00m \u001b[38;5;129;01mnot\u001b[39;00m \u001b[38;5;28;01mNone\u001b[39;00m \u001b[38;5;129;01mand\u001b[39;00m \u001b[38;5;124m\"\u001b[39m\u001b[38;5;124mscene_id\u001b[39m\u001b[38;5;124m\"\u001b[39m \u001b[38;5;129;01min\u001b[39;00m x \u001b[38;5;28;01melse\u001b[39;00m \u001b[38;5;28;01mNone\u001b[39;00m\n\u001b[1;32m    172\u001b[0m )\n\u001b[1;32m    173\u001b[0m log_entries[\u001b[38;5;124m\"\u001b[39m\u001b[38;5;124mmessage\u001b[39m\u001b[38;5;124m\"\u001b[39m] \u001b[38;5;241m=\u001b[39m log_entries[\u001b[38;5;124m\"\u001b[39m\u001b[38;5;124mjson_payload\u001b[39m\u001b[38;5;124m\"\u001b[39m]\u001b[38;5;241m.\u001b[39mapply(\n\u001b[1;32m    174\u001b[0m     \u001b[38;5;28;01mlambda\u001b[39;00m x: x[\u001b[38;5;124m\"\u001b[39m\u001b[38;5;124mmessage\u001b[39m\u001b[38;5;124m\"\u001b[39m] \u001b[38;5;28;01mif\u001b[39;00m x \u001b[38;5;129;01mis\u001b[39;00m \u001b[38;5;129;01mnot\u001b[39;00m \u001b[38;5;28;01mNone\u001b[39;00m \u001b[38;5;129;01mand\u001b[39;00m \u001b[38;5;124m\"\u001b[39m\u001b[38;5;124mmessage\u001b[39m\u001b[38;5;124m\"\u001b[39m \u001b[38;5;129;01min\u001b[39;00m x \u001b[38;5;28;01melse\u001b[39;00m \u001b[38;5;28;01mNone\u001b[39;00m\n\u001b[1;32m    175\u001b[0m )\n\u001b[1;32m    176\u001b[0m \u001b[38;5;28;01mreturn\u001b[39;00m log_entries\n",
      "File \u001b[0;32m~/Documents/projects/skytruth/cerulean-cloud/suzy-playground/.venv/lib/python3.12/site-packages/pandas/core/frame.py:4102\u001b[0m, in \u001b[0;36mDataFrame.__getitem__\u001b[0;34m(self, key)\u001b[0m\n\u001b[1;32m   4100\u001b[0m \u001b[38;5;28;01mif\u001b[39;00m \u001b[38;5;28mself\u001b[39m\u001b[38;5;241m.\u001b[39mcolumns\u001b[38;5;241m.\u001b[39mnlevels \u001b[38;5;241m>\u001b[39m \u001b[38;5;241m1\u001b[39m:\n\u001b[1;32m   4101\u001b[0m     \u001b[38;5;28;01mreturn\u001b[39;00m \u001b[38;5;28mself\u001b[39m\u001b[38;5;241m.\u001b[39m_getitem_multilevel(key)\n\u001b[0;32m-> 4102\u001b[0m indexer \u001b[38;5;241m=\u001b[39m \u001b[38;5;28;43mself\u001b[39;49m\u001b[38;5;241;43m.\u001b[39;49m\u001b[43mcolumns\u001b[49m\u001b[38;5;241;43m.\u001b[39;49m\u001b[43mget_loc\u001b[49m\u001b[43m(\u001b[49m\u001b[43mkey\u001b[49m\u001b[43m)\u001b[49m\n\u001b[1;32m   4103\u001b[0m \u001b[38;5;28;01mif\u001b[39;00m is_integer(indexer):\n\u001b[1;32m   4104\u001b[0m     indexer \u001b[38;5;241m=\u001b[39m [indexer]\n",
      "File \u001b[0;32m~/Documents/projects/skytruth/cerulean-cloud/suzy-playground/.venv/lib/python3.12/site-packages/pandas/core/indexes/range.py:417\u001b[0m, in \u001b[0;36mRangeIndex.get_loc\u001b[0;34m(self, key)\u001b[0m\n\u001b[1;32m    415\u001b[0m         \u001b[38;5;28;01mraise\u001b[39;00m \u001b[38;5;167;01mKeyError\u001b[39;00m(key) \u001b[38;5;28;01mfrom\u001b[39;00m \u001b[38;5;21;01merr\u001b[39;00m\n\u001b[1;32m    416\u001b[0m \u001b[38;5;28;01mif\u001b[39;00m \u001b[38;5;28misinstance\u001b[39m(key, Hashable):\n\u001b[0;32m--> 417\u001b[0m     \u001b[38;5;28;01mraise\u001b[39;00m \u001b[38;5;167;01mKeyError\u001b[39;00m(key)\n\u001b[1;32m    418\u001b[0m \u001b[38;5;28mself\u001b[39m\u001b[38;5;241m.\u001b[39m_check_indexing_error(key)\n\u001b[1;32m    419\u001b[0m \u001b[38;5;28;01mraise\u001b[39;00m \u001b[38;5;167;01mKeyError\u001b[39;00m(key)\n",
      "\u001b[0;31mKeyError\u001b[0m: 'json_payload'"
     ]
    }
   ],
   "source": [
    "start_time = datetime.datetime.now() - datetime.timedelta(days=1)\n",
    "query = log_query(service_name, revision_name=revision_name, jsonPayload={\"message\": \"Initiating Orchestrator\"}, start_time=start_time)\n",
    "start_logs = query_logger(project_id, query).groupby('scene_id').first().reset_index()\n",
    "query = log_query(service_name, revision_name=revision_name, jsonPayload={\"message\": \"Orchestration complete!\"}, start_time=start_time)\n",
    "finish_logs = query_logger(project_id, query).groupby('scene_id').first().reset_index()\n",
    "\n",
    "scenes_started = set(start_logs['json_payload'].apply(lambda x: x['scene_id']).unique())\n",
    "scenes_finished = set(finish_logs['json_payload'].apply(lambda x: x['scene_id']).unique())\n",
    "\n",
    "scenes_started - scenes_finished"
   ]
  },
  {
   "cell_type": "markdown",
   "id": "d76635ac-0d36-42ca-96f7-d4c80f3adbfd",
   "metadata": {},
   "source": [
    "# Get logs for one scene"
   ]
  },
  {
   "cell_type": "code",
   "execution_count": null,
   "id": "7e2118b7-2318-40c3-b45d-6e0c5f111c53",
   "metadata": {},
   "outputs": [],
   "source": [
    "logs = get_scene_log_stats(project_id, service_name, revision_name, \"S1A_IW_GRDH_1SDV_20230420T175150_20230420T175215_048183_05CB0C_A2E1\")\n",
    "logs['timestamp'] = logs['timestamp'].dt.tz_convert(\"US/Arizona\")\n",
    "logs.head()"
   ]
  },
  {
   "cell_type": "markdown",
   "id": "b6f3a694-bcd2-4c47-811a-9a43b6f9c540",
   "metadata": {},
   "source": [
    "# Generate a log file\n",
    "This will save a log file from the above logs (log.txt) which shows logs with most recent first"
   ]
  },
  {
   "cell_type": "code",
   "execution_count": null,
   "id": "40a32064-6501-4a7d-bd80-5f9691eeebff",
   "metadata": {},
   "outputs": [],
   "source": [
    "# saves file as log.txt\n",
    "generate_log_file(logs, filename=\"log.txt\")"
   ]
  },
  {
   "cell_type": "markdown",
   "id": "9cb22e7e-ab59-4392-8382-896632b474a1",
   "metadata": {},
   "source": [
    "# Get all Errors and Warnings"
   ]
  },
  {
   "cell_type": "code",
   "execution_count": null,
   "id": "4d8c0a0e-5dfa-4101-b685-6e8d3db877fc",
   "metadata": {},
   "outputs": [],
   "source": [
    "# set start time to 1 day ago\n",
    "start_time = datetime.datetime.now(datetime.UTC) - datetime.timedelta(days=1)\n",
    "\n",
    "# revision name\n",
    "revision_name = \"cerulean-cloud-test-cr-orchestrator-00026-jzz\"\n",
    "\n",
    "query = log_query(service_name, revision_name=revision_name, start_time=start_time, min_severity=\"WARNING\")\n",
    "logs = query_logger(project_id, query, df=True)\n",
    "\n",
    "# filter for only logs created with our manual logger (if the error isn't caught by our logging, this line should be removed)\n",
    "logs = logs[logs['instanceId'].isnull()==False]\n",
    "\n",
    "print(len(logs))\n",
    "display(logs.head())"
   ]
  },
  {
   "cell_type": "code",
   "execution_count": null,
   "id": "7b6f7e7e-eef6-4670-b004-b5e0af9ff761",
   "metadata": {},
   "outputs": [],
   "source": [
    "generate_log_file(logs, filename=\"log.txt\")"
   ]
  },
  {
   "cell_type": "markdown",
   "id": "e2c275ac-ea42-4650-91b8-7203a4c4f8b3",
   "metadata": {},
   "source": [
    "# Get all logs for revision \n",
    "(only for testing small number of tiles or this will be very large and probably crash)"
   ]
  },
  {
   "cell_type": "code",
   "execution_count": null,
   "id": "5539829e-45da-4f6a-985e-3fa9ee59b71f",
   "metadata": {},
   "outputs": [],
   "source": [
    "# set start time to 1 day ago\n",
    "start_time = datetime.datetime.now(datetime.UTC) - datetime.timedelta(days=1)\n",
    "\n",
    "query = log_query(service_name, revision_name=revision_name, start_time=start_time, min_severity=\"INFO\")\n",
    "logs = query_logger(project_id, query, df=True)\n",
    "print(len(logs))\n",
    "\n",
    "display(logs.head())"
   ]
  },
  {
   "cell_type": "markdown",
   "id": "7dbb8beb-6416-412d-8d5a-eeba866acd58",
   "metadata": {},
   "source": [
    "# Get all logs for Instance \n"
   ]
  },
  {
   "cell_type": "code",
   "execution_count": null,
   "id": "012b9eca-b503-47bc-8dca-da37b6bd65c8",
   "metadata": {},
   "outputs": [],
   "source": [
    "# set start time to 1 day ago\n",
    "start_time = datetime.datetime.now(datetime.UTC) - datetime.timedelta(days=1)\n",
    "\n",
    "# revision name\n",
    "instance_id = \"0066d92480de9d8567d5770b9572af423760fcb7c2664ac04080bd831797dffdb0e212ff7d524bdaa59e88e565366cef8de5cb17efbb517960cecdd5532586132bbde998c6ec\"\n",
    "\n",
    "query = log_query(service_name, instance_id=instance_id, start_time=start_time, min_severity=\"INFO\")\n",
    "logs = query_logger(project_id, query, df=True)\n",
    "print(len(logs))\n",
    "\n",
    "display(logs.head())"
   ]
  },
  {
   "cell_type": "markdown",
   "id": "a5e4b49e-dfae-4f9c-8390-9c6fa53bf5ee",
   "metadata": {},
   "source": [
    "# Get logs with specific message"
   ]
  },
  {
   "cell_type": "code",
   "execution_count": 13,
   "id": "3e6a82dd-1bda-409f-8671-c1d34da8d640",
   "metadata": {},
   "outputs": [
    {
     "ename": "KeyError",
     "evalue": "'json_payload'",
     "output_type": "error",
     "traceback": [
      "\u001b[0;31m---------------------------------------------------------------------------\u001b[0m",
      "\u001b[0;31mKeyError\u001b[0m                                  Traceback (most recent call last)",
      "Cell \u001b[0;32mIn[13], line 4\u001b[0m\n\u001b[1;32m      1\u001b[0m start_time \u001b[38;5;241m=\u001b[39m datetime\u001b[38;5;241m.\u001b[39mdatetime\u001b[38;5;241m.\u001b[39mnow() \u001b[38;5;241m-\u001b[39m datetime\u001b[38;5;241m.\u001b[39mtimedelta(days\u001b[38;5;241m=\u001b[39m\u001b[38;5;241m1\u001b[39m)\n\u001b[1;32m      2\u001b[0m query \u001b[38;5;241m=\u001b[39m log_query(service_name, revision_name\u001b[38;5;241m=\u001b[39mrevision_name, jsonPayload\u001b[38;5;241m=\u001b[39m{\u001b[38;5;124m\"\u001b[39m\u001b[38;5;124mmessage\u001b[39m\u001b[38;5;124m\"\u001b[39m: \u001b[38;5;124m\"\u001b[39m\u001b[38;5;124mMEMORY USAGE 2\u001b[39m\u001b[38;5;124m\"\u001b[39m}, start_time\u001b[38;5;241m=\u001b[39mstart_time)\n\u001b[0;32m----> 4\u001b[0m mem_logs \u001b[38;5;241m=\u001b[39m \u001b[43mquery_logger\u001b[49m\u001b[43m(\u001b[49m\u001b[43mproject_id\u001b[49m\u001b[43m,\u001b[49m\u001b[43m \u001b[49m\u001b[43mquery\u001b[49m\u001b[43m)\u001b[49m\u001b[38;5;241m.\u001b[39mgroupby(\u001b[38;5;124m'\u001b[39m\u001b[38;5;124mscene_id\u001b[39m\u001b[38;5;124m'\u001b[39m)\u001b[38;5;241m.\u001b[39mfirst()\u001b[38;5;241m.\u001b[39mreset_index()\n",
      "File \u001b[0;32m~/Documents/projects/skytruth/cerulean-cloud/notebooks/logger_utils.py:170\u001b[0m, in \u001b[0;36mquery_logger\u001b[0;34m(project_id, query, page_size)\u001b[0m\n\u001b[1;32m    166\u001b[0m logs \u001b[38;5;241m=\u001b[39m client\u001b[38;5;241m.\u001b[39mlist_entries(\n\u001b[1;32m    167\u001b[0m     filter_\u001b[38;5;241m=\u001b[39mquery, order_by\u001b[38;5;241m=\u001b[39mlogging\u001b[38;5;241m.\u001b[39mDESCENDING, page_size\u001b[38;5;241m=\u001b[39mpage_size\n\u001b[1;32m    168\u001b[0m )\n\u001b[1;32m    169\u001b[0m log_entries \u001b[38;5;241m=\u001b[39m pd\u001b[38;5;241m.\u001b[39mDataFrame(logs_to_list(logs))\n\u001b[0;32m--> 170\u001b[0m log_entries[\u001b[38;5;124m\"\u001b[39m\u001b[38;5;124mscene_id\u001b[39m\u001b[38;5;124m\"\u001b[39m] \u001b[38;5;241m=\u001b[39m \u001b[43mlog_entries\u001b[49m\u001b[43m[\u001b[49m\u001b[38;5;124;43m\"\u001b[39;49m\u001b[38;5;124;43mjson_payload\u001b[39;49m\u001b[38;5;124;43m\"\u001b[39;49m\u001b[43m]\u001b[49m\u001b[38;5;241m.\u001b[39mapply(\n\u001b[1;32m    171\u001b[0m     \u001b[38;5;28;01mlambda\u001b[39;00m x: x[\u001b[38;5;124m\"\u001b[39m\u001b[38;5;124mscene_id\u001b[39m\u001b[38;5;124m\"\u001b[39m] \u001b[38;5;28;01mif\u001b[39;00m x \u001b[38;5;129;01mis\u001b[39;00m \u001b[38;5;129;01mnot\u001b[39;00m \u001b[38;5;28;01mNone\u001b[39;00m \u001b[38;5;129;01mand\u001b[39;00m \u001b[38;5;124m\"\u001b[39m\u001b[38;5;124mscene_id\u001b[39m\u001b[38;5;124m\"\u001b[39m \u001b[38;5;129;01min\u001b[39;00m x \u001b[38;5;28;01melse\u001b[39;00m \u001b[38;5;28;01mNone\u001b[39;00m\n\u001b[1;32m    172\u001b[0m )\n\u001b[1;32m    173\u001b[0m log_entries[\u001b[38;5;124m\"\u001b[39m\u001b[38;5;124mmessage\u001b[39m\u001b[38;5;124m\"\u001b[39m] \u001b[38;5;241m=\u001b[39m log_entries[\u001b[38;5;124m\"\u001b[39m\u001b[38;5;124mjson_payload\u001b[39m\u001b[38;5;124m\"\u001b[39m]\u001b[38;5;241m.\u001b[39mapply(\n\u001b[1;32m    174\u001b[0m     \u001b[38;5;28;01mlambda\u001b[39;00m x: x[\u001b[38;5;124m\"\u001b[39m\u001b[38;5;124mmessage\u001b[39m\u001b[38;5;124m\"\u001b[39m] \u001b[38;5;28;01mif\u001b[39;00m x \u001b[38;5;129;01mis\u001b[39;00m \u001b[38;5;129;01mnot\u001b[39;00m \u001b[38;5;28;01mNone\u001b[39;00m \u001b[38;5;129;01mand\u001b[39;00m \u001b[38;5;124m\"\u001b[39m\u001b[38;5;124mmessage\u001b[39m\u001b[38;5;124m\"\u001b[39m \u001b[38;5;129;01min\u001b[39;00m x \u001b[38;5;28;01melse\u001b[39;00m \u001b[38;5;28;01mNone\u001b[39;00m\n\u001b[1;32m    175\u001b[0m )\n\u001b[1;32m    176\u001b[0m \u001b[38;5;28;01mreturn\u001b[39;00m log_entries\n",
      "File \u001b[0;32m~/Documents/projects/skytruth/cerulean-cloud/suzy-playground/.venv/lib/python3.12/site-packages/pandas/core/frame.py:4102\u001b[0m, in \u001b[0;36mDataFrame.__getitem__\u001b[0;34m(self, key)\u001b[0m\n\u001b[1;32m   4100\u001b[0m \u001b[38;5;28;01mif\u001b[39;00m \u001b[38;5;28mself\u001b[39m\u001b[38;5;241m.\u001b[39mcolumns\u001b[38;5;241m.\u001b[39mnlevels \u001b[38;5;241m>\u001b[39m \u001b[38;5;241m1\u001b[39m:\n\u001b[1;32m   4101\u001b[0m     \u001b[38;5;28;01mreturn\u001b[39;00m \u001b[38;5;28mself\u001b[39m\u001b[38;5;241m.\u001b[39m_getitem_multilevel(key)\n\u001b[0;32m-> 4102\u001b[0m indexer \u001b[38;5;241m=\u001b[39m \u001b[38;5;28;43mself\u001b[39;49m\u001b[38;5;241;43m.\u001b[39;49m\u001b[43mcolumns\u001b[49m\u001b[38;5;241;43m.\u001b[39;49m\u001b[43mget_loc\u001b[49m\u001b[43m(\u001b[49m\u001b[43mkey\u001b[49m\u001b[43m)\u001b[49m\n\u001b[1;32m   4103\u001b[0m \u001b[38;5;28;01mif\u001b[39;00m is_integer(indexer):\n\u001b[1;32m   4104\u001b[0m     indexer \u001b[38;5;241m=\u001b[39m [indexer]\n",
      "File \u001b[0;32m~/Documents/projects/skytruth/cerulean-cloud/suzy-playground/.venv/lib/python3.12/site-packages/pandas/core/indexes/range.py:417\u001b[0m, in \u001b[0;36mRangeIndex.get_loc\u001b[0;34m(self, key)\u001b[0m\n\u001b[1;32m    415\u001b[0m         \u001b[38;5;28;01mraise\u001b[39;00m \u001b[38;5;167;01mKeyError\u001b[39;00m(key) \u001b[38;5;28;01mfrom\u001b[39;00m \u001b[38;5;21;01merr\u001b[39;00m\n\u001b[1;32m    416\u001b[0m \u001b[38;5;28;01mif\u001b[39;00m \u001b[38;5;28misinstance\u001b[39m(key, Hashable):\n\u001b[0;32m--> 417\u001b[0m     \u001b[38;5;28;01mraise\u001b[39;00m \u001b[38;5;167;01mKeyError\u001b[39;00m(key)\n\u001b[1;32m    418\u001b[0m \u001b[38;5;28mself\u001b[39m\u001b[38;5;241m.\u001b[39m_check_indexing_error(key)\n\u001b[1;32m    419\u001b[0m \u001b[38;5;28;01mraise\u001b[39;00m \u001b[38;5;167;01mKeyError\u001b[39;00m(key)\n",
      "\u001b[0;31mKeyError\u001b[0m: 'json_payload'"
     ]
    }
   ],
   "source": [
    "start_time = datetime.datetime.now() - datetime.timedelta(days=1)\n",
    "query = log_query(service_name, revision_name=revision_name, jsonPayload={\"message\": \"MEMORY USAGE 2\"}, start_time=start_time)\n",
    "\n",
    "mem_logs = query_logger(project_id, query).groupby('scene_id').first().reset_index()"
   ]
  },
  {
   "cell_type": "code",
   "execution_count": null,
   "id": "4ddf6eb9-6f7a-4e38-84e1-6998c97366da",
   "metadata": {},
   "outputs": [],
   "source": []
  },
  {
   "cell_type": "code",
   "execution_count": null,
   "id": "d235c72c-350c-4fc0-9c53-754cb11232d6",
   "metadata": {},
   "outputs": [],
   "source": []
  },
  {
   "cell_type": "markdown",
   "id": "a3ddb35a-cb79-48ee-b048-f3c8f6f75f20",
   "metadata": {},
   "source": [
    "# Old Logs\n",
    "(This is for the logs prior to structuring and creating jsonPayloads)"
   ]
  },
  {
   "cell_type": "code",
   "execution_count": null,
   "id": "83ed5a34-279f-4ed1-acbc-6b86bd6c4165",
   "metadata": {},
   "outputs": [],
   "source": [
    "from google.cloud import logging\n",
    "import datetime\n",
    "import pytz\n",
    "import pandas as pd\n",
    "import re\n",
    "\n",
    "from logger_utils import log_query, query_logger, generate_log_file\n",
    "\n",
    "project_id = \"cerulean-338116\"\n",
    "service_name = \"cerulean-cloud-prod20240903-cr-orchestrator\"\n",
    "revision_name = \"cerulean-cloud-prod20240903-cr-orchestrator-00021-zjd\""
   ]
  },
  {
   "cell_type": "code",
   "execution_count": null,
   "id": "6e285b80-e150-4bdd-9f26-33188fd5c9ad",
   "metadata": {},
   "outputs": [],
   "source": [
    "start_time = datetime.datetime.now(datetime.UTC) - datetime.timedelta(days=5)\n",
    "end_time = datetime.datetime.now()\n",
    "\n",
    "query = log_query(service_name, revision_name=revision_name, start_time=start_time, end_time=end_time, textPayload=\"Memory limit\")\n",
    "logs = query_logger(project_id, query, df=True)\n",
    "print(len(logs))\n",
    "\n",
    "logs.head()"
   ]
  },
  {
   "cell_type": "code",
   "execution_count": null,
   "id": "ba03b384-5b1a-4a3d-9deb-d417f2fed77a",
   "metadata": {},
   "outputs": [],
   "source": [
    "i = 10\n",
    "row = logs.iloc[i].to_dict()\n",
    "\n",
    "start_time = row['timestamp'] - datetime.timedelta(hours=1.5)\n",
    "end_time = row['timestamp']\n",
    "instance_id = row['instanceId']\n",
    "\n",
    "query = log_query(service_name, revision_name=revision_name, instance_id=instance_id, start_time=start_time, end_time=end_time, textPayload=\"sceneid\")\n",
    "logs1 = query_logger(project_id, query, df=True)\n",
    "print(len(logs1))\n",
    "\n",
    "tmp = logs1[logs1['text_payload'].str.contains('sceneid=', na=False)]\n",
    "tmp['sceneid'] = tmp['text_payload'].apply(lambda x: x.split('sceneid=')[1].split('&')[0].split(' ')[0])\n",
    "tmp['sceneid'].unique()"
   ]
  },
  {
   "cell_type": "code",
   "execution_count": null,
   "id": "1a70b01a-f132-4ddc-bffa-7b16139ee107",
   "metadata": {},
   "outputs": [],
   "source": []
  },
  {
   "cell_type": "code",
   "execution_count": null,
   "id": "42cdfbb4-add5-4fa6-8e88-6451fe237b35",
   "metadata": {},
   "outputs": [],
   "source": []
  }
 ],
 "metadata": {
  "kernelspec": {
   "display_name": "Python 3 (ipykernel)",
   "language": "python",
   "name": "python3"
  },
  "language_info": {
   "codemirror_mode": {
    "name": "ipython",
    "version": 3
   },
   "file_extension": ".py",
   "mimetype": "text/x-python",
   "name": "python",
   "nbconvert_exporter": "python",
   "pygments_lexer": "ipython3",
   "version": "3.12.0"
  }
 },
 "nbformat": 4,
 "nbformat_minor": 5
}
